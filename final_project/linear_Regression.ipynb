{
 "cells": [
  {
   "cell_type": "markdown",
   "metadata": {},
   "source": [
    "# Linear Regression Analysis of final project"
   ]
  },
  {
   "cell_type": "markdown",
   "metadata": {},
   "source": [
    "## 0. Packages and Loading data"
   ]
  },
  {
   "cell_type": "code",
   "execution_count": 8,
   "metadata": {
    "collapsed": true
   },
   "outputs": [],
   "source": [
    "# Handle table-like data and matrices calculation\n",
    "import numpy as np\n",
    "import scipy as sp\n",
    "import pandas as pd\n",
    "\n",
    "\n",
    "# Visualisation\n",
    "import matplotlib.pyplot as plt\n",
    "import seaborn as sns\n",
    "\n",
    "\n",
    "# Modelling Algorithms\n",
    "# I will look at only four classification algorithms: LogisticRegression, GaussianNB, SVM, RandomForestClassifier\n",
    "from sklearn.linear_model import Lasso\n",
    "from sklearn.linear_model import LinearRegression\n",
    "from sklearn.linear_model import Ridge\n",
    "from sklearn.linear_model import ElasticNet\n",
    "from sklearn.model_selection import train_test_split\n",
    "from sklearn.model_selection import KFold\n",
    "from sklearn.model_selection import cross_val_score\n",
    "from sklearn.model_selection import GridSearchCV\n",
    "from sklearn.tree import DecisionTreeRegressor\n",
    "from sklearn.neighbors import KNeighborsRegressor\n",
    "from sklearn.svm import SVR\n",
    "from sklearn.pipeline import Pipeline\n",
    "from sklearn.pipeline import FeatureUnion\n",
    "from sklearn.decomposition import PCA\n",
    "from sklearn.feature_selection import SelectKBest\n",
    "from sklearn.ensemble import GradientBoostingRegressor\n",
    "\n",
    "\n",
    "# Modelling Helpers\n",
    "from sklearn.preprocessing import Imputer , Normalizer , scale, StandardScaler\n",
    "# from sklearn.cross_validation import train_test_split , StratifiedKFold\n",
    "from sklearn.feature_selection import RFECV\n",
    "from sklearn.metrics import accuracy_score\n",
    "from sklearn.metrics import mean_squared_error\n",
    "\n",
    "%matplotlib inline\n",
    "%config InlineBackend.figure_format = 'retina'\n",
    "\n",
    "pd.set_option('display.width', 500)\n",
    "pd.set_option('display.max_columns', 100)\n",
    "pd.set_option('display.notebook_repr_html', True)"
   ]
  },
  {
   "cell_type": "code",
   "execution_count": 9,
   "metadata": {
    "collapsed": true
   },
   "outputs": [],
   "source": [
    "## Some useful functions\n",
    "\n",
    "def print_columns(df):\n",
    "    print \"There are\",df.shape[1],'columns'\n",
    "    print \"They are:\"\n",
    "    for i in df.columns.values:\n",
    "        print i\n",
    "        \n",
    "def list_null(df):\n",
    "    print df.shape[1],' columns:'\n",
    "    for i in df.columns.values:\n",
    "        print i,': number of nan: ',df[i].isnull().sum(),', ',df[i].dtypes"
   ]
  },
  {
   "cell_type": "code",
   "execution_count": 10,
   "metadata": {
    "collapsed": true
   },
   "outputs": [],
   "source": [
    "## This is our original dataset\n",
    "\n",
    "origin1=pd.read_csv('data1.csv',sep=',',index_col=0)"
   ]
  },
  {
   "cell_type": "code",
   "execution_count": 11,
   "metadata": {
    "collapsed": false
   },
   "outputs": [
    {
     "data": {
      "text/html": [
       "<div>\n",
       "<table border=\"1\" class=\"dataframe\">\n",
       "  <thead>\n",
       "    <tr style=\"text-align: right;\">\n",
       "      <th></th>\n",
       "      <th>Happiness</th>\n",
       "      <th>Log GDP per capita</th>\n",
       "      <th>Confidence in national government</th>\n",
       "      <th>Social support</th>\n",
       "      <th>Healthy life expectancy at birth</th>\n",
       "      <th>Generosity</th>\n",
       "      <th>GINI index (World Bank estimate), average 2000-13</th>\n",
       "      <th>child</th>\n",
       "      <th>healthExp</th>\n",
       "      <th>publicEdu</th>\n",
       "      <th>ave_visitor</th>\n",
       "      <th>income</th>\n",
       "      <th>homicide</th>\n",
       "      <th>ecoFree</th>\n",
       "      <th>uniEnro</th>\n",
       "      <th>alcohol</th>\n",
       "      <th>unemploy</th>\n",
       "      <th>food</th>\n",
       "      <th>suicide</th>\n",
       "      <th>visitor</th>\n",
       "    </tr>\n",
       "  </thead>\n",
       "  <tbody>\n",
       "    <tr>\n",
       "      <th>0</th>\n",
       "      <td>3.782938</td>\n",
       "      <td>7.549241</td>\n",
       "      <td>0.435440</td>\n",
       "      <td>0.520637</td>\n",
       "      <td>48.738346</td>\n",
       "      <td>0.247900</td>\n",
       "      <td>0.300000</td>\n",
       "      <td>99.5</td>\n",
       "      <td>58.0</td>\n",
       "      <td>3.1</td>\n",
       "      <td>0.000000</td>\n",
       "      <td>512</td>\n",
       "      <td>6.6</td>\n",
       "      <td>1.0</td>\n",
       "      <td>4.0</td>\n",
       "      <td>0.01</td>\n",
       "      <td>8.5</td>\n",
       "      <td>2100.0</td>\n",
       "      <td>5.7</td>\n",
       "      <td>0</td>\n",
       "    </tr>\n",
       "    <tr>\n",
       "      <th>1</th>\n",
       "      <td>5.510124</td>\n",
       "      <td>9.189268</td>\n",
       "      <td>0.364894</td>\n",
       "      <td>0.784502</td>\n",
       "      <td>67.942978</td>\n",
       "      <td>-0.169465</td>\n",
       "      <td>0.305000</td>\n",
       "      <td>15.5</td>\n",
       "      <td>240.0</td>\n",
       "      <td>3.5</td>\n",
       "      <td>115.182482</td>\n",
       "      <td>4245</td>\n",
       "      <td>5.5</td>\n",
       "      <td>65.1</td>\n",
       "      <td>58.6</td>\n",
       "      <td>5.14</td>\n",
       "      <td>13.9</td>\n",
       "      <td>3023.0</td>\n",
       "      <td>5.9</td>\n",
       "      <td>3156000</td>\n",
       "    </tr>\n",
       "    <tr>\n",
       "      <th>2</th>\n",
       "      <td>5.604596</td>\n",
       "      <td>9.487703</td>\n",
       "      <td>0.447821</td>\n",
       "      <td>0.839397</td>\n",
       "      <td>64.001305</td>\n",
       "      <td>-0.198894</td>\n",
       "      <td>0.388313</td>\n",
       "      <td>26.1</td>\n",
       "      <td>335.0</td>\n",
       "      <td>4.3</td>\n",
       "      <td>1.105914</td>\n",
       "      <td>4532</td>\n",
       "      <td>1.3</td>\n",
       "      <td>51.0</td>\n",
       "      <td>32.2</td>\n",
       "      <td>0.66</td>\n",
       "      <td>11.0</td>\n",
       "      <td>3272.0</td>\n",
       "      <td>1.9</td>\n",
       "      <td>2634000</td>\n",
       "    </tr>\n",
       "    <tr>\n",
       "      <th>3</th>\n",
       "      <td>4.360250</td>\n",
       "      <td>8.886378</td>\n",
       "      <td>0.237091</td>\n",
       "      <td>0.752593</td>\n",
       "      <td>44.400314</td>\n",
       "      <td>-0.138073</td>\n",
       "      <td>0.473400</td>\n",
       "      <td>172.2</td>\n",
       "      <td>168.0</td>\n",
       "      <td>3.4</td>\n",
       "      <td>0.423518</td>\n",
       "      <td>3505</td>\n",
       "      <td>9.8</td>\n",
       "      <td>46.7</td>\n",
       "      <td>6.9</td>\n",
       "      <td>8.24</td>\n",
       "      <td>6.9</td>\n",
       "      <td>2384.0</td>\n",
       "      <td>13.8</td>\n",
       "      <td>528000</td>\n",
       "    </tr>\n",
       "    <tr>\n",
       "      <th>4</th>\n",
       "      <td>6.468387</td>\n",
       "      <td>9.805600</td>\n",
       "      <td>0.418255</td>\n",
       "      <td>0.901776</td>\n",
       "      <td>66.838005</td>\n",
       "      <td>-0.160000</td>\n",
       "      <td>0.479421</td>\n",
       "      <td>13.8</td>\n",
       "      <td>727.0</td>\n",
       "      <td>5.1</td>\n",
       "      <td>2.041517</td>\n",
       "      <td>10391</td>\n",
       "      <td>6.6</td>\n",
       "      <td>48.0</td>\n",
       "      <td>79.0</td>\n",
       "      <td>8.35</td>\n",
       "      <td>7.2</td>\n",
       "      <td>3155.0</td>\n",
       "      <td>10.3</td>\n",
       "      <td>5587000</td>\n",
       "    </tr>\n",
       "  </tbody>\n",
       "</table>\n",
       "</div>"
      ],
      "text/plain": [
       "   Happiness  Log GDP per capita  Confidence in national government  Social support  Healthy life expectancy at birth  Generosity  GINI index (World Bank estimate), average 2000-13  child  healthExp  publicEdu  ave_visitor  income  homicide  ecoFree  uniEnro  alcohol  unemploy    food  suicide  visitor\n",
       "0   3.782938            7.549241                           0.435440        0.520637                         48.738346    0.247900                                           0.300000   99.5       58.0        3.1     0.000000     512       6.6      1.0      4.0     0.01       8.5  2100.0      5.7        0\n",
       "1   5.510124            9.189268                           0.364894        0.784502                         67.942978   -0.169465                                           0.305000   15.5      240.0        3.5   115.182482    4245       5.5     65.1     58.6     5.14      13.9  3023.0      5.9  3156000\n",
       "2   5.604596            9.487703                           0.447821        0.839397                         64.001305   -0.198894                                           0.388313   26.1      335.0        4.3     1.105914    4532       1.3     51.0     32.2     0.66      11.0  3272.0      1.9  2634000\n",
       "3   4.360250            8.886378                           0.237091        0.752593                         44.400314   -0.138073                                           0.473400  172.2      168.0        3.4     0.423518    3505       9.8     46.7      6.9     8.24       6.9  2384.0     13.8   528000\n",
       "4   6.468387            9.805600                           0.418255        0.901776                         66.838005   -0.160000                                           0.479421   13.8      727.0        5.1     2.041517   10391       6.6     48.0     79.0     8.35       7.2  3155.0     10.3  5587000"
      ]
     },
     "execution_count": 11,
     "metadata": {},
     "output_type": "execute_result"
    }
   ],
   "source": [
    "origin1.head()"
   ]
  },
  {
   "cell_type": "code",
   "execution_count": 12,
   "metadata": {
    "collapsed": false
   },
   "outputs": [
    {
     "name": "stdout",
     "output_type": "stream",
     "text": [
      "There are 20 columns\n",
      "They are:\n",
      "Happiness\n",
      "Log GDP per capita\n",
      "Confidence in national government\n",
      "Social support\n",
      "Healthy life expectancy at birth\n",
      "Generosity\n",
      "GINI index (World Bank estimate), average 2000-13\n",
      "child\n",
      "healthExp\n",
      "publicEdu\n",
      "ave_visitor\n",
      "income\n",
      "homicide\n",
      "ecoFree\n",
      "uniEnro\n",
      "alcohol\n",
      "unemploy\n",
      "food\n",
      "suicide\n",
      "visitor\n"
     ]
    }
   ],
   "source": [
    "print_columns(origin1)"
   ]
  },
  {
   "cell_type": "markdown",
   "metadata": {},
   "source": [
    "Now let's rename the name of columns in order to make it easy to use in our model calculation "
   ]
  },
  {
   "cell_type": "code",
   "execution_count": 13,
   "metadata": {
    "collapsed": true
   },
   "outputs": [],
   "source": [
    "reorigin=origin1.rename(columns={'Log GDP per capita':'gdp','GINI index (World Bank estimate), average 2000-13':'gini','Confidence in national government':'confidence',\n",
    "                                'Social support':'social_support','Healthy life expectancy at birth':'life_expectancy'})"
   ]
  },
  {
   "cell_type": "code",
   "execution_count": 14,
   "metadata": {
    "collapsed": false,
    "scrolled": true
   },
   "outputs": [
    {
     "name": "stdout",
     "output_type": "stream",
     "text": [
      "There are 20 columns\n",
      "They are:\n",
      "Happiness\n",
      "gdp\n",
      "confidence\n",
      "social_support\n",
      "life_expectancy\n",
      "Generosity\n",
      "gini\n",
      "child\n",
      "healthExp\n",
      "publicEdu\n",
      "ave_visitor\n",
      "income\n",
      "homicide\n",
      "ecoFree\n",
      "uniEnro\n",
      "alcohol\n",
      "unemploy\n",
      "food\n",
      "suicide\n",
      "visitor\n"
     ]
    }
   ],
   "source": [
    "print_columns(reorigin)"
   ]
  },
  {
   "cell_type": "markdown",
   "metadata": {},
   "source": [
    "## 1. Train and test data"
   ]
  },
  {
   "cell_type": "code",
   "execution_count": 49,
   "metadata": {
    "collapsed": false
   },
   "outputs": [],
   "source": [
    "## This line, we used it to seperate independent and dependent varaibles\n",
    "\n",
    "X_df=reorigin.loc[:, reorigin.columns != 'Happiness']\n",
    "Y_df=reorigin['Happiness']"
   ]
  },
  {
   "cell_type": "markdown",
   "metadata": {},
   "source": [
    "For convenience, I also prepare data as numpy array"
   ]
  },
  {
   "cell_type": "code",
   "execution_count": 50,
   "metadata": {
    "collapsed": true
   },
   "outputs": [],
   "source": [
    "array=reorigin.values\n",
    "\n",
    "X_array=array[:,1:]\n",
    "Y_array=array[:,0]"
   ]
  },
  {
   "cell_type": "markdown",
   "metadata": {},
   "source": [
    "Different formats of train and test dataset"
   ]
  },
  {
   "cell_type": "code",
   "execution_count": 51,
   "metadata": {
    "collapsed": true
   },
   "outputs": [],
   "source": [
    "X_traindf,X_testdf,Y_traindf,Y_testdf=train_test_split(X_df,Y_df,test_size=0.33,random_state=7)"
   ]
  },
  {
   "cell_type": "code",
   "execution_count": 52,
   "metadata": {
    "collapsed": false
   },
   "outputs": [],
   "source": [
    "X_train_arr,X_test_arr,Y_train_arr,Y_test_arr=train_test_split(X_array,Y_array,test_size=0.33,random_state=7)"
   ]
  },
  {
   "cell_type": "markdown",
   "metadata": {},
   "source": [
    "## 2. Training model and Feature selection by Statesmodels"
   ]
  },
  {
   "cell_type": "markdown",
   "metadata": {},
   "source": [
    "### 2.1 Training model with full dataset"
   ]
  },
  {
   "cell_type": "code",
   "execution_count": 53,
   "metadata": {
    "collapsed": true
   },
   "outputs": [],
   "source": [
    "## I will use statsmodles, which gives us a comprehensible details\n",
    "\n",
    "import statsmodels.api as sm\n",
    "from statsmodels.formula.api import ols"
   ]
  },
  {
   "cell_type": "code",
   "execution_count": 54,
   "metadata": {
    "collapsed": false
   },
   "outputs": [],
   "source": [
    "fit1=sm.OLS(Y_traindf,X_traindf).fit()"
   ]
  },
  {
   "cell_type": "code",
   "execution_count": 55,
   "metadata": {
    "collapsed": false
   },
   "outputs": [
    {
     "name": "stdout",
     "output_type": "stream",
     "text": [
      "                            OLS Regression Results                            \n",
      "==============================================================================\n",
      "Dep. Variable:              Happiness   R-squared:                       0.990\n",
      "Model:                            OLS   Adj. R-squared:                  0.988\n",
      "Method:                 Least Squares   F-statistic:                     396.9\n",
      "Date:                Fri, 31 Mar 2017   Prob (F-statistic):           1.57e-66\n",
      "Time:                        12:37:55   Log-Likelihood:                -75.398\n",
      "No. Observations:                  93   AIC:                             188.8\n",
      "Df Residuals:                      74   BIC:                             236.9\n",
      "Df Model:                          19                                         \n",
      "Covariance Type:            nonrobust                                         \n",
      "===================================================================================\n",
      "                      coef    std err          t      P>|t|      [95.0% Conf. Int.]\n",
      "-----------------------------------------------------------------------------------\n",
      "gdp                 0.2302      0.120      1.915      0.059        -0.009     0.470\n",
      "confidence         -0.4562      0.494     -0.923      0.359        -1.441     0.529\n",
      "social_support      2.9243      0.830      3.525      0.001         1.271     4.577\n",
      "life_expectancy     0.0121      0.018      0.662      0.510        -0.024     0.049\n",
      "Generosity         -0.2896      0.518     -0.559      0.578        -1.323     0.743\n",
      "gini                1.2167      0.960      1.267      0.209        -0.697     3.130\n",
      "child              -0.0008      0.003     -0.318      0.751        -0.006     0.004\n",
      "healthExp        3.376e-05      0.000      0.191      0.849        -0.000     0.000\n",
      "publicEdu           0.0380      0.044      0.862      0.392        -0.050     0.126\n",
      "ave_visitor        -0.0001   6.73e-05     -2.206      0.030        -0.000 -1.44e-05\n",
      "income           1.907e-05   2.04e-05      0.935      0.353     -2.16e-05  5.97e-05\n",
      "homicide            0.0042      0.008      0.545      0.587        -0.011     0.019\n",
      "ecoFree             0.0010      0.008      0.132      0.895        -0.014     0.016\n",
      "uniEnro             0.0062      0.004      1.380      0.172        -0.003     0.015\n",
      "alcohol            -0.0513      0.029     -1.762      0.082        -0.109     0.007\n",
      "unemploy           -0.0450      0.013     -3.349      0.001        -0.072    -0.018\n",
      "food              -6.7e-06      0.000     -0.023      0.982        -0.001     0.001\n",
      "suicide            -0.0111      0.012     -0.963      0.339        -0.034     0.012\n",
      "visitor         -3.247e-09   6.26e-09     -0.518      0.606     -1.57e-08  9.23e-09\n",
      "==============================================================================\n",
      "Omnibus:                        0.185   Durbin-Watson:                   2.137\n",
      "Prob(Omnibus):                  0.912   Jarque-Bera (JB):                0.236\n",
      "Skew:                          -0.102   Prob(JB):                        0.889\n",
      "Kurtosis:                       2.862   Cond. No.                     2.37e+08\n",
      "==============================================================================\n",
      "\n",
      "Warnings:\n",
      "[1] Standard Errors assume that the covariance matrix of the errors is correctly specified.\n",
      "[2] The condition number is large, 2.37e+08. This might indicate that there are\n",
      "strong multicollinearity or other numerical problems.\n"
     ]
    }
   ],
   "source": [
    "print fit1.rsquared_adj\n",
    "print fit1.summary()"
   ]
  },
  {
   "cell_type": "markdown",
   "metadata": {},
   "source": [
    "** Comments of our model:**\n",
    "\n",
    "1. **$R^2$**:\n",
    "For our model calculation, we have a surprsingly good $R^2$ and $Adj.R^2$ values. This indicates that our model has a very good fit. This is only show that indeed, there are strong linear relation between ***Happiness***  and other variables. But it doesn't say anything about the feature importance.\n",
    "\n",
    "2. ***F-statstics***:\n"
   ]
  },
  {
   "cell_type": "code",
   "execution_count": 26,
   "metadata": {
    "collapsed": false
   },
   "outputs": [
    {
     "data": {
      "text/plain": [
       "<matplotlib.lines.Line2D at 0x9c66a10>"
      ]
     },
     "execution_count": 26,
     "metadata": {},
     "output_type": "execute_result"
    },
    {
     "data": {
      "image/png": "[encoded data removed]",
      "text/plain": [
       "<matplotlib.figure.Figure at 0x9c66a50>"
      ]
     },
     "metadata": {
      "image/png": {
       "height": 393,
       "width": 469
      }
     },
     "output_type": "display_data"
    }
   ],
   "source": [
    "fig,ax=plt.subplots(1,1,figsize=(5,4))\n",
    "\n",
    "ax.scatter(fit1.fittedvalues,fit1.resid,s=20,c='#313695')\n",
    "ax.set_xlabel('Fitted values')\n",
    "ax.set_ylabel('Residuals')\n",
    "ax.set_title('Residual v.s. Fitted values')\n",
    "\n",
    "ax.axhline(y=0,ls='--',c='#d6604d')"
   ]
  },
  {
   "cell_type": "code",
   "execution_count": 35,
   "metadata": {
    "collapsed": false,
    "scrolled": false
   },
   "outputs": [
    {
     "data": {
      "text/plain": [
       "[<matplotlib.lines.Line2D at 0xa39b0f0>]"
      ]
     },
     "execution_count": 35,
     "metadata": {},
     "output_type": "execute_result"
    },
    {
     "data": {
      "image/png": "[encoded data removed]",
      "text/plain": [
       "<matplotlib.figure.Figure at 0xa1798d0>"
      ]
     },
     "metadata": {
      "image/png": {
       "height": 393,
       "width": 450
      }
     },
     "output_type": "display_data"
    }
   ],
   "source": [
    "fig,ax=plt.subplots(1,1,figsize=(5,4))\n",
    "\n",
    "ax.scatter(fit1.fittedvalues,Y_traindf,s=20,c='#313695')\n",
    "ax.set_xlabel('Fitted values')\n",
    "ax.set_ylabel('Observed values')\n",
    "ax.set_title('Observed v.s. Fitted')\n",
    "ax.set_xlim(2,8)\n",
    "ax.set_ylim(2,8)\n",
    "\n",
    "ax.plot([0,8],[0,8],ls='--',lw=2,c='#d6604d')"
   ]
  },
  {
   "cell_type": "code",
   "execution_count": 47,
   "metadata": {
    "collapsed": false
   },
   "outputs": [
    {
     "data": {
      "text/plain": [
       "<matplotlib.text.Text at 0xa4f09b0>"
      ]
     },
     "execution_count": 47,
     "metadata": {},
     "output_type": "execute_result"
    },
    {
     "data": {
      "image/png": "[encoded data removed]",
      "text/plain": [
       "<matplotlib.figure.Figure at 0xa5922b0>"
      ]
     },
     "metadata": {
      "image/png": {
       "height": 393,
       "width": 458
      }
     },
     "output_type": "display_data"
    }
   ],
   "source": [
    "fig,ax=plt.subplots(1,1,figsize=(5,4))\n",
    "probplot = sm.ProbPlot(fit1.resid)\n",
    "probplot.qqplot(line='45', ax=ax)\n",
    "\n",
    "ax.set_title('Q-Q Plot')\n",
    "\n"
   ]
  },
  {
   "cell_type": "code",
   "execution_count": 45,
   "metadata": {
    "collapsed": false
   },
   "outputs": [
    {
     "data": {
      "image/png": "[encoded data removed]",
      "text/plain": [
       "<matplotlib.figure.Figure at 0xa55acd0>"
      ]
     },
     "metadata": {
      "image/png": {
       "height": 371,
       "width": 442
      }
     },
     "output_type": "display_data"
    }
   ],
   "source": [
    "from scipy import stats\n",
    "\n",
    "fig, ax = plt.subplots(1,1,figsize=(5,4))\n",
    "\n",
    "ax.hist(fit1.resid, bins=20)\n",
    "ax.set_title('Histogram of standardized deviance residuals');"
   ]
  },
  {
   "cell_type": "markdown",
   "metadata": {},
   "source": [
    "**Conclusion 2.1**"
   ]
  },
  {
   "cell_type": "markdown",
   "metadata": {},
   "source": [
    "### 2.2 Feature selections"
   ]
  },
  {
   "cell_type": "markdown",
   "metadata": {
    "collapsed": false
   },
   "source": [
    "Let's start from a null model and make a foward model selection"
   ]
  },
  {
   "cell_type": "code",
   "execution_count": 57,
   "metadata": {
    "collapsed": false
   },
   "outputs": [
    {
     "name": "stdout",
     "output_type": "stream",
     "text": [
      "5.40526390589\n"
     ]
    }
   ],
   "source": [
    "## null model:\n",
    "\n",
    "beta0=Y_traindf.mean()\n",
    "max_r2=0.0\n",
    "print beta0"
   ]
  },
  {
   "cell_type": "code",
   "execution_count": 79,
   "metadata": {
    "collapsed": false
   },
   "outputs": [],
   "source": [
    "## This loop is the forward feature selection method:\n",
    "\n",
    "num_features=len(X_traindf.columns.values)\n",
    "features=X_traindf.columns.values\n",
    "\n",
    "features=[i for i in range(num_features)]\n",
    "flist=[0]\n",
    "results=[]\n",
    "\n",
    "for i in range(num_features):\n",
    "    ## the second loop is over the 1,2,3,...points, so that it will compare the extra feature:\n",
    "    max_r2=0.0\n",
    "    for j in range(num_features-i):\n",
    "        flist[-1]=features[j]\n",
    "        \n",
    "        ## fit the model:\n",
    "        fit_model=sm.OLS(Y_traindf,X_traindf.ix[:,flist]).fit()\n",
    "        r2=fit_model.rsquared_adj\n",
    "        \n",
    "        ## pick up the best feature index by using adjust r^2\n",
    "        if r2>=max_r2:\n",
    "            max_r2=r2\n",
    "            max_index=features[j]\n",
    "    \n",
    "    flist[-1]=max_index\n",
    "    if len(flist)<num_features:\n",
    "        flist.append(0)\n",
    "    features.remove(max_index)\n"
   ]
  },
  {
   "cell_type": "code",
   "execution_count": 82,
   "metadata": {
    "collapsed": false
   },
   "outputs": [],
   "source": [
    "models=[]\n",
    "\n",
    "for i in range(num_features):\n",
    "    instr=str(i)+' features'\n",
    "    ele=(instr,sm.OLS(Y_traindf,X_traindf.ix[:,flist[0:i+1]]).fit().rsquared_adj)\n",
    "    models.append(ele)"
   ]
  },
  {
   "cell_type": "code",
   "execution_count": 83,
   "metadata": {
    "collapsed": false
   },
   "outputs": [
    {
     "data": {
      "text/plain": [
       "[('0 features', 0.97927461913672231),\n",
       " ('1 features', 0.98274091115931983),\n",
       " ('2 features', 0.98556379254286952),\n",
       " ('3 features', 0.98668979921399658),\n",
       " ('4 features', 0.98720623033462018),\n",
       " ('5 features', 0.98763628616609012),\n",
       " ('6 features', 0.9878896090087731),\n",
       " ('7 features', 0.98832009949046506),\n",
       " ('8 features', 0.98850834615228089),\n",
       " ('9 features', 0.98862610127068506),\n",
       " ('10 features', 0.98861382080911453),\n",
       " ('11 features', 0.98857621211081714),\n",
       " ('12 features', 0.98853603382764299),\n",
       " ('13 features', 0.98845663527217376),\n",
       " ('14 features', 0.98834197603810392),\n",
       " ('15 features', 0.98824004540435839),\n",
       " ('16 features', 0.9881068411648507),\n",
       " ('17 features', 0.98795103949288554),\n",
       " ('18 features', 0.98778830339025836)]"
      ]
     },
     "execution_count": 83,
     "metadata": {},
     "output_type": "execute_result"
    }
   ],
   "source": [
    "## Since I am using the statemodels, so I have to write my own cross_validation function\n",
    "\n",
    "from random import seed\n",
    "from random import randrange\n",
    "\n",
    "## This function split the dataset into nfold\n",
    "def cross_validation_split(dataset,n_folds):\n",
    "    dataset_split=list()\n",
    "    dataset_copy=list(dataset)\n",
    "    fold_size=int(len(dataset)/n_folds)\n",
    "    for i in range(n_folds):\n",
    "        fold=list()\n",
    "        while len(fold)<fold_size:\n",
    "            index=randrange(len(dataset_copy))\n",
    "            fold.append(dataset_copy.pop(index))\n",
    "        dataset_split.append(fold)\n",
    "    return dataset_split\n",
    "\n",
    "## This function evaluates the algorithm using a cross validation split\n"
   ]
  },
  {
   "cell_type": "code",
   "execution_count": 85,
   "metadata": {
    "collapsed": false
   },
   "outputs": [
    {
     "data": {
      "text/plain": [
       "[array([1, 2]), array([3, 4]), array([5, 6])]"
      ]
     },
     "execution_count": 85,
     "metadata": {},
     "output_type": "execute_result"
    }
   ],
   "source": [
    "a=np.array([[1,2],[3,4],[5,6]])\n",
    "list(a)"
   ]
  },
  {
   "cell_type": "code",
   "execution_count": 65,
   "metadata": {
    "collapsed": false
   },
   "outputs": [],
   "source": [
    "a.remove(3)"
   ]
  },
  {
   "cell_type": "code",
   "execution_count": 66,
   "metadata": {
    "collapsed": false
   },
   "outputs": [
    {
     "data": {
      "text/plain": [
       "[1, 2, 4, 5, 6]"
      ]
     },
     "execution_count": 66,
     "metadata": {},
     "output_type": "execute_result"
    }
   ],
   "source": [
    "a"
   ]
  },
  {
   "cell_type": "code",
   "execution_count": 86,
   "metadata": {
    "collapsed": false
   },
   "outputs": [
    {
     "data": {
      "text/html": [
       "<div>\n",
       "<table border=\"1\" class=\"dataframe\">\n",
       "  <thead>\n",
       "    <tr style=\"text-align: right;\">\n",
       "      <th></th>\n",
       "      <th>Happiness</th>\n",
       "      <th>gdp</th>\n",
       "      <th>confidence</th>\n",
       "      <th>social_support</th>\n",
       "      <th>life_expectancy</th>\n",
       "      <th>Generosity</th>\n",
       "      <th>gini</th>\n",
       "      <th>child</th>\n",
       "      <th>healthExp</th>\n",
       "      <th>publicEdu</th>\n",
       "      <th>ave_visitor</th>\n",
       "      <th>income</th>\n",
       "      <th>homicide</th>\n",
       "      <th>ecoFree</th>\n",
       "      <th>uniEnro</th>\n",
       "      <th>alcohol</th>\n",
       "      <th>unemploy</th>\n",
       "      <th>food</th>\n",
       "      <th>suicide</th>\n",
       "      <th>visitor</th>\n",
       "    </tr>\n",
       "  </thead>\n",
       "  <tbody>\n",
       "    <tr>\n",
       "      <th>0</th>\n",
       "      <td>3.782938</td>\n",
       "      <td>7.549241</td>\n",
       "      <td>0.435440</td>\n",
       "      <td>0.520637</td>\n",
       "      <td>48.738346</td>\n",
       "      <td>0.247900</td>\n",
       "      <td>0.300000</td>\n",
       "      <td>99.5</td>\n",
       "      <td>58.0</td>\n",
       "      <td>3.1</td>\n",
       "      <td>0.000000</td>\n",
       "      <td>512</td>\n",
       "      <td>6.6</td>\n",
       "      <td>1.0</td>\n",
       "      <td>4.0</td>\n",
       "      <td>0.01</td>\n",
       "      <td>8.5</td>\n",
       "      <td>2100.0</td>\n",
       "      <td>5.7</td>\n",
       "      <td>0</td>\n",
       "    </tr>\n",
       "    <tr>\n",
       "      <th>1</th>\n",
       "      <td>5.510124</td>\n",
       "      <td>9.189268</td>\n",
       "      <td>0.364894</td>\n",
       "      <td>0.784502</td>\n",
       "      <td>67.942978</td>\n",
       "      <td>-0.169465</td>\n",
       "      <td>0.305000</td>\n",
       "      <td>15.5</td>\n",
       "      <td>240.0</td>\n",
       "      <td>3.5</td>\n",
       "      <td>115.182482</td>\n",
       "      <td>4245</td>\n",
       "      <td>5.5</td>\n",
       "      <td>65.1</td>\n",
       "      <td>58.6</td>\n",
       "      <td>5.14</td>\n",
       "      <td>13.9</td>\n",
       "      <td>3023.0</td>\n",
       "      <td>5.9</td>\n",
       "      <td>3156000</td>\n",
       "    </tr>\n",
       "    <tr>\n",
       "      <th>2</th>\n",
       "      <td>5.604596</td>\n",
       "      <td>9.487703</td>\n",
       "      <td>0.447821</td>\n",
       "      <td>0.839397</td>\n",
       "      <td>64.001305</td>\n",
       "      <td>-0.198894</td>\n",
       "      <td>0.388313</td>\n",
       "      <td>26.1</td>\n",
       "      <td>335.0</td>\n",
       "      <td>4.3</td>\n",
       "      <td>1.105914</td>\n",
       "      <td>4532</td>\n",
       "      <td>1.3</td>\n",
       "      <td>51.0</td>\n",
       "      <td>32.2</td>\n",
       "      <td>0.66</td>\n",
       "      <td>11.0</td>\n",
       "      <td>3272.0</td>\n",
       "      <td>1.9</td>\n",
       "      <td>2634000</td>\n",
       "    </tr>\n",
       "    <tr>\n",
       "      <th>3</th>\n",
       "      <td>4.360250</td>\n",
       "      <td>8.886378</td>\n",
       "      <td>0.237091</td>\n",
       "      <td>0.752593</td>\n",
       "      <td>44.400314</td>\n",
       "      <td>-0.138073</td>\n",
       "      <td>0.473400</td>\n",
       "      <td>172.2</td>\n",
       "      <td>168.0</td>\n",
       "      <td>3.4</td>\n",
       "      <td>0.423518</td>\n",
       "      <td>3505</td>\n",
       "      <td>9.8</td>\n",
       "      <td>46.7</td>\n",
       "      <td>6.9</td>\n",
       "      <td>8.24</td>\n",
       "      <td>6.9</td>\n",
       "      <td>2384.0</td>\n",
       "      <td>13.8</td>\n",
       "      <td>528000</td>\n",
       "    </tr>\n",
       "    <tr>\n",
       "      <th>4</th>\n",
       "      <td>6.468387</td>\n",
       "      <td>9.805600</td>\n",
       "      <td>0.418255</td>\n",
       "      <td>0.901776</td>\n",
       "      <td>66.838005</td>\n",
       "      <td>-0.160000</td>\n",
       "      <td>0.479421</td>\n",
       "      <td>13.8</td>\n",
       "      <td>727.0</td>\n",
       "      <td>5.1</td>\n",
       "      <td>2.041517</td>\n",
       "      <td>10391</td>\n",
       "      <td>6.6</td>\n",
       "      <td>48.0</td>\n",
       "      <td>79.0</td>\n",
       "      <td>8.35</td>\n",
       "      <td>7.2</td>\n",
       "      <td>3155.0</td>\n",
       "      <td>10.3</td>\n",
       "      <td>5587000</td>\n",
       "    </tr>\n",
       "  </tbody>\n",
       "</table>\n",
       "</div>"
      ],
      "text/plain": [
       "   Happiness       gdp  confidence  social_support  life_expectancy  Generosity      gini  child  healthExp  publicEdu  ave_visitor  income  homicide  ecoFree  uniEnro  alcohol  unemploy    food  suicide  visitor\n",
       "0   3.782938  7.549241    0.435440        0.520637        48.738346    0.247900  0.300000   99.5       58.0        3.1     0.000000     512       6.6      1.0      4.0     0.01       8.5  2100.0      5.7        0\n",
       "1   5.510124  9.189268    0.364894        0.784502        67.942978   -0.169465  0.305000   15.5      240.0        3.5   115.182482    4245       5.5     65.1     58.6     5.14      13.9  3023.0      5.9  3156000\n",
       "2   5.604596  9.487703    0.447821        0.839397        64.001305   -0.198894  0.388313   26.1      335.0        4.3     1.105914    4532       1.3     51.0     32.2     0.66      11.0  3272.0      1.9  2634000\n",
       "3   4.360250  8.886378    0.237091        0.752593        44.400314   -0.138073  0.473400  172.2      168.0        3.4     0.423518    3505       9.8     46.7      6.9     8.24       6.9  2384.0     13.8   528000\n",
       "4   6.468387  9.805600    0.418255        0.901776        66.838005   -0.160000  0.479421   13.8      727.0        5.1     2.041517   10391       6.6     48.0     79.0     8.35       7.2  3155.0     10.3  5587000"
      ]
     },
     "execution_count": 86,
     "metadata": {},
     "output_type": "execute_result"
    }
   ],
   "source": [
    "reorigin.head()"
   ]
  },
  {
   "cell_type": "code",
   "execution_count": 89,
   "metadata": {
    "collapsed": false
   },
   "outputs": [],
   "source": [
    "copy=list(X_array)"
   ]
  },
  {
   "cell_type": "code",
   "execution_count": 91,
   "metadata": {
    "collapsed": false
   },
   "outputs": [
    {
     "data": {
      "text/plain": [
       "139"
      ]
     },
     "execution_count": 91,
     "metadata": {},
     "output_type": "execute_result"
    }
   ],
   "source": [
    "len(copy)"
   ]
  },
  {
   "cell_type": "code",
   "execution_count": 92,
   "metadata": {
    "collapsed": true
   },
   "outputs": [],
   "source": [
    "from random import seed\n",
    "from random import randrange"
   ]
  },
  {
   "cell_type": "code",
   "execution_count": 93,
   "metadata": {
    "collapsed": true
   },
   "outputs": [],
   "source": [
    "index=randrange(len(copy))"
   ]
  },
  {
   "cell_type": "code",
   "execution_count": 95,
   "metadata": {
    "collapsed": false
   },
   "outputs": [
    {
     "data": {
      "text/plain": [
       "28"
      ]
     },
     "execution_count": 95,
     "metadata": {},
     "output_type": "execute_result"
    }
   ],
   "source": [
    "index"
   ]
  },
  {
   "cell_type": "code",
   "execution_count": 97,
   "metadata": {
    "collapsed": false
   },
   "outputs": [
    {
     "data": {
      "text/plain": [
       "array([  7.54924059e+00,   4.35440153e-01,   5.20636737e-01,\n",
       "         4.87383461e+01,   2.47900203e-01,   3.00000000e-01,\n",
       "         9.95000000e+01,   5.80000000e+01,   3.10000000e+00,\n",
       "         0.00000000e+00,   5.12000000e+02,   6.60000000e+00,\n",
       "         1.00000000e+00,   4.00000000e+00,   1.00000000e-02,\n",
       "         8.50000000e+00,   2.10000000e+03,   5.70000000e+00,\n",
       "         0.00000000e+00])"
      ]
     },
     "execution_count": 97,
     "metadata": {},
     "output_type": "execute_result"
    }
   ],
   "source": [
    "copy.pop(0)"
   ]
  },
  {
   "cell_type": "code",
   "execution_count": 98,
   "metadata": {
    "collapsed": true
   },
   "outputs": [],
   "source": [
    "a=[1,2,3,4]"
   ]
  },
  {
   "cell_type": "code",
   "execution_count": null,
   "metadata": {
    "collapsed": true
   },
   "outputs": [],
   "source": []
  },
  {
   "cell_type": "code",
   "execution_count": 99,
   "metadata": {
    "collapsed": false
   },
   "outputs": [
    {
     "ename": "TypeError",
     "evalue": "can only concatenate list (not \"int\") to list",
     "output_type": "error",
     "traceback": [
      "\u001b[0;31m---------------------------------------------------------------------------\u001b[0m",
      "\u001b[0;31mTypeError\u001b[0m                                 Traceback (most recent call last)",
      "\u001b[0;32m<ipython-input-99-e312bbc66112>\u001b[0m in \u001b[0;36m<module>\u001b[0;34m()\u001b[0m\n\u001b[0;32m----> 1\u001b[0;31m \u001b[0mb\u001b[0m\u001b[1;33m=\u001b[0m\u001b[0msum\u001b[0m\u001b[1;33m(\u001b[0m\u001b[0ma\u001b[0m\u001b[1;33m,\u001b[0m\u001b[1;33m[\u001b[0m\u001b[1;33m]\u001b[0m\u001b[1;33m)\u001b[0m\u001b[1;33m\u001b[0m\u001b[0m\n\u001b[0m",
      "\u001b[0;31mTypeError\u001b[0m: can only concatenate list (not \"int\") to list"
     ]
    }
   ],
   "source": [
    "b=sum(a,[])"
   ]
  },
  {
   "cell_type": "code",
   "execution_count": 104,
   "metadata": {
    "collapsed": false
   },
   "outputs": [],
   "source": [
    "a1=np.array([1,2,3])\n",
    "a2=np.array([4,5,6])\n",
    "a3=np.array([7,8,9])\n",
    "\n",
    "b1=np.array([11,12,13])\n",
    "b2=np.array([14,15,16])\n",
    "b3=np.array([17,18,19])\n",
    "\n",
    "\n",
    "b=sum([[a1,a2,a3],[b1,b2,b3]],[])"
   ]
  },
  {
   "cell_type": "code",
   "execution_count": 105,
   "metadata": {
    "collapsed": false
   },
   "outputs": [
    {
     "data": {
      "text/plain": [
       "[array([1, 2, 3]),\n",
       " array([4, 5, 6]),\n",
       " array([7, 8, 9]),\n",
       " array([11, 12, 13]),\n",
       " array([14, 15, 16]),\n",
       " array([17, 18, 19])]"
      ]
     },
     "execution_count": 105,
     "metadata": {},
     "output_type": "execute_result"
    }
   ],
   "source": [
    "b"
   ]
  },
  {
   "cell_type": "code",
   "execution_count": 106,
   "metadata": {
    "collapsed": true
   },
   "outputs": [],
   "source": [
    "c=[[1,2,3],[4,5,6]]\n",
    "d=sum(c,[])"
   ]
  },
  {
   "cell_type": "code",
   "execution_count": 110,
   "metadata": {
    "collapsed": false
   },
   "outputs": [
    {
     "data": {
      "text/plain": [
       "array([[ 1,  2,  3],\n",
       "       [ 4,  5,  6],\n",
       "       [ 7,  8,  9],\n",
       "       [11, 12, 13],\n",
       "       [14, 15, 16],\n",
       "       [17, 18, 19]])"
      ]
     },
     "execution_count": 110,
     "metadata": {},
     "output_type": "execute_result"
    }
   ],
   "source": [
    "np.array(b)"
   ]
  },
  {
   "cell_type": "code",
   "execution_count": null,
   "metadata": {
    "collapsed": true
   },
   "outputs": [],
   "source": []
  },
  {
   "cell_type": "code",
   "execution_count": null,
   "metadata": {
    "collapsed": true
   },
   "outputs": [],
   "source": []
  },
  {
   "cell_type": "code",
   "execution_count": null,
   "metadata": {
    "collapsed": true
   },
   "outputs": [],
   "source": []
  },
  {
   "cell_type": "code",
   "execution_count": null,
   "metadata": {
    "collapsed": true
   },
   "outputs": [],
   "source": []
  },
  {
   "cell_type": "code",
   "execution_count": null,
   "metadata": {
    "collapsed": true
   },
   "outputs": [],
   "source": []
  },
  {
   "cell_type": "code",
   "execution_count": null,
   "metadata": {
    "collapsed": true
   },
   "outputs": [],
   "source": []
  },
  {
   "cell_type": "code",
   "execution_count": null,
   "metadata": {
    "collapsed": true
   },
   "outputs": [],
   "source": []
  },
  {
   "cell_type": "code",
   "execution_count": null,
   "metadata": {
    "collapsed": true
   },
   "outputs": [],
   "source": []
  },
  {
   "cell_type": "code",
   "execution_count": null,
   "metadata": {
    "collapsed": true
   },
   "outputs": [],
   "source": []
  },
  {
   "cell_type": "code",
   "execution_count": 17,
   "metadata": {
    "collapsed": false
   },
   "outputs": [
    {
     "data": {
      "text/plain": [
       "LinearRegression(copy_X=True, fit_intercept=True, n_jobs=1, normalize=False)"
      ]
     },
     "execution_count": 17,
     "metadata": {},
     "output_type": "execute_result"
    }
   ],
   "source": [
    "model=LinearRegression()\n",
    "model.fit(X_train,Y_train)"
   ]
  },
  {
   "cell_type": "code",
   "execution_count": 19,
   "metadata": {
    "collapsed": false
   },
   "outputs": [
    {
     "name": "stderr",
     "output_type": "stream",
     "text": [
      "C:\\Users\\Tsymbal Group Member\\Anaconda2\\lib\\site-packages\\sklearn\\utils\\deprecation.py:70: DeprecationWarning: Function residues_ is deprecated; ``residues_`` is deprecated and will be removed in 0.19\n",
      "  warnings.warn(msg, category=DeprecationWarning)\n"
     ]
    }
   ],
   "source": [
    "predict=model.predict(X_test)\n",
    "residual=model.residues_"
   ]
  },
  {
   "cell_type": "code",
   "execution_count": null,
   "metadata": {
    "collapsed": false
   },
   "outputs": [],
   "source": []
  },
  {
   "cell_type": "code",
   "execution_count": null,
   "metadata": {
    "collapsed": false
   },
   "outputs": [],
   "source": []
  },
  {
   "cell_type": "code",
   "execution_count": null,
   "metadata": {
    "collapsed": true
   },
   "outputs": [],
   "source": []
  }
 ],
 "metadata": {
  "anaconda-cloud": {},
  "kernelspec": {
   "display_name": "Python [conda root]",
   "language": "python",
   "name": "conda-root-py"
  },
  "language_info": {
   "codemirror_mode": {
    "name": "ipython",
    "version": 2
   },
   "file_extension": ".py",
   "mimetype": "text/x-python",
   "name": "python",
   "nbconvert_exporter": "python",
   "pygments_lexer": "ipython2",
   "version": "2.7.12"
  }
 },
 "nbformat": 4,
 "nbformat_minor": 1
}
