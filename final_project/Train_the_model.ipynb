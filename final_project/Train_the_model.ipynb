{
 "cells": [
  {
   "cell_type": "markdown",
   "metadata": {},
   "source": [
    "# Model Training"
   ]
  },
  {
   "cell_type": "markdown",
   "metadata": {},
   "source": [
    "After the previous couple of ipython notebooks, now I have two datasets two investigate. One is the regular data I got from the website and have been cleaned up for the model training. The second dataset is based on the first one with improving the correlation. I used the logrithm function to scale the data. In this notebook, I will train the model for these two dataset seperatly and compare their results."
   ]
  },
  {
   "cell_type": "code",
   "execution_count": null,
   "metadata": {
    "collapsed": false
   },
   "outputs": [],
   "source": []
  },
  {
   "cell_type": "code",
   "execution_count": 1,
   "metadata": {
    "collapsed": true
   },
   "outputs": [],
   "source": [
    "# Handle table-like data and matrices calculation\n",
    "import numpy as np\n",
    "import scipy as sp\n",
    "import pandas as pd\n",
    "\n",
    "\n",
    "# Visualisation\n",
    "import matplotlib.pyplot as plt\n",
    "import seaborn as sns\n",
    "\n",
    "\n",
    "# Modelling Algorithms\n",
    "# I will look at only four classification algorithms: LogisticRegression, GaussianNB, SVM, RandomForestClassifier\n",
    "from sklearn.linear_model import Lasso\n",
    "from sklearn.linear_model import LinearRegression\n",
    "from sklearn.linear_model import Ridge\n",
    "from sklearn.linear_model import ElasticNet\n",
    "from sklearn.model_selection import train_test_split\n",
    "from sklearn.model_selection import KFold\n",
    "from sklearn.model_selection import cross_val_score\n",
    "from sklearn.model_selection import GridSearchCV\n",
    "from sklearn.tree import DecisionTreeRegressor\n",
    "from sklearn.neighbors import KNeighborsRegressor\n",
    "from sklearn.svm import SVR\n",
    "from sklearn.pipeline import Pipeline\n",
    "from sklearn.pipeline import FeatureUnion\n",
    "from sklearn.decomposition import PCA\n",
    "from sklearn.feature_selection import SelectKBest\n",
    "from sklearn.ensemble import RandomForestRegressor\n",
    "from sklearn.ensemble import GradientBoostingRegressor\n",
    "from sklearn.ensemble import ExtraTreesRegressor\n",
    "from sklearn.ensemble import AdaBoostRegressor\n",
    "\n",
    "# Modelling Helpers\n",
    "from sklearn.preprocessing import Imputer , Normalizer , scale, StandardScaler\n",
    "# from sklearn.cross_validation import train_test_split , StratifiedKFold\n",
    "from sklearn.feature_selection import RFECV\n",
    "from sklearn.metrics import accuracy_score\n",
    "from sklearn.metrics import mean_squared_error\n",
    "\n",
    "%matplotlib inline\n",
    "%config InlineBackend.figure_format = 'retina'\n",
    "\n",
    "pd.set_option('display.width', 500)\n",
    "pd.set_option('display.max_columns', 100)\n",
    "pd.set_option('display.notebook_repr_html', True)"
   ]
  },
  {
   "cell_type": "code",
   "execution_count": 2,
   "metadata": {
    "collapsed": true
   },
   "outputs": [],
   "source": [
    "## Some useful functions\n",
    "\n",
    "def print_columns(df):\n",
    "    print \"There are\",df.shape[1],'columns'\n",
    "    print \"They are:\"\n",
    "    for i in df.columns.values:\n",
    "        print i\n",
    "        \n",
    "def list_null(df):\n",
    "    print df.shape[1],' columns:'\n",
    "    for i in df.columns.values:\n",
    "        print i,': number of nan: ',df[i].isnull().sum(),', ',df[i].dtypes"
   ]
  },
  {
   "cell_type": "code",
   "execution_count": 3,
   "metadata": {
    "collapsed": true
   },
   "outputs": [],
   "source": [
    "## Algorithm name\n",
    "\n",
    "algo=['LR','LASSO','EN','KNN','Tree','SVR']\n",
    "en=['RF','GB','ET','AB']\n"
   ]
  },
  {
   "cell_type": "markdown",
   "metadata": {},
   "source": [
    "## 1. Dataset #1"
   ]
  },
  {
   "cell_type": "code",
   "execution_count": 4,
   "metadata": {
    "collapsed": false,
    "scrolled": true
   },
   "outputs": [],
   "source": [
    "origin1=pd.read_csv('data1.csv',sep=',',index_col=0)"
   ]
  },
  {
   "cell_type": "code",
   "execution_count": 5,
   "metadata": {
    "collapsed": false,
    "scrolled": true
   },
   "outputs": [
    {
     "data": {
      "text/html": [
       "<div>\n",
       "<table border=\"1\" class=\"dataframe\">\n",
       "  <thead>\n",
       "    <tr style=\"text-align: right;\">\n",
       "      <th></th>\n",
       "      <th>Happiness</th>\n",
       "      <th>Log GDP per capita</th>\n",
       "      <th>Confidence in national government</th>\n",
       "      <th>Social support</th>\n",
       "      <th>Healthy life expectancy at birth</th>\n",
       "      <th>Generosity</th>\n",
       "      <th>GINI index (World Bank estimate), average 2000-13</th>\n",
       "      <th>child</th>\n",
       "      <th>healthExp</th>\n",
       "      <th>publicEdu</th>\n",
       "      <th>ave_visitor</th>\n",
       "      <th>income</th>\n",
       "      <th>homicide</th>\n",
       "      <th>ecoFree</th>\n",
       "      <th>uniEnro</th>\n",
       "      <th>alcohol</th>\n",
       "      <th>unemploy</th>\n",
       "      <th>food</th>\n",
       "      <th>suicide</th>\n",
       "      <th>visitor</th>\n",
       "    </tr>\n",
       "  </thead>\n",
       "  <tbody>\n",
       "    <tr>\n",
       "      <th>0</th>\n",
       "      <td>3.782938</td>\n",
       "      <td>7.549241</td>\n",
       "      <td>0.435440</td>\n",
       "      <td>0.520637</td>\n",
       "      <td>48.738346</td>\n",
       "      <td>0.247900</td>\n",
       "      <td>0.300000</td>\n",
       "      <td>99.5</td>\n",
       "      <td>58.0</td>\n",
       "      <td>3.1</td>\n",
       "      <td>0.000000</td>\n",
       "      <td>512</td>\n",
       "      <td>6.6</td>\n",
       "      <td>1.0</td>\n",
       "      <td>4.0</td>\n",
       "      <td>0.01</td>\n",
       "      <td>8.5</td>\n",
       "      <td>2100.0</td>\n",
       "      <td>5.7</td>\n",
       "      <td>0</td>\n",
       "    </tr>\n",
       "    <tr>\n",
       "      <th>1</th>\n",
       "      <td>5.510124</td>\n",
       "      <td>9.189268</td>\n",
       "      <td>0.364894</td>\n",
       "      <td>0.784502</td>\n",
       "      <td>67.942978</td>\n",
       "      <td>-0.169465</td>\n",
       "      <td>0.305000</td>\n",
       "      <td>15.5</td>\n",
       "      <td>240.0</td>\n",
       "      <td>3.5</td>\n",
       "      <td>115.182482</td>\n",
       "      <td>4245</td>\n",
       "      <td>5.5</td>\n",
       "      <td>65.1</td>\n",
       "      <td>58.6</td>\n",
       "      <td>5.14</td>\n",
       "      <td>13.9</td>\n",
       "      <td>3023.0</td>\n",
       "      <td>5.9</td>\n",
       "      <td>3156000</td>\n",
       "    </tr>\n",
       "    <tr>\n",
       "      <th>2</th>\n",
       "      <td>5.604596</td>\n",
       "      <td>9.487703</td>\n",
       "      <td>0.447821</td>\n",
       "      <td>0.839397</td>\n",
       "      <td>64.001305</td>\n",
       "      <td>-0.198894</td>\n",
       "      <td>0.388313</td>\n",
       "      <td>26.1</td>\n",
       "      <td>335.0</td>\n",
       "      <td>4.3</td>\n",
       "      <td>1.105914</td>\n",
       "      <td>4532</td>\n",
       "      <td>1.3</td>\n",
       "      <td>51.0</td>\n",
       "      <td>32.2</td>\n",
       "      <td>0.66</td>\n",
       "      <td>11.0</td>\n",
       "      <td>3272.0</td>\n",
       "      <td>1.9</td>\n",
       "      <td>2634000</td>\n",
       "    </tr>\n",
       "    <tr>\n",
       "      <th>3</th>\n",
       "      <td>4.360250</td>\n",
       "      <td>8.886378</td>\n",
       "      <td>0.237091</td>\n",
       "      <td>0.752593</td>\n",
       "      <td>44.400314</td>\n",
       "      <td>-0.138073</td>\n",
       "      <td>0.473400</td>\n",
       "      <td>172.2</td>\n",
       "      <td>168.0</td>\n",
       "      <td>3.4</td>\n",
       "      <td>0.423518</td>\n",
       "      <td>3505</td>\n",
       "      <td>9.8</td>\n",
       "      <td>46.7</td>\n",
       "      <td>6.9</td>\n",
       "      <td>8.24</td>\n",
       "      <td>6.9</td>\n",
       "      <td>2384.0</td>\n",
       "      <td>13.8</td>\n",
       "      <td>528000</td>\n",
       "    </tr>\n",
       "    <tr>\n",
       "      <th>4</th>\n",
       "      <td>6.468387</td>\n",
       "      <td>9.805600</td>\n",
       "      <td>0.418255</td>\n",
       "      <td>0.901776</td>\n",
       "      <td>66.838005</td>\n",
       "      <td>-0.160000</td>\n",
       "      <td>0.479421</td>\n",
       "      <td>13.8</td>\n",
       "      <td>727.0</td>\n",
       "      <td>5.1</td>\n",
       "      <td>2.041517</td>\n",
       "      <td>10391</td>\n",
       "      <td>6.6</td>\n",
       "      <td>48.0</td>\n",
       "      <td>79.0</td>\n",
       "      <td>8.35</td>\n",
       "      <td>7.2</td>\n",
       "      <td>3155.0</td>\n",
       "      <td>10.3</td>\n",
       "      <td>5587000</td>\n",
       "    </tr>\n",
       "  </tbody>\n",
       "</table>\n",
       "</div>"
      ],
      "text/plain": [
       "   Happiness  Log GDP per capita  Confidence in national government  Social support  Healthy life expectancy at birth  Generosity  GINI index (World Bank estimate), average 2000-13  child  healthExp  publicEdu  ave_visitor  income  homicide  ecoFree  uniEnro  alcohol  unemploy    food  suicide  visitor\n",
       "0   3.782938            7.549241                           0.435440        0.520637                         48.738346    0.247900                                           0.300000   99.5       58.0        3.1     0.000000     512       6.6      1.0      4.0     0.01       8.5  2100.0      5.7        0\n",
       "1   5.510124            9.189268                           0.364894        0.784502                         67.942978   -0.169465                                           0.305000   15.5      240.0        3.5   115.182482    4245       5.5     65.1     58.6     5.14      13.9  3023.0      5.9  3156000\n",
       "2   5.604596            9.487703                           0.447821        0.839397                         64.001305   -0.198894                                           0.388313   26.1      335.0        4.3     1.105914    4532       1.3     51.0     32.2     0.66      11.0  3272.0      1.9  2634000\n",
       "3   4.360250            8.886378                           0.237091        0.752593                         44.400314   -0.138073                                           0.473400  172.2      168.0        3.4     0.423518    3505       9.8     46.7      6.9     8.24       6.9  2384.0     13.8   528000\n",
       "4   6.468387            9.805600                           0.418255        0.901776                         66.838005   -0.160000                                           0.479421   13.8      727.0        5.1     2.041517   10391       6.6     48.0     79.0     8.35       7.2  3155.0     10.3  5587000"
      ]
     },
     "execution_count": 5,
     "metadata": {},
     "output_type": "execute_result"
    }
   ],
   "source": [
    "origin1.head()"
   ]
  },
  {
   "cell_type": "code",
   "execution_count": 6,
   "metadata": {
    "collapsed": false,
    "scrolled": true
   },
   "outputs": [
    {
     "name": "stdout",
     "output_type": "stream",
     "text": [
      "There are 20 columns\n",
      "They are:\n",
      "Happiness\n",
      "Log GDP per capita\n",
      "Confidence in national government\n",
      "Social support\n",
      "Healthy life expectancy at birth\n",
      "Generosity\n",
      "GINI index (World Bank estimate), average 2000-13\n",
      "child\n",
      "healthExp\n",
      "publicEdu\n",
      "ave_visitor\n",
      "income\n",
      "homicide\n",
      "ecoFree\n",
      "uniEnro\n",
      "alcohol\n",
      "unemploy\n",
      "food\n",
      "suicide\n",
      "visitor\n"
     ]
    }
   ],
   "source": [
    "print_columns(origin1)"
   ]
  },
  {
   "cell_type": "code",
   "execution_count": 7,
   "metadata": {
    "collapsed": false
   },
   "outputs": [
    {
     "name": "stdout",
     "output_type": "stream",
     "text": [
      "20  columns:\n",
      "Happiness : number of nan:  0 ,  float64\n",
      "Log GDP per capita : number of nan:  0 ,  float64\n",
      "Confidence in national government : number of nan:  0 ,  float64\n",
      "Social support : number of nan:  0 ,  float64\n",
      "Healthy life expectancy at birth : number of nan:  0 ,  float64\n",
      "Generosity : number of nan:  0 ,  float64\n",
      "GINI index (World Bank estimate), average 2000-13 : number of nan:  0 ,  float64\n",
      "child : number of nan:  0 ,  float64\n",
      "healthExp : number of nan:  0 ,  float64\n",
      "publicEdu : number of nan:  0 ,  float64\n",
      "ave_visitor : number of nan:  0 ,  float64\n",
      "income : number of nan:  0 ,  int64\n",
      "homicide : number of nan:  0 ,  float64\n",
      "ecoFree : number of nan:  0 ,  float64\n",
      "uniEnro : number of nan:  0 ,  float64\n",
      "alcohol : number of nan:  0 ,  float64\n",
      "unemploy : number of nan:  0 ,  float64\n",
      "food : number of nan:  0 ,  float64\n",
      "suicide : number of nan:  0 ,  float64\n",
      "visitor : number of nan:  0 ,  int64\n"
     ]
    }
   ],
   "source": [
    "list_null(origin1)"
   ]
  },
  {
   "cell_type": "code",
   "execution_count": 8,
   "metadata": {
    "collapsed": true
   },
   "outputs": [],
   "source": [
    "## Convert our dataframe to numpy array, since we are not interested in the column names\n",
    "\n",
    "array=origin1.values"
   ]
  },
  {
   "cell_type": "code",
   "execution_count": 9,
   "metadata": {
    "collapsed": false
   },
   "outputs": [],
   "source": [
    "## X is the independent variables\n",
    "## Y is the dependent variable that we are going to predict\n",
    "\n",
    "X=array[:,1:]\n",
    "Y=array[:,0]"
   ]
  },
  {
   "cell_type": "markdown",
   "metadata": {},
   "source": [
    "**Split the train and test dataset**"
   ]
  },
  {
   "cell_type": "code",
   "execution_count": 10,
   "metadata": {
    "collapsed": true
   },
   "outputs": [],
   "source": [
    "X_train,X_test,Y_train,Y_test=train_test_split(X,Y,test_size=0.33,random_state=7)"
   ]
  },
  {
   "cell_type": "code",
   "execution_count": 11,
   "metadata": {
    "collapsed": true
   },
   "outputs": [],
   "source": [
    "## comparison table\n",
    "\n",
    "compare=dict()"
   ]
  },
  {
   "cell_type": "code",
   "execution_count": 12,
   "metadata": {
    "collapsed": true
   },
   "outputs": [],
   "source": [
    "# Test options and evaluation metric\n",
    "\n",
    "num_folds=10  ## k-fold cross validation parameter\n",
    "seed=7\n",
    "scoring='neg_mean_squared_error' ## the metric for linear regression accuracy"
   ]
  },
  {
   "cell_type": "code",
   "execution_count": 13,
   "metadata": {
    "collapsed": true
   },
   "outputs": [],
   "source": [
    "# Spot-Check Algorithms\n",
    "\n",
    "models=[]\n",
    "models.append(('LR',LinearRegression()))\n",
    "models.append(('LASSO',Lasso()))\n",
    "models.append(('EN',ElasticNet()))\n",
    "models.append(('KNN',KNeighborsRegressor()))\n",
    "models.append(('CART',DecisionTreeRegressor()))\n",
    "models.append(('SVR',SVR()))"
   ]
  },
  {
   "cell_type": "code",
   "execution_count": 14,
   "metadata": {
    "collapsed": false
   },
   "outputs": [
    {
     "name": "stdout",
     "output_type": "stream",
     "text": [
      "LR:-0.866731 (1.197343)\n",
      "LASSO:-0.871784 (0.753867)\n",
      "EN:-1.110711 (1.490617)\n",
      "KNN:-1.285727 (0.408268)\n",
      "CART:-0.947208 (0.439576)\n",
      "SVR:-1.309465 (0.464355)\n"
     ]
    }
   ],
   "source": [
    "# evaluate each model in turn\n",
    "\n",
    "results=[]\n",
    "names=[]\n",
    "compare['Unscaled']=list()\n",
    "for name,model in models:\n",
    "    kfold=KFold(n_splits=num_folds,random_state=seed)\n",
    "    cv_results=cross_val_score(model,X_train,Y_train,cv=kfold,scoring=scoring)\n",
    "    results.append(cv_results)\n",
    "    names.append(name)\n",
    "    compare['Unscaled'].append(cv_results.mean())\n",
    "    msg=\"%s:%f (%f)\" % (name,cv_results.mean(),cv_results.std())\n",
    "    print msg"
   ]
  },
  {
   "cell_type": "code",
   "execution_count": 15,
   "metadata": {
    "collapsed": false
   },
   "outputs": [
    {
     "data": {
      "text/plain": [
       "[<matplotlib.text.Text at 0x956c910>,\n",
       " <matplotlib.text.Text at 0x956c830>,\n",
       " <matplotlib.text.Text at 0x9664e90>,\n",
       " <matplotlib.text.Text at 0x966f270>,\n",
       " <matplotlib.text.Text at 0x966f630>,\n",
       " <matplotlib.text.Text at 0x966f9f0>]"
      ]
     },
     "execution_count": 15,
     "metadata": {},
     "output_type": "execute_result"
    },
    {
     "data": {
      "image/png": "[encoded data removed]",
      "text/plain": [
       "<matplotlib.figure.Figure at 0x94c1d90>"
      ]
     },
     "metadata": {
      "image/png": {
       "height": 371,
       "width": 433
      }
     },
     "output_type": "display_data"
    }
   ],
   "source": [
    "fig,ax=plt.subplots(1,1,figsize=(5,4))\n",
    "\n",
    "ax.set_title('Algorithm Comparison')\n",
    "ax.boxplot(results)\n",
    "ax.set_xticklabels(names)"
   ]
  },
  {
   "cell_type": "markdown",
   "metadata": {},
   "source": [
    "Now we finished the model calculation without any parameters. The interesting point is so far we did nothing with the dataset, so now let's consider feature selection and feature scaling effects on our dataset"
   ]
  },
  {
   "cell_type": "markdown",
   "metadata": {},
   "source": [
    "### 1.1 Evaluate Algorithms: Standardization"
   ]
  },
  {
   "cell_type": "code",
   "execution_count": 16,
   "metadata": {
    "collapsed": true
   },
   "outputs": [],
   "source": [
    "# Standardize the dataset\n",
    "\n",
    "pipelines=[]\n",
    "pipelines.append(('ScaledLR',Pipeline([('Scaler',StandardScaler()),('LR',LinearRegression())])))\n",
    "pipelines.append(('ScaledLASSO',Pipeline([('Scaler',StandardScaler()),('LASSO',Lasso())])))\n",
    "pipelines.append(('ScaledEN',Pipeline([('Scaler',StandardScaler()),('EN',ElasticNet())])))\n",
    "pipelines.append(('ScaledKNN',Pipeline([('Scaler',StandardScaler()),('KNN',KNeighborsRegressor())])))\n",
    "pipelines.append(('ScaledCART',Pipeline([('Scaler',StandardScaler()),('CART',DecisionTreeRegressor())])))\n",
    "pipelines.append(('ScaledSVR',Pipeline([('Scaler',StandardScaler()),('SVR',SVR())])))"
   ]
  },
  {
   "cell_type": "code",
   "execution_count": 17,
   "metadata": {
    "collapsed": false,
    "scrolled": true
   },
   "outputs": [
    {
     "name": "stdout",
     "output_type": "stream",
     "text": [
      "ScaledLR:-0.866731 (1.197343)\n",
      "ScaledLASSO:-1.302421 (0.495503)\n",
      "ScaledEN:-0.843278 (0.349788)\n",
      "ScaledKNN:-0.505584 (0.288580)\n",
      "ScaledCART:-0.868810 (0.418741)\n",
      "ScaledSVR:-0.464510 (0.198716)\n"
     ]
    }
   ],
   "source": [
    "results=[]\n",
    "names=[]\n",
    "compare['Scaled']=list()\n",
    "for name,model in pipelines:\n",
    "    kfold=KFold(n_splits=num_folds,random_state=seed)\n",
    "    cv_results=cross_val_score(model,X_train,Y_train,cv=kfold,scoring=scoring)\n",
    "    results.append(cv_results)\n",
    "    compare['Scaled'].append(cv_results.mean())\n",
    "    names.append(name)\n",
    "    msg=\"%s:%f (%f)\" % (name,cv_results.mean(),cv_results.std())\n",
    "    print msg"
   ]
  },
  {
   "cell_type": "code",
   "execution_count": 18,
   "metadata": {
    "collapsed": false
   },
   "outputs": [
    {
     "data": {
      "text/plain": [
       "[<matplotlib.text.Text at 0x97598d0>,\n",
       " <matplotlib.text.Text at 0x977c970>,\n",
       " <matplotlib.text.Text at 0xc987390>,\n",
       " <matplotlib.text.Text at 0xc987750>,\n",
       " <matplotlib.text.Text at 0xc987b10>,\n",
       " <matplotlib.text.Text at 0xc987ed0>]"
      ]
     },
     "execution_count": 18,
     "metadata": {},
     "output_type": "execute_result"
    },
    {
     "data": {
      "image/png": "[encoded data removed]",
      "text/plain": [
       "<matplotlib.figure.Figure at 0x9759390>"
      ]
     },
     "metadata": {
      "image/png": {
       "height": 425,
       "width": 444
      }
     },
     "output_type": "display_data"
    }
   ],
   "source": [
    "fig,ax=plt.subplots(1,1,figsize=(5,4))\n",
    "\n",
    "ax.set_title('Algorithm Comparison')\n",
    "ax.boxplot(results)\n",
    "ax.set_xticklabels(names,rotation=40)"
   ]
  },
  {
   "cell_type": "markdown",
   "metadata": {},
   "source": [
    "### 1.2 Evaluate Algorithms: Feature selection"
   ]
  },
  {
   "cell_type": "code",
   "execution_count": 19,
   "metadata": {
    "collapsed": true
   },
   "outputs": [],
   "source": [
    "## create feature union\n",
    "\n",
    "features=[]\n",
    "features.append(('pca',PCA(n_components=3)))\n",
    "features.append(('select_best',SelectKBest(k=6)))\n",
    "feature_union=FeatureUnion(features)"
   ]
  },
  {
   "cell_type": "code",
   "execution_count": 20,
   "metadata": {
    "collapsed": true
   },
   "outputs": [],
   "source": [
    "# Feature selection the dataset\n",
    "\n",
    "pipelines=[]\n",
    "pipelines.append(('SelectLR',Pipeline([('feature_union',feature_union),('LR',LinearRegression())])))\n",
    "pipelines.append(('SelectLASSO',Pipeline([('feature_union',feature_union),('LASSO',Lasso())])))\n",
    "pipelines.append(('SelectEN',Pipeline([('feature_union',feature_union),('EN',ElasticNet())])))\n",
    "pipelines.append(('SelectKNN',Pipeline([('feature_union',feature_union),('KNN',KNeighborsRegressor())])))\n",
    "pipelines.append(('SelectCART',Pipeline([('feature_union',feature_union),('CART',DecisionTreeRegressor())])))\n",
    "pipelines.append(('SelectSVR',Pipeline([('feature_union',feature_union),('SVR',SVR())])))"
   ]
  },
  {
   "cell_type": "code",
   "execution_count": 21,
   "metadata": {
    "collapsed": false
   },
   "outputs": [
    {
     "name": "stdout",
     "output_type": "stream",
     "text": [
      "SelectLR:-0.614138 (0.296019)\n",
      "SelectLASSO:-0.593220 (0.295511)\n",
      "SelectEN:-0.578053 (0.290580)\n",
      "SelectKNN:-1.257027 (0.370920)\n",
      "SelectCART:-0.916912 (0.470161)\n",
      "SelectSVR:-1.309465 (0.464355)\n"
     ]
    }
   ],
   "source": [
    "results=[]\n",
    "names=[]\n",
    "compare['feature_select']=list()\n",
    "for name,model in pipelines:\n",
    "    kfold=KFold(n_splits=num_folds,random_state=seed)\n",
    "    cv_results=cross_val_score(model,X_train,Y_train,cv=kfold,scoring=scoring)\n",
    "    results.append(cv_results)\n",
    "    compare['feature_select'].append(cv_results.mean())\n",
    "    names.append(name)\n",
    "    msg=\"%s:%f (%f)\" % (name,cv_results.mean(),cv_results.std())\n",
    "    print msg"
   ]
  },
  {
   "cell_type": "code",
   "execution_count": 22,
   "metadata": {
    "collapsed": false
   },
   "outputs": [
    {
     "data": {
      "text/html": [
       "<div>\n",
       "<table border=\"1\" class=\"dataframe\">\n",
       "  <thead>\n",
       "    <tr style=\"text-align: right;\">\n",
       "      <th></th>\n",
       "      <th>Scaled</th>\n",
       "      <th>Unscaled</th>\n",
       "      <th>feature_select</th>\n",
       "    </tr>\n",
       "  </thead>\n",
       "  <tbody>\n",
       "    <tr>\n",
       "      <th>LR</th>\n",
       "      <td>-0.866731</td>\n",
       "      <td>-0.866731</td>\n",
       "      <td>-0.614138</td>\n",
       "    </tr>\n",
       "    <tr>\n",
       "      <th>LASSO</th>\n",
       "      <td>-1.302421</td>\n",
       "      <td>-0.871784</td>\n",
       "      <td>-0.593220</td>\n",
       "    </tr>\n",
       "    <tr>\n",
       "      <th>EN</th>\n",
       "      <td>-0.843278</td>\n",
       "      <td>-1.110711</td>\n",
       "      <td>-0.578053</td>\n",
       "    </tr>\n",
       "    <tr>\n",
       "      <th>KNN</th>\n",
       "      <td>-0.505584</td>\n",
       "      <td>-1.285727</td>\n",
       "      <td>-1.257027</td>\n",
       "    </tr>\n",
       "    <tr>\n",
       "      <th>Tree</th>\n",
       "      <td>-0.868810</td>\n",
       "      <td>-0.947208</td>\n",
       "      <td>-0.916912</td>\n",
       "    </tr>\n",
       "    <tr>\n",
       "      <th>SVR</th>\n",
       "      <td>-0.464510</td>\n",
       "      <td>-1.309465</td>\n",
       "      <td>-1.309465</td>\n",
       "    </tr>\n",
       "  </tbody>\n",
       "</table>\n",
       "</div>"
      ],
      "text/plain": [
       "         Scaled  Unscaled  feature_select\n",
       "LR    -0.866731 -0.866731       -0.614138\n",
       "LASSO -1.302421 -0.871784       -0.593220\n",
       "EN    -0.843278 -1.110711       -0.578053\n",
       "KNN   -0.505584 -1.285727       -1.257027\n",
       "Tree  -0.868810 -0.947208       -0.916912\n",
       "SVR   -0.464510 -1.309465       -1.309465"
      ]
     },
     "execution_count": 22,
     "metadata": {},
     "output_type": "execute_result"
    }
   ],
   "source": [
    "comparedf=pd.DataFrame(compare,index=algo)\n",
    "comparedf"
   ]
  },
  {
   "cell_type": "markdown",
   "metadata": {},
   "source": [
    "**Conclusion:**\n",
    "\n",
    "as we can see from the previous result, the scaled KNN and the scaled SVR have the lowest RMS score. So let's tune the parameter of these two models"
   ]
  },
  {
   "cell_type": "markdown",
   "metadata": {},
   "source": [
    "model 1. Scaled KNN"
   ]
  },
  {
   "cell_type": "code",
   "execution_count": 23,
   "metadata": {
    "collapsed": true
   },
   "outputs": [],
   "source": [
    "scaler=StandardScaler().fit(X_train)\n",
    "rescaledX=scaler.transform(X_train)\n",
    "k_values=np.array([1,3,5,7,9,11,13,15,17,19,21])\n",
    "param_grid=dict(n_neighbors=k_values)\n",
    "model=KNeighborsRegressor()\n",
    "kfold=KFold(n_splits=num_folds,random_state=seed)\n",
    "grid=GridSearchCV(estimator=model,param_grid=param_grid,scoring=scoring,cv=kfold)\n",
    "grid_result=grid.fit(rescaledX,Y_train)"
   ]
  },
  {
   "cell_type": "code",
   "execution_count": 24,
   "metadata": {
    "collapsed": false,
    "scrolled": true
   },
   "outputs": [
    {
     "name": "stdout",
     "output_type": "stream",
     "text": [
      "Best: -0.420598 using {'n_neighbors': 11}\n",
      "-0.946407 (0.243731) with: {'n_neighbors': 1}\n",
      "-0.458728 (0.186353) with: {'n_neighbors': 3}\n",
      "-0.467768 (0.290478) with: {'n_neighbors': 5}\n",
      "-0.436561 (0.249805) with: {'n_neighbors': 7}\n",
      "-0.424857 (0.193772) with: {'n_neighbors': 9}\n",
      "-0.420598 (0.183948) with: {'n_neighbors': 11}\n",
      "-0.439365 (0.224642) with: {'n_neighbors': 13}\n",
      "-0.453751 (0.242240) with: {'n_neighbors': 15}\n",
      "-0.477579 (0.227537) with: {'n_neighbors': 17}\n",
      "-0.503920 (0.237650) with: {'n_neighbors': 19}\n",
      "-0.529339 (0.242783) with: {'n_neighbors': 21}\n"
     ]
    }
   ],
   "source": [
    "print \"Best: %f using %s\" % (grid_result.best_score_,grid_result.best_params_)\n",
    "means=grid_result.cv_results_['mean_test_score']\n",
    "stds=grid_result.cv_results_['std_test_score']\n",
    "params=grid_result.cv_results_['params']\n",
    "\n",
    "for mean,stdev,param in zip(means,stds,params):\n",
    "    print \"%f (%f) with: %r\" % (mean,stdev,param)"
   ]
  },
  {
   "cell_type": "code",
   "execution_count": null,
   "metadata": {
    "collapsed": false
   },
   "outputs": [],
   "source": []
  },
  {
   "cell_type": "markdown",
   "metadata": {},
   "source": [
    "model 2. Scaled SVC"
   ]
  },
  {
   "cell_type": "code",
   "execution_count": 25,
   "metadata": {
    "collapsed": true
   },
   "outputs": [],
   "source": [
    "scaler=StandardScaler().fit(X_train)\n",
    "rescaledX=scaler.transform(X_train)\n",
    "c_values=[0.1,0.3,0.5,0.7,0.9,1.0,1.3,1.5,1.7,2.0]\n",
    "kernel_values=['linear','poly','rbf','sigmoid']\n",
    "param_grid=dict(C=c_values,kernel=kernel_values)\n",
    "model=SVR()\n",
    "kfold=KFold(n_splits=num_folds,random_state=seed)\n",
    "grid=GridSearchCV(estimator=model,param_grid=param_grid,scoring=scoring,cv=kfold)\n",
    "grid_result=grid.fit(rescaledX,Y_train)"
   ]
  },
  {
   "cell_type": "code",
   "execution_count": 26,
   "metadata": {
    "collapsed": false
   },
   "outputs": [
    {
     "name": "stdout",
     "output_type": "stream",
     "text": [
      "Best: -0.422221 using {'kernel': 'sigmoid', 'C': 0.9}\n",
      "-0.445611 (0.307801) with: {'kernel': 'linear', 'C': 0.1}\n",
      "-0.689337 (0.312960) with: {'kernel': 'poly', 'C': 0.1}\n",
      "-0.770845 (0.302326) with: {'kernel': 'rbf', 'C': 0.1}\n",
      "-0.503947 (0.231094) with: {'kernel': 'sigmoid', 'C': 0.1}\n",
      "-0.488497 (0.344638) with: {'kernel': 'linear', 'C': 0.3}\n",
      "-0.659184 (0.328435) with: {'kernel': 'poly', 'C': 0.3}\n",
      "-0.481207 (0.244531) with: {'kernel': 'rbf', 'C': 0.3}\n",
      "-0.436313 (0.288624) with: {'kernel': 'sigmoid', 'C': 0.3}\n",
      "-0.502530 (0.356147) with: {'kernel': 'linear', 'C': 0.5}\n",
      "-0.657252 (0.329912) with: {'kernel': 'poly', 'C': 0.5}\n",
      "-0.443984 (0.215392) with: {'kernel': 'rbf', 'C': 0.5}\n",
      "-0.424761 (0.315094) with: {'kernel': 'sigmoid', 'C': 0.5}\n",
      "-0.525571 (0.382763) with: {'kernel': 'linear', 'C': 0.7}\n",
      "-0.643865 (0.320198) with: {'kernel': 'poly', 'C': 0.7}\n",
      "-0.440521 (0.201504) with: {'kernel': 'rbf', 'C': 0.7}\n",
      "-0.434604 (0.319330) with: {'kernel': 'sigmoid', 'C': 0.7}\n",
      "-0.539750 (0.404344) with: {'kernel': 'linear', 'C': 0.9}\n",
      "-0.629737 (0.307990) with: {'kernel': 'poly', 'C': 0.9}\n",
      "-0.443233 (0.203274) with: {'kernel': 'rbf', 'C': 0.9}\n",
      "-0.422221 (0.343296) with: {'kernel': 'sigmoid', 'C': 0.9}\n",
      "-0.551950 (0.430381) with: {'kernel': 'linear', 'C': 1.0}\n",
      "-0.625222 (0.301591) with: {'kernel': 'poly', 'C': 1.0}\n",
      "-0.445293 (0.203681) with: {'kernel': 'rbf', 'C': 1.0}\n",
      "-0.425012 (0.343973) with: {'kernel': 'sigmoid', 'C': 1.0}\n",
      "-0.591686 (0.518543) with: {'kernel': 'linear', 'C': 1.3}\n",
      "-0.617226 (0.294621) with: {'kernel': 'poly', 'C': 1.3}\n",
      "-0.451177 (0.203892) with: {'kernel': 'rbf', 'C': 1.3}\n",
      "-0.487926 (0.272756) with: {'kernel': 'sigmoid', 'C': 1.3}\n",
      "-0.600283 (0.539544) with: {'kernel': 'linear', 'C': 1.5}\n",
      "-0.611358 (0.295596) with: {'kernel': 'poly', 'C': 1.5}\n",
      "-0.454973 (0.204076) with: {'kernel': 'rbf', 'C': 1.5}\n",
      "-0.532660 (0.294388) with: {'kernel': 'sigmoid', 'C': 1.5}\n",
      "-0.603621 (0.546744) with: {'kernel': 'linear', 'C': 1.7}\n",
      "-0.612616 (0.298641) with: {'kernel': 'poly', 'C': 1.7}\n",
      "-0.456619 (0.204807) with: {'kernel': 'rbf', 'C': 1.7}\n",
      "-0.592134 (0.408697) with: {'kernel': 'sigmoid', 'C': 1.7}\n",
      "-0.607692 (0.556005) with: {'kernel': 'linear', 'C': 2.0}\n",
      "-0.621077 (0.309660) with: {'kernel': 'poly', 'C': 2.0}\n",
      "-0.459266 (0.206085) with: {'kernel': 'rbf', 'C': 2.0}\n",
      "-0.771007 (0.536160) with: {'kernel': 'sigmoid', 'C': 2.0}\n"
     ]
    }
   ],
   "source": [
    "print \"Best: %f using %s\" % (grid_result.best_score_,grid_result.best_params_)\n",
    "means=grid_result.cv_results_['mean_test_score']\n",
    "stds=grid_result.cv_results_['std_test_score']\n",
    "params=grid_result.cv_results_['params']\n",
    "\n",
    "for mean,stdev,param in zip(means,stds,params):\n",
    "    print \"%f (%f) with: %r\" % (mean,stdev,param)"
   ]
  },
  {
   "cell_type": "markdown",
   "metadata": {},
   "source": [
    "### 1.3 Make prediction for these two models\n",
    "Now since these two results are quite closed to each other. So let's make prediction for both of them"
   ]
  },
  {
   "cell_type": "code",
   "execution_count": 27,
   "metadata": {
    "collapsed": false
   },
   "outputs": [
    {
     "name": "stdout",
     "output_type": "stream",
     "text": [
      "0.30580897164\n"
     ]
    }
   ],
   "source": [
    "## Scaled KNN prediction\n",
    "\n",
    "scaler=StandardScaler().fit(X_train)\n",
    "rescaledX=scaler.transform(X_train)\n",
    "model=KNeighborsRegressor(n_neighbors=11)\n",
    "model.fit(rescaledX,Y_train)\n",
    "\n",
    "rescaledValidationX=scaler.transform(X_test)\n",
    "predictions=model.predict(rescaledValidationX)\n",
    "print mean_squared_error(Y_test,predictions)"
   ]
  },
  {
   "cell_type": "code",
   "execution_count": 28,
   "metadata": {
    "collapsed": false
   },
   "outputs": [
    {
     "data": {
      "text/plain": [
       "array([[ 1.,  0.,  0., ...,  0.,  0.,  0.],\n",
       "       [ 0.,  1.,  0., ...,  0.,  0.,  0.],\n",
       "       [ 0.,  0.,  1., ...,  0.,  0.,  0.],\n",
       "       ..., \n",
       "       [ 0.,  0.,  0., ...,  1.,  0.,  1.],\n",
       "       [ 0.,  0.,  0., ...,  0.,  1.,  0.],\n",
       "       [ 0.,  0.,  0., ...,  1.,  0.,  1.]])"
      ]
     },
     "execution_count": 28,
     "metadata": {},
     "output_type": "execute_result"
    }
   ],
   "source": [
    "A=model.kneighbors_graph(rescaledX,n_neighbors=11)\n",
    "A.toarray()"
   ]
  },
  {
   "cell_type": "code",
   "execution_count": 29,
   "metadata": {
    "collapsed": false
   },
   "outputs": [
    {
     "name": "stdout",
     "output_type": "stream",
     "text": [
      "0.360509513216\n"
     ]
    }
   ],
   "source": [
    "## Scaled SVR prediction\n",
    "\n",
    "scaler=StandardScaler().fit(X_train)\n",
    "rescaledX=scaler.transform(X_train)\n",
    "model=SVR(kernel='sigmoid', C=0.9)\n",
    "model.fit(rescaledX,Y_train)\n",
    "\n",
    "rescaledValidationX=scaler.transform(X_test)\n",
    "predictions=model.predict(rescaledValidationX)\n",
    "print mean_squared_error(Y_test,predictions)"
   ]
  },
  {
   "cell_type": "code",
   "execution_count": null,
   "metadata": {
    "collapsed": true
   },
   "outputs": [],
   "source": []
  },
  {
   "cell_type": "markdown",
   "metadata": {},
   "source": [
    "### 1.4 Ensemble methods\n",
    "\n",
    "Now let's do the same problem by using the ensemble algorithms"
   ]
  },
  {
   "cell_type": "code",
   "execution_count": 30,
   "metadata": {
    "collapsed": true
   },
   "outputs": [],
   "source": [
    "## build a models collection\n",
    "\n",
    "ensembles=[]\n",
    "ensembles.append(('RF',RandomForestRegressor()))\n",
    "ensembles.append(('GB',GradientBoostingRegressor()))\n",
    "ensembles.append(('ET',ExtraTreesRegressor()))\n",
    "ensembles.append(('AB',AdaBoostRegressor()))\n"
   ]
  },
  {
   "cell_type": "code",
   "execution_count": 31,
   "metadata": {
    "collapsed": false
   },
   "outputs": [
    {
     "name": "stdout",
     "output_type": "stream",
     "text": [
      "RF : -1.346827 (0.417083)\n",
      "GB : -1.346827 (0.417083)\n",
      "ET : -1.346827 (0.417083)\n",
      "AB : -1.346827 (0.417083)\n"
     ]
    }
   ],
   "source": [
    "result=[]\n",
    "names=[]\n",
    "\n",
    "for name,ensemble in ensembles:\n",
    "    kfold=KFold(n_splits=num_folds,random_state=seed)\n",
    "    cv_results=cross_val_score(model,X_train,Y_train,cv=kfold,scoring=scoring)\n",
    "    result.append(cv_results)\n",
    "    names.append(name)\n",
    "    msg='%s : %f (%f)' % (name,cv_results.mean(),cv_results.std())\n",
    "    print msg"
   ]
  },
  {
   "cell_type": "markdown",
   "metadata": {},
   "source": [
    "Now let's look at the scaled method"
   ]
  },
  {
   "cell_type": "code",
   "execution_count": 32,
   "metadata": {
    "collapsed": true
   },
   "outputs": [],
   "source": [
    "# Standardize the dataset\n",
    "\n",
    "pipelines=[]\n",
    "pipelines.append(('ScaledRF',Pipeline([('Scaler',StandardScaler()),('RF',RandomForestRegressor())])))\n",
    "pipelines.append(('ScaledGB',Pipeline([('Scaler',StandardScaler()),('GB',GradientBoostingRegressor())])))\n",
    "pipelines.append(('ScaledET',Pipeline([('Scaler',StandardScaler()),('ET',ExtraTreesRegressor())])))\n",
    "pipelines.append(('ScaledAB',Pipeline([('Scaler',StandardScaler()),('AB',AdaBoostRegressor())])))\n"
   ]
  },
  {
   "cell_type": "code",
   "execution_count": 33,
   "metadata": {
    "collapsed": false
   },
   "outputs": [
    {
     "name": "stdout",
     "output_type": "stream",
     "text": [
      "ScaledRF:-0.420152 (0.149596)\n",
      "ScaledGB:-0.366217 (0.128552)\n",
      "ScaledET:-0.424715 (0.162169)\n",
      "ScaledAB:-0.363531 (0.130701)\n"
     ]
    }
   ],
   "source": [
    "results=[]\n",
    "names=[]\n",
    "for name,model in pipelines:\n",
    "    kfold=KFold(n_splits=num_folds,random_state=seed)\n",
    "    cv_results=cross_val_score(model,X_train,Y_train,cv=kfold,scoring=scoring)\n",
    "    results.append(cv_results)\n",
    "    names.append(name)\n",
    "    msg=\"%s:%f (%f)\" % (name,cv_results.mean(),cv_results.std())\n",
    "    print msg"
   ]
  },
  {
   "cell_type": "markdown",
   "metadata": {},
   "source": [
    "Now let's tune the parameters of the model scaled GradientBoostingRegressor and AdaBoostRegressor"
   ]
  },
  {
   "cell_type": "code",
   "execution_count": 34,
   "metadata": {
    "collapsed": false
   },
   "outputs": [],
   "source": [
    "## Gradient Boosting Regressor\n",
    "\n",
    "scaler=StandardScaler().fit(X_train)\n",
    "rescaledX=scaler.transform(X_train)\n",
    "learning_rates=[0.01,0.1,1.0]\n",
    "number_estimators=[50,100,150,200,250,300,350,400]\n",
    "param_grid=dict(learning_rate=learning_rates,n_estimators=number_estimators)\n",
    "model=GradientBoostingRegressor(random_state=seed)\n",
    "kfold=KFold(n_splits=num_folds,random_state=seed)\n",
    "grid=GridSearchCV(estimator=model,param_grid=param_grid,scoring=scoring,cv=kfold)\n",
    "grid_result=grid.fit(rescaledX,Y_train)"
   ]
  },
  {
   "cell_type": "code",
   "execution_count": 35,
   "metadata": {
    "collapsed": false
   },
   "outputs": [
    {
     "name": "stdout",
     "output_type": "stream",
     "text": [
      "Best: -0.371368 using {'n_estimators': 50, 'learning_rate': 0.1}\n",
      "-0.734290 (0.271290) with: {'n_estimators': 50, 'learning_rate': 0.01}\n",
      "-0.515482 (0.185948) with: {'n_estimators': 100, 'learning_rate': 0.01}\n",
      "-0.428436 (0.152652) with: {'n_estimators': 150, 'learning_rate': 0.01}\n",
      "-0.393750 (0.139514) with: {'n_estimators': 200, 'learning_rate': 0.01}\n",
      "-0.382268 (0.137415) with: {'n_estimators': 250, 'learning_rate': 0.01}\n",
      "-0.375180 (0.137978) with: {'n_estimators': 300, 'learning_rate': 0.01}\n",
      "-0.371992 (0.138483) with: {'n_estimators': 350, 'learning_rate': 0.01}\n",
      "-0.372627 (0.140368) with: {'n_estimators': 400, 'learning_rate': 0.01}\n",
      "-0.371368 (0.126681) with: {'n_estimators': 50, 'learning_rate': 0.1}\n",
      "-0.373560 (0.134638) with: {'n_estimators': 100, 'learning_rate': 0.1}\n",
      "-0.374163 (0.137364) with: {'n_estimators': 150, 'learning_rate': 0.1}\n",
      "-0.374150 (0.138022) with: {'n_estimators': 200, 'learning_rate': 0.1}\n",
      "-0.374479 (0.137960) with: {'n_estimators': 250, 'learning_rate': 0.1}\n",
      "-0.374784 (0.138099) with: {'n_estimators': 300, 'learning_rate': 0.1}\n",
      "-0.374881 (0.138128) with: {'n_estimators': 350, 'learning_rate': 0.1}\n",
      "-0.374887 (0.138113) with: {'n_estimators': 400, 'learning_rate': 0.1}\n",
      "-0.774895 (0.383242) with: {'n_estimators': 50, 'learning_rate': 1.0}\n",
      "-0.774895 (0.383242) with: {'n_estimators': 100, 'learning_rate': 1.0}\n",
      "-0.774895 (0.383242) with: {'n_estimators': 150, 'learning_rate': 1.0}\n",
      "-0.774895 (0.383242) with: {'n_estimators': 200, 'learning_rate': 1.0}\n",
      "-0.774895 (0.383242) with: {'n_estimators': 250, 'learning_rate': 1.0}\n",
      "-0.774895 (0.383242) with: {'n_estimators': 300, 'learning_rate': 1.0}\n",
      "-0.774895 (0.383242) with: {'n_estimators': 350, 'learning_rate': 1.0}\n",
      "-0.774895 (0.383242) with: {'n_estimators': 400, 'learning_rate': 1.0}\n"
     ]
    }
   ],
   "source": [
    "print \"Best: %f using %s\" % (grid_result.best_score_,grid_result.best_params_)\n",
    "means=grid_result.cv_results_['mean_test_score']\n",
    "stds=grid_result.cv_results_['std_test_score']\n",
    "params=grid_result.cv_results_['params']\n",
    "\n",
    "for mean,stdev,param in zip(means,stds,params):\n",
    "    print \"%f (%f) with: %r\" % (mean,stdev,param)"
   ]
  },
  {
   "cell_type": "code",
   "execution_count": 36,
   "metadata": {
    "collapsed": true
   },
   "outputs": [],
   "source": [
    "scaler=StandardScaler().fit(X_train)\n",
    "rescaledX=scaler.transform(X_train)\n",
    "number_estimators=[50,100,150,200,250,300,350,400]\n",
    "param_grid=dict(n_estimators=number_estimators)\n",
    "model=AdaBoostRegressor(random_state=seed)\n",
    "kfold=KFold(n_splits=num_folds,random_state=seed)\n",
    "grid=GridSearchCV(estimator=model,param_grid=param_grid,scoring=scoring,cv=kfold)\n",
    "grid_result=grid.fit(rescaledX,Y_train)"
   ]
  },
  {
   "cell_type": "code",
   "execution_count": 37,
   "metadata": {
    "collapsed": false
   },
   "outputs": [
    {
     "name": "stdout",
     "output_type": "stream",
     "text": [
      "Best: -0.366510 using {'n_estimators': 50}\n",
      "-0.366510 (0.119623) with: {'n_estimators': 50}\n",
      "-0.387092 (0.145160) with: {'n_estimators': 100}\n",
      "-0.377380 (0.129288) with: {'n_estimators': 150}\n",
      "-0.376021 (0.139623) with: {'n_estimators': 200}\n",
      "-0.372004 (0.134935) with: {'n_estimators': 250}\n",
      "-0.372919 (0.131078) with: {'n_estimators': 300}\n",
      "-0.369237 (0.129514) with: {'n_estimators': 350}\n",
      "-0.368708 (0.130782) with: {'n_estimators': 400}\n"
     ]
    }
   ],
   "source": [
    "print \"Best: %f using %s\" % (grid_result.best_score_,grid_result.best_params_)\n",
    "means=grid_result.cv_results_['mean_test_score']\n",
    "stds=grid_result.cv_results_['std_test_score']\n",
    "params=grid_result.cv_results_['params']\n",
    "\n",
    "for mean,stdev,param in zip(means,stds,params):\n",
    "    print \"%f (%f) with: %r\" % (mean,stdev,param)"
   ]
  },
  {
   "cell_type": "code",
   "execution_count": 38,
   "metadata": {
    "collapsed": false
   },
   "outputs": [
    {
     "name": "stdout",
     "output_type": "stream",
     "text": [
      "0.278944279341\n"
     ]
    }
   ],
   "source": [
    "## Using Adaboostregressor for final prediction\n",
    "\n",
    "scaler=StandardScaler().fit(X_train)\n",
    "rescaledX=scaler.transform(X_train)\n",
    "model=AdaBoostRegressor(n_estimators=50,random_state=seed)\n",
    "model.fit(rescaledX,Y_train)\n",
    "\n",
    "rescaledValidationX=scaler.transform(X_test)\n",
    "predictions=model.predict(rescaledValidationX)\n",
    "print mean_squared_error(Y_test,predictions)"
   ]
  },
  {
   "cell_type": "code",
   "execution_count": null,
   "metadata": {
    "collapsed": true
   },
   "outputs": [],
   "source": []
  },
  {
   "cell_type": "markdown",
   "metadata": {
    "collapsed": true
   },
   "source": [
    "### 1.5 Importance of each Feature"
   ]
  },
  {
   "cell_type": "markdown",
   "metadata": {},
   "source": [
    "Now let's looked how important for some of the features. I am not going to go through all the features, only those interesting topic will be covered."
   ]
  },
  {
   "cell_type": "code",
   "execution_count": 65,
   "metadata": {
    "collapsed": true
   },
   "outputs": [],
   "source": [
    "## I will use statsmodles, which gives us a comprehensible details\n",
    "\n",
    "import statsmodels.api as sm\n",
    "from statsmodels.formula.api import ols"
   ]
  },
  {
   "cell_type": "code",
   "execution_count": 40,
   "metadata": {
    "collapsed": false,
    "scrolled": true
   },
   "outputs": [
    {
     "name": "stdout",
     "output_type": "stream",
     "text": [
      "There are 20 columns\n",
      "They are:\n",
      "Happiness\n",
      "Log GDP per capita\n",
      "Confidence in national government\n",
      "Social support\n",
      "Healthy life expectancy at birth\n",
      "Generosity\n",
      "GINI index (World Bank estimate), average 2000-13\n",
      "child\n",
      "healthExp\n",
      "publicEdu\n",
      "ave_visitor\n",
      "income\n",
      "homicide\n",
      "ecoFree\n",
      "uniEnro\n",
      "alcohol\n",
      "unemploy\n",
      "food\n",
      "suicide\n",
      "visitor\n"
     ]
    }
   ],
   "source": [
    "print_columns(origin1)"
   ]
  },
  {
   "cell_type": "code",
   "execution_count": 68,
   "metadata": {
    "collapsed": false
   },
   "outputs": [],
   "source": [
    "reorigin=origin1.rename(columns={'Log GDP per capita':'gdp','GINI index (World Bank estimate), average 2000-13':'gini'})"
   ]
  },
  {
   "cell_type": "code",
   "execution_count": 77,
   "metadata": {
    "collapsed": false
   },
   "outputs": [
    {
     "name": "stdout",
     "output_type": "stream",
     "text": [
      "------------------------------------------------------------------------------ \n",
      "\n",
      "---------------------------Happiness V.S. Log GDP----------------------------- \n",
      "\n",
      "------------------------------------------------------------------------------ \n",
      "\n"
     ]
    },
    {
     "data": {
      "text/html": [
       "<table class=\"simpletable\">\n",
       "<caption>OLS Regression Results</caption>\n",
       "<tr>\n",
       "  <th>Dep. Variable:</th>        <td>Happiness</td>    <th>  R-squared:         </th> <td>   0.750</td>\n",
       "</tr>\n",
       "<tr>\n",
       "  <th>Model:</th>                   <td>OLS</td>       <th>  Adj. R-squared:    </th> <td>   0.729</td>\n",
       "</tr>\n",
       "<tr>\n",
       "  <th>Method:</th>             <td>Least Squares</td>  <th>  F-statistic:       </th> <td>   34.68</td>\n",
       "</tr>\n",
       "<tr>\n",
       "  <th>Date:</th>             <td>Tue, 28 Mar 2017</td> <th>  Prob (F-statistic):</th> <td>4.65e-33</td>\n",
       "</tr>\n",
       "<tr>\n",
       "  <th>Time:</th>                 <td>11:06:30</td>     <th>  Log-Likelihood:    </th> <td> -117.16</td>\n",
       "</tr>\n",
       "<tr>\n",
       "  <th>No. Observations:</th>      <td>   139</td>      <th>  AIC:               </th> <td>   258.3</td>\n",
       "</tr>\n",
       "<tr>\n",
       "  <th>Df Residuals:</th>          <td>   127</td>      <th>  BIC:               </th> <td>   293.5</td>\n",
       "</tr>\n",
       "<tr>\n",
       "  <th>Df Model:</th>              <td>    11</td>      <th>                     </th>     <td> </td>   \n",
       "</tr>\n",
       "<tr>\n",
       "  <th>Covariance Type:</th>      <td>nonrobust</td>    <th>                     </th>     <td> </td>   \n",
       "</tr>\n",
       "</table>\n",
       "<table class=\"simpletable\">\n",
       "<tr>\n",
       "         <td></td>           <th>coef</th>     <th>std err</th>      <th>t</th>      <th>P>|t|</th> <th>[95.0% Conf. Int.]</th> \n",
       "</tr>\n",
       "<tr>\n",
       "  <th>Intercept</th>      <td>    0.4515</td> <td>    1.165</td> <td>    0.387</td> <td> 0.699</td> <td>   -1.855     2.758</td>\n",
       "</tr>\n",
       "<tr>\n",
       "  <th>gdp</th>            <td>   -0.2213</td> <td>    0.218</td> <td>   -1.017</td> <td> 0.311</td> <td>   -0.652     0.209</td>\n",
       "</tr>\n",
       "<tr>\n",
       "  <th>gini</th>           <td>    1.2685</td> <td>    0.753</td> <td>    1.684</td> <td> 0.095</td> <td>   -0.222     2.759</td>\n",
       "</tr>\n",
       "<tr>\n",
       "  <th>np.log(child)</th>  <td>   -0.0273</td> <td>    0.107</td> <td>   -0.256</td> <td> 0.798</td> <td>   -0.238     0.184</td>\n",
       "</tr>\n",
       "<tr>\n",
       "  <th>healthExp</th>      <td> 2.926e-05</td> <td> 5.18e-05</td> <td>    0.565</td> <td> 0.573</td> <td>-7.32e-05     0.000</td>\n",
       "</tr>\n",
       "<tr>\n",
       "  <th>food</th>           <td>    0.0001</td> <td>    0.000</td> <td>    0.644</td> <td> 0.521</td> <td>   -0.000     0.000</td>\n",
       "</tr>\n",
       "<tr>\n",
       "  <th>alcohol</th>        <td>   -0.0132</td> <td>    0.017</td> <td>   -0.783</td> <td> 0.435</td> <td>   -0.047     0.020</td>\n",
       "</tr>\n",
       "<tr>\n",
       "  <th>Generosity</th>     <td>    0.7802</td> <td>    0.395</td> <td>    1.973</td> <td> 0.051</td> <td>   -0.002     1.563</td>\n",
       "</tr>\n",
       "<tr>\n",
       "  <th>publicEdu</th>      <td>    0.0832</td> <td>    0.036</td> <td>    2.306</td> <td> 0.023</td> <td>    0.012     0.155</td>\n",
       "</tr>\n",
       "<tr>\n",
       "  <th>np.log(income)</th> <td>    0.7261</td> <td>    0.205</td> <td>    3.538</td> <td> 0.001</td> <td>    0.320     1.132</td>\n",
       "</tr>\n",
       "<tr>\n",
       "  <th>unemploy</th>       <td>   -0.0300</td> <td>    0.009</td> <td>   -3.165</td> <td> 0.002</td> <td>   -0.049    -0.011</td>\n",
       "</tr>\n",
       "<tr>\n",
       "  <th>ave_visitor</th>    <td>-6.069e-05</td> <td> 2.24e-05</td> <td>   -2.711</td> <td> 0.008</td> <td>   -0.000 -1.64e-05</td>\n",
       "</tr>\n",
       "</table>\n",
       "<table class=\"simpletable\">\n",
       "<tr>\n",
       "  <th>Omnibus:</th>       <td> 0.603</td> <th>  Durbin-Watson:     </th> <td>   1.898</td>\n",
       "</tr>\n",
       "<tr>\n",
       "  <th>Prob(Omnibus):</th> <td> 0.740</td> <th>  Jarque-Bera (JB):  </th> <td>   0.709</td>\n",
       "</tr>\n",
       "<tr>\n",
       "  <th>Skew:</th>          <td> 0.017</td> <th>  Prob(JB):          </th> <td>   0.702</td>\n",
       "</tr>\n",
       "<tr>\n",
       "  <th>Kurtosis:</th>      <td> 2.652</td> <th>  Cond. No.          </th> <td>8.18e+04</td>\n",
       "</tr>\n",
       "</table>"
      ],
      "text/plain": [
       "<class 'statsmodels.iolib.summary.Summary'>\n",
       "\"\"\"\n",
       "                            OLS Regression Results                            \n",
       "==============================================================================\n",
       "Dep. Variable:              Happiness   R-squared:                       0.750\n",
       "Model:                            OLS   Adj. R-squared:                  0.729\n",
       "Method:                 Least Squares   F-statistic:                     34.68\n",
       "Date:                Tue, 28 Mar 2017   Prob (F-statistic):           4.65e-33\n",
       "Time:                        11:06:30   Log-Likelihood:                -117.16\n",
       "No. Observations:                 139   AIC:                             258.3\n",
       "Df Residuals:                     127   BIC:                             293.5\n",
       "Df Model:                          11                                         \n",
       "Covariance Type:            nonrobust                                         \n",
       "==================================================================================\n",
       "                     coef    std err          t      P>|t|      [95.0% Conf. Int.]\n",
       "----------------------------------------------------------------------------------\n",
       "Intercept          0.4515      1.165      0.387      0.699        -1.855     2.758\n",
       "gdp               -0.2213      0.218     -1.017      0.311        -0.652     0.209\n",
       "gini               1.2685      0.753      1.684      0.095        -0.222     2.759\n",
       "np.log(child)     -0.0273      0.107     -0.256      0.798        -0.238     0.184\n",
       "healthExp       2.926e-05   5.18e-05      0.565      0.573     -7.32e-05     0.000\n",
       "food               0.0001      0.000      0.644      0.521        -0.000     0.000\n",
       "alcohol           -0.0132      0.017     -0.783      0.435        -0.047     0.020\n",
       "Generosity         0.7802      0.395      1.973      0.051        -0.002     1.563\n",
       "publicEdu          0.0832      0.036      2.306      0.023         0.012     0.155\n",
       "np.log(income)     0.7261      0.205      3.538      0.001         0.320     1.132\n",
       "unemploy          -0.0300      0.009     -3.165      0.002        -0.049    -0.011\n",
       "ave_visitor    -6.069e-05   2.24e-05     -2.711      0.008        -0.000 -1.64e-05\n",
       "==============================================================================\n",
       "Omnibus:                        0.603   Durbin-Watson:                   1.898\n",
       "Prob(Omnibus):                  0.740   Jarque-Bera (JB):                0.709\n",
       "Skew:                           0.017   Prob(JB):                        0.702\n",
       "Kurtosis:                       2.652   Cond. No.                     8.18e+04\n",
       "==============================================================================\n",
       "\n",
       "Warnings:\n",
       "[1] Standard Errors assume that the covariance matrix of the errors is correctly specified.\n",
       "[2] The condition number is large, 8.18e+04. This might indicate that there are\n",
       "strong multicollinearity or other numerical problems.\n",
       "\"\"\""
      ]
     },
     "execution_count": 77,
     "metadata": {},
     "output_type": "execute_result"
    }
   ],
   "source": [
    "## 1st, let's look at the happiness vs Log GDP\n",
    "\n",
    "m =ols('Happiness~gdp+gini+np.log(child)+healthExp+food+alcohol+Generosity+publicEdu+np.log(income)+unemploy+ave_visitor',reorigin).fit()\n",
    "print \"------------------------------------------------------------------------------ \\n\"\n",
    "print \"---------------------------Happiness V.S. Log GDP----------------------------- \\n\"\n",
    "print \"------------------------------------------------------------------------------ \\n\"\n",
    "m.summary()"
   ]
  },
  {
   "cell_type": "code",
   "execution_count": 73,
   "metadata": {
    "collapsed": false
   },
   "outputs": [
    {
     "data": {
      "text/plain": [
       "1.1654194498672763e-29"
      ]
     },
     "execution_count": 73,
     "metadata": {},
     "output_type": "execute_result"
    }
   ],
   "source": [
    "m.f_pvalue"
   ]
  },
  {
   "cell_type": "code",
   "execution_count": null,
   "metadata": {
    "collapsed": false
   },
   "outputs": [],
   "source": []
  },
  {
   "cell_type": "code",
   "execution_count": null,
   "metadata": {
    "collapsed": false
   },
   "outputs": [],
   "source": []
  },
  {
   "cell_type": "code",
   "execution_count": null,
   "metadata": {
    "collapsed": false
   },
   "outputs": [],
   "source": []
  },
  {
   "cell_type": "code",
   "execution_count": null,
   "metadata": {
    "collapsed": true
   },
   "outputs": [],
   "source": []
  },
  {
   "cell_type": "code",
   "execution_count": null,
   "metadata": {
    "collapsed": true
   },
   "outputs": [],
   "source": []
  },
  {
   "cell_type": "code",
   "execution_count": null,
   "metadata": {
    "collapsed": true
   },
   "outputs": [],
   "source": []
  },
  {
   "cell_type": "code",
   "execution_count": null,
   "metadata": {
    "collapsed": true
   },
   "outputs": [],
   "source": []
  },
  {
   "cell_type": "markdown",
   "metadata": {
    "collapsed": true
   },
   "source": [
    "## 2. Dataset #2"
   ]
  },
  {
   "cell_type": "code",
   "execution_count": 95,
   "metadata": {
    "collapsed": true
   },
   "outputs": [],
   "source": [
    "origin2=pd.read_csv('data2.csv',sep=',',index_col=0)"
   ]
  },
  {
   "cell_type": "code",
   "execution_count": 96,
   "metadata": {
    "collapsed": false
   },
   "outputs": [
    {
     "data": {
      "text/html": [
       "<div>\n",
       "<table border=\"1\" class=\"dataframe\">\n",
       "  <thead>\n",
       "    <tr style=\"text-align: right;\">\n",
       "      <th></th>\n",
       "      <th>Happiness</th>\n",
       "      <th>Log GDP per capita</th>\n",
       "      <th>Confidence in national government</th>\n",
       "      <th>Social support</th>\n",
       "      <th>Healthy life expectancy at birth</th>\n",
       "      <th>Generosity</th>\n",
       "      <th>GINI index (World Bank estimate), average 2000-13</th>\n",
       "      <th>publicEdu</th>\n",
       "      <th>homicide</th>\n",
       "      <th>ecoFree</th>\n",
       "      <th>uniEnro</th>\n",
       "      <th>alcohol</th>\n",
       "      <th>unemploy</th>\n",
       "      <th>food</th>\n",
       "      <th>suicide</th>\n",
       "      <th>visitor</th>\n",
       "      <th>log_child</th>\n",
       "      <th>log_healthExp</th>\n",
       "      <th>log_income</th>\n",
       "      <th>log_ave_visitor</th>\n",
       "    </tr>\n",
       "  </thead>\n",
       "  <tbody>\n",
       "    <tr>\n",
       "      <th>0</th>\n",
       "      <td>3.782938</td>\n",
       "      <td>7.549241</td>\n",
       "      <td>0.435440</td>\n",
       "      <td>0.520637</td>\n",
       "      <td>48.738346</td>\n",
       "      <td>0.247900</td>\n",
       "      <td>0.300000</td>\n",
       "      <td>3.1</td>\n",
       "      <td>6.6</td>\n",
       "      <td>1.0</td>\n",
       "      <td>4.0</td>\n",
       "      <td>0.01</td>\n",
       "      <td>8.5</td>\n",
       "      <td>2100.0</td>\n",
       "      <td>5.7</td>\n",
       "      <td>0</td>\n",
       "      <td>4.600158</td>\n",
       "      <td>4.060443</td>\n",
       "      <td>6.238325</td>\n",
       "      <td>-2.302585</td>\n",
       "    </tr>\n",
       "    <tr>\n",
       "      <th>1</th>\n",
       "      <td>5.510124</td>\n",
       "      <td>9.189268</td>\n",
       "      <td>0.364894</td>\n",
       "      <td>0.784502</td>\n",
       "      <td>67.942978</td>\n",
       "      <td>-0.169465</td>\n",
       "      <td>0.305000</td>\n",
       "      <td>3.5</td>\n",
       "      <td>5.5</td>\n",
       "      <td>65.1</td>\n",
       "      <td>58.6</td>\n",
       "      <td>5.14</td>\n",
       "      <td>13.9</td>\n",
       "      <td>3023.0</td>\n",
       "      <td>5.9</td>\n",
       "      <td>3156000</td>\n",
       "      <td>2.740840</td>\n",
       "      <td>5.480639</td>\n",
       "      <td>8.353497</td>\n",
       "      <td>4.747385</td>\n",
       "    </tr>\n",
       "    <tr>\n",
       "      <th>2</th>\n",
       "      <td>5.604596</td>\n",
       "      <td>9.487703</td>\n",
       "      <td>0.447821</td>\n",
       "      <td>0.839397</td>\n",
       "      <td>64.001305</td>\n",
       "      <td>-0.198894</td>\n",
       "      <td>0.388313</td>\n",
       "      <td>4.3</td>\n",
       "      <td>1.3</td>\n",
       "      <td>51.0</td>\n",
       "      <td>32.2</td>\n",
       "      <td>0.66</td>\n",
       "      <td>11.0</td>\n",
       "      <td>3272.0</td>\n",
       "      <td>1.9</td>\n",
       "      <td>2634000</td>\n",
       "      <td>3.261935</td>\n",
       "      <td>5.814131</td>\n",
       "      <td>8.418919</td>\n",
       "      <td>0.187238</td>\n",
       "    </tr>\n",
       "    <tr>\n",
       "      <th>3</th>\n",
       "      <td>4.360250</td>\n",
       "      <td>8.886378</td>\n",
       "      <td>0.237091</td>\n",
       "      <td>0.752593</td>\n",
       "      <td>44.400314</td>\n",
       "      <td>-0.138073</td>\n",
       "      <td>0.473400</td>\n",
       "      <td>3.4</td>\n",
       "      <td>9.8</td>\n",
       "      <td>46.7</td>\n",
       "      <td>6.9</td>\n",
       "      <td>8.24</td>\n",
       "      <td>6.9</td>\n",
       "      <td>2384.0</td>\n",
       "      <td>13.8</td>\n",
       "      <td>528000</td>\n",
       "      <td>5.148657</td>\n",
       "      <td>5.123964</td>\n",
       "      <td>8.161946</td>\n",
       "      <td>-0.647184</td>\n",
       "    </tr>\n",
       "    <tr>\n",
       "      <th>4</th>\n",
       "      <td>6.468387</td>\n",
       "      <td>9.805600</td>\n",
       "      <td>0.418255</td>\n",
       "      <td>0.901776</td>\n",
       "      <td>66.838005</td>\n",
       "      <td>-0.160000</td>\n",
       "      <td>0.479421</td>\n",
       "      <td>5.1</td>\n",
       "      <td>6.6</td>\n",
       "      <td>48.0</td>\n",
       "      <td>79.0</td>\n",
       "      <td>8.35</td>\n",
       "      <td>7.2</td>\n",
       "      <td>3155.0</td>\n",
       "      <td>10.3</td>\n",
       "      <td>5587000</td>\n",
       "      <td>2.624669</td>\n",
       "      <td>6.588926</td>\n",
       "      <td>9.248695</td>\n",
       "      <td>0.761515</td>\n",
       "    </tr>\n",
       "  </tbody>\n",
       "</table>\n",
       "</div>"
      ],
      "text/plain": [
       "   Happiness  Log GDP per capita  Confidence in national government  Social support  Healthy life expectancy at birth  Generosity  GINI index (World Bank estimate), average 2000-13  publicEdu  homicide  ecoFree  uniEnro  alcohol  unemploy    food  suicide  visitor  log_child  log_healthExp  log_income  log_ave_visitor\n",
       "0   3.782938            7.549241                           0.435440        0.520637                         48.738346    0.247900                                           0.300000        3.1       6.6      1.0      4.0     0.01       8.5  2100.0      5.7        0   4.600158       4.060443    6.238325        -2.302585\n",
       "1   5.510124            9.189268                           0.364894        0.784502                         67.942978   -0.169465                                           0.305000        3.5       5.5     65.1     58.6     5.14      13.9  3023.0      5.9  3156000   2.740840       5.480639    8.353497         4.747385\n",
       "2   5.604596            9.487703                           0.447821        0.839397                         64.001305   -0.198894                                           0.388313        4.3       1.3     51.0     32.2     0.66      11.0  3272.0      1.9  2634000   3.261935       5.814131    8.418919         0.187238\n",
       "3   4.360250            8.886378                           0.237091        0.752593                         44.400314   -0.138073                                           0.473400        3.4       9.8     46.7      6.9     8.24       6.9  2384.0     13.8   528000   5.148657       5.123964    8.161946        -0.647184\n",
       "4   6.468387            9.805600                           0.418255        0.901776                         66.838005   -0.160000                                           0.479421        5.1       6.6     48.0     79.0     8.35       7.2  3155.0     10.3  5587000   2.624669       6.588926    9.248695         0.761515"
      ]
     },
     "execution_count": 96,
     "metadata": {},
     "output_type": "execute_result"
    }
   ],
   "source": [
    "origin2.head()"
   ]
  },
  {
   "cell_type": "code",
   "execution_count": 97,
   "metadata": {
    "collapsed": false
   },
   "outputs": [
    {
     "name": "stdout",
     "output_type": "stream",
     "text": [
      "There are 20 columns\n",
      "They are:\n",
      "Happiness\n",
      "Log GDP per capita\n",
      "Confidence in national government\n",
      "Social support\n",
      "Healthy life expectancy at birth\n",
      "Generosity\n",
      "GINI index (World Bank estimate), average 2000-13\n",
      "publicEdu\n",
      "homicide\n",
      "ecoFree\n",
      "uniEnro\n",
      "alcohol\n",
      "unemploy\n",
      "food\n",
      "suicide\n",
      "visitor\n",
      "log_child\n",
      "log_healthExp\n",
      "log_income\n",
      "log_ave_visitor\n"
     ]
    }
   ],
   "source": [
    "print_columns(origin2)"
   ]
  },
  {
   "cell_type": "code",
   "execution_count": 98,
   "metadata": {
    "collapsed": false
   },
   "outputs": [
    {
     "name": "stdout",
     "output_type": "stream",
     "text": [
      "20  columns:\n",
      "Happiness : number of nan:  0 ,  float64\n",
      "Log GDP per capita : number of nan:  0 ,  float64\n",
      "Confidence in national government : number of nan:  0 ,  float64\n",
      "Social support : number of nan:  0 ,  float64\n",
      "Healthy life expectancy at birth : number of nan:  0 ,  float64\n",
      "Generosity : number of nan:  0 ,  float64\n",
      "GINI index (World Bank estimate), average 2000-13 : number of nan:  0 ,  float64\n",
      "publicEdu : number of nan:  0 ,  float64\n",
      "homicide : number of nan:  0 ,  float64\n",
      "ecoFree : number of nan:  0 ,  float64\n",
      "uniEnro : number of nan:  0 ,  float64\n",
      "alcohol : number of nan:  0 ,  float64\n",
      "unemploy : number of nan:  0 ,  float64\n",
      "food : number of nan:  0 ,  float64\n",
      "suicide : number of nan:  0 ,  float64\n",
      "visitor : number of nan:  0 ,  int64\n",
      "log_child : number of nan:  0 ,  float64\n",
      "log_healthExp : number of nan:  0 ,  float64\n",
      "log_income : number of nan:  0 ,  float64\n",
      "log_ave_visitor : number of nan:  0 ,  float64\n"
     ]
    }
   ],
   "source": [
    "list_null(origin2)"
   ]
  },
  {
   "cell_type": "code",
   "execution_count": 99,
   "metadata": {
    "collapsed": true
   },
   "outputs": [],
   "source": [
    "## Convert our dataframe to numpy array, since we are not interested in the column names\n",
    "\n",
    "array=origin2.values"
   ]
  },
  {
   "cell_type": "code",
   "execution_count": 100,
   "metadata": {
    "collapsed": true
   },
   "outputs": [],
   "source": [
    "## X is the independent variables\n",
    "## Y is the dependent variable that we are going to predict\n",
    "\n",
    "X=array[:,1:]\n",
    "Y=array[:,0]"
   ]
  },
  {
   "cell_type": "code",
   "execution_count": 101,
   "metadata": {
    "collapsed": true
   },
   "outputs": [],
   "source": [
    "## Algorithm comparison table\n",
    "\n",
    "compare=dict()"
   ]
  },
  {
   "cell_type": "markdown",
   "metadata": {},
   "source": [
    "**Split the train and test dataset**"
   ]
  },
  {
   "cell_type": "code",
   "execution_count": 102,
   "metadata": {
    "collapsed": true
   },
   "outputs": [],
   "source": [
    "X_train,X_test,Y_train,Y_test=train_test_split(X,Y,test_size=0.33,random_state=7)"
   ]
  },
  {
   "cell_type": "code",
   "execution_count": 103,
   "metadata": {
    "collapsed": true
   },
   "outputs": [],
   "source": [
    "# Test options and evaluation metric\n",
    "\n",
    "num_folds=10  ## k-fold cross validation parameter\n",
    "seed=7\n",
    "scoring='neg_mean_squared_error' ## the metric for linear regression accuracy"
   ]
  },
  {
   "cell_type": "code",
   "execution_count": 104,
   "metadata": {
    "collapsed": true
   },
   "outputs": [],
   "source": [
    "# Spot-Check Algorithms\n",
    "\n",
    "models=[]\n",
    "models.append(('LR',LinearRegression()))\n",
    "models.append(('LASSO',Lasso()))\n",
    "models.append(('EN',ElasticNet()))\n",
    "models.append(('KNN',KNeighborsRegressor()))\n",
    "models.append(('CART',DecisionTreeRegressor()))\n",
    "models.append(('SVR',SVR()))"
   ]
  },
  {
   "cell_type": "code",
   "execution_count": 105,
   "metadata": {
    "collapsed": false
   },
   "outputs": [
    {
     "name": "stdout",
     "output_type": "stream",
     "text": [
      "LR:-0.426812 (0.267671)\n",
      "LASSO:-0.718075 (0.402705)\n",
      "EN:-0.685355 (0.443935)\n",
      "KNN:-1.242950 (0.432450)\n",
      "CART:-0.864543 (0.385667)\n",
      "SVR:-1.309465 (0.464355)\n"
     ]
    }
   ],
   "source": [
    "# evaluate each model in turn\n",
    "\n",
    "results=[]\n",
    "names=[]\n",
    "compare['Unscaled']=list()\n",
    "for name,model in models:\n",
    "    kfold=KFold(n_splits=num_folds,random_state=seed)\n",
    "    cv_results=cross_val_score(model,X_train,Y_train,cv=kfold,scoring=scoring)\n",
    "    results.append(cv_results)\n",
    "    names.append(name)\n",
    "    compare['Unscaled'].append(cv_results.mean())\n",
    "    msg=\"%s:%f (%f)\" % (name,cv_results.mean(),cv_results.std())\n",
    "    print msg"
   ]
  },
  {
   "cell_type": "code",
   "execution_count": 106,
   "metadata": {
    "collapsed": false
   },
   "outputs": [
    {
     "data": {
      "text/plain": [
       "[<matplotlib.text.Text at 0xa7aa5f0>,\n",
       " <matplotlib.text.Text at 0xa72c610>,\n",
       " <matplotlib.text.Text at 0xa8c9d90>,\n",
       " <matplotlib.text.Text at 0xa8d5170>,\n",
       " <matplotlib.text.Text at 0xa8d5530>,\n",
       " <matplotlib.text.Text at 0xa8d58f0>]"
      ]
     },
     "execution_count": 106,
     "metadata": {},
     "output_type": "execute_result"
    },
    {
     "data": {
      "image/png": "[encoded data removed]",
      "text/plain": [
       "<matplotlib.figure.Figure at 0xa7b0770>"
      ]
     },
     "metadata": {
      "image/png": {
       "height": 371,
       "width": 444
      }
     },
     "output_type": "display_data"
    }
   ],
   "source": [
    "fig,ax=plt.subplots(1,1,figsize=(5,4))\n",
    "\n",
    "ax.set_title('Algorithm Comparison')\n",
    "ax.boxplot(results)\n",
    "ax.set_xticklabels(names)"
   ]
  },
  {
   "cell_type": "markdown",
   "metadata": {},
   "source": [
    "Now we finished the model calculation without any parameters. The interesting point is so far we did nothing with the dataset, so now let's consider feature selection and feature scaling effects on our dataset. On average, after rescaling the dataset, the RMS score is lower than unscaled data"
   ]
  },
  {
   "cell_type": "markdown",
   "metadata": {},
   "source": [
    "### 2.1 Evaluate Algorithms: Standardization"
   ]
  },
  {
   "cell_type": "code",
   "execution_count": 107,
   "metadata": {
    "collapsed": true
   },
   "outputs": [],
   "source": [
    "# Standardize the dataset\n",
    "\n",
    "pipelines=[]\n",
    "pipelines.append(('ScaledLR',Pipeline([('Scaler',StandardScaler()),('LR',LinearRegression())])))\n",
    "pipelines.append(('ScaledLASSO',Pipeline([('Scaler',StandardScaler()),('LASSO',Lasso())])))\n",
    "pipelines.append(('ScaledEN',Pipeline([('Scaler',StandardScaler()),('EN',ElasticNet())])))\n",
    "pipelines.append(('ScaledKNN',Pipeline([('Scaler',StandardScaler()),('KNN',KNeighborsRegressor())])))\n",
    "pipelines.append(('ScaledCART',Pipeline([('Scaler',StandardScaler()),('CART',DecisionTreeRegressor())])))\n",
    "pipelines.append(('ScaledSVR',Pipeline([('Scaler',StandardScaler()),('SVR',SVR())])))"
   ]
  },
  {
   "cell_type": "code",
   "execution_count": 108,
   "metadata": {
    "collapsed": false
   },
   "outputs": [
    {
     "name": "stdout",
     "output_type": "stream",
     "text": [
      "ScaledLR:-0.426812 (0.267671)\n",
      "ScaledLASSO:-1.302421 (0.495503)\n",
      "ScaledEN:-0.816776 (0.330822)\n",
      "ScaledKNN:-0.434117 (0.186640)\n",
      "ScaledCART:-0.810529 (0.332953)\n",
      "ScaledSVR:-0.452031 (0.195514)\n"
     ]
    }
   ],
   "source": [
    "results=[]\n",
    "names=[]\n",
    "compare['Scaled']=list()\n",
    "for name,model in pipelines:\n",
    "    kfold=KFold(n_splits=num_folds,random_state=seed)\n",
    "    cv_results=cross_val_score(model,X_train,Y_train,cv=kfold,scoring=scoring)\n",
    "    results.append(cv_results)\n",
    "    names.append(name)\n",
    "    compare['Scaled'].append(cv_results.mean())\n",
    "    msg=\"%s:%f (%f)\" % (name,cv_results.mean(),cv_results.std())\n",
    "    print msg"
   ]
  },
  {
   "cell_type": "code",
   "execution_count": 109,
   "metadata": {
    "collapsed": false
   },
   "outputs": [
    {
     "data": {
      "text/plain": [
       "[<matplotlib.text.Text at 0xa7bc070>,\n",
       " <matplotlib.text.Text at 0xa9443b0>,\n",
       " <matplotlib.text.Text at 0xa9c8f50>,\n",
       " <matplotlib.text.Text at 0xa9d5330>,\n",
       " <matplotlib.text.Text at 0xa9d56f0>,\n",
       " <matplotlib.text.Text at 0xa9d5ab0>]"
      ]
     },
     "execution_count": 109,
     "metadata": {},
     "output_type": "execute_result"
    },
    {
     "data": {
      "image/png": "[encoded data removed]",
      "text/plain": [
       "<matplotlib.figure.Figure at 0xa92ac90>"
      ]
     },
     "metadata": {
      "image/png": {
       "height": 425,
       "width": 444
      }
     },
     "output_type": "display_data"
    }
   ],
   "source": [
    "fig,ax=plt.subplots(1,1,figsize=(5,4))\n",
    "\n",
    "ax.set_title('Algorithm Comparison')\n",
    "ax.boxplot(results)\n",
    "ax.set_xticklabels(names,rotation=40)"
   ]
  },
  {
   "cell_type": "markdown",
   "metadata": {},
   "source": [
    "### 2.2 Evaluate Algorithms: Feature selection"
   ]
  },
  {
   "cell_type": "code",
   "execution_count": 110,
   "metadata": {
    "collapsed": true
   },
   "outputs": [],
   "source": [
    "## create feature union\n",
    "\n",
    "features=[]\n",
    "features.append(('pca',PCA(n_components=3)))\n",
    "features.append(('select_best',SelectKBest(k=6)))\n",
    "feature_union=FeatureUnion(features)"
   ]
  },
  {
   "cell_type": "code",
   "execution_count": 111,
   "metadata": {
    "collapsed": true
   },
   "outputs": [],
   "source": [
    "# Feature selection the dataset\n",
    "\n",
    "pipelines=[]\n",
    "pipelines.append(('SelectLR',Pipeline([('feature_union',feature_union),('LR',LinearRegression())])))\n",
    "pipelines.append(('SelectLASSO',Pipeline([('feature_union',feature_union),('LASSO',Lasso())])))\n",
    "pipelines.append(('SelectEN',Pipeline([('feature_union',feature_union),('EN',ElasticNet())])))\n",
    "pipelines.append(('SelectKNN',Pipeline([('feature_union',feature_union),('KNN',KNeighborsRegressor())])))\n",
    "pipelines.append(('SelectCART',Pipeline([('feature_union',feature_union),('CART',DecisionTreeRegressor())])))\n",
    "pipelines.append(('SelectSVR',Pipeline([('feature_union',feature_union),('SVR',SVR())])))"
   ]
  },
  {
   "cell_type": "code",
   "execution_count": 112,
   "metadata": {
    "collapsed": false
   },
   "outputs": [
    {
     "name": "stdout",
     "output_type": "stream",
     "text": [
      "SelectLR:-0.565484 (0.296455)\n",
      "SelectLASSO:-0.701710 (0.335138)\n",
      "SelectEN:-0.702924 (0.334439)\n",
      "SelectKNN:-1.255355 (0.405127)\n",
      "SelectCART:-0.908254 (0.524030)\n",
      "SelectSVR:-1.309854 (0.465115)\n"
     ]
    }
   ],
   "source": [
    "results=[]\n",
    "names=[]\n",
    "compare['feature_select']=list()\n",
    "for name,model in pipelines:\n",
    "    kfold=KFold(n_splits=num_folds,random_state=seed)\n",
    "    cv_results=cross_val_score(model,X_train,Y_train,cv=kfold,scoring=scoring)\n",
    "    results.append(cv_results)\n",
    "    names.append(name)\n",
    "    compare['feature_select'].append(cv_results.mean())\n",
    "    msg=\"%s:%f (%f)\" % (name,cv_results.mean(),cv_results.std())\n",
    "    print msg"
   ]
  },
  {
   "cell_type": "code",
   "execution_count": 113,
   "metadata": {
    "collapsed": false
   },
   "outputs": [
    {
     "data": {
      "text/html": [
       "<div>\n",
       "<table border=\"1\" class=\"dataframe\">\n",
       "  <thead>\n",
       "    <tr style=\"text-align: right;\">\n",
       "      <th></th>\n",
       "      <th>Scaled</th>\n",
       "      <th>Unscaled</th>\n",
       "      <th>feature_select</th>\n",
       "    </tr>\n",
       "  </thead>\n",
       "  <tbody>\n",
       "    <tr>\n",
       "      <th>LR</th>\n",
       "      <td>-0.426812</td>\n",
       "      <td>-0.426812</td>\n",
       "      <td>-0.565484</td>\n",
       "    </tr>\n",
       "    <tr>\n",
       "      <th>LASSO</th>\n",
       "      <td>-1.302421</td>\n",
       "      <td>-0.718075</td>\n",
       "      <td>-0.701710</td>\n",
       "    </tr>\n",
       "    <tr>\n",
       "      <th>EN</th>\n",
       "      <td>-0.816776</td>\n",
       "      <td>-0.685355</td>\n",
       "      <td>-0.702924</td>\n",
       "    </tr>\n",
       "    <tr>\n",
       "      <th>KNN</th>\n",
       "      <td>-0.434117</td>\n",
       "      <td>-1.242950</td>\n",
       "      <td>-1.255355</td>\n",
       "    </tr>\n",
       "    <tr>\n",
       "      <th>Tree</th>\n",
       "      <td>-0.810529</td>\n",
       "      <td>-0.864543</td>\n",
       "      <td>-0.908254</td>\n",
       "    </tr>\n",
       "    <tr>\n",
       "      <th>SVR</th>\n",
       "      <td>-0.452031</td>\n",
       "      <td>-1.309465</td>\n",
       "      <td>-1.309854</td>\n",
       "    </tr>\n",
       "  </tbody>\n",
       "</table>\n",
       "</div>"
      ],
      "text/plain": [
       "         Scaled  Unscaled  feature_select\n",
       "LR    -0.426812 -0.426812       -0.565484\n",
       "LASSO -1.302421 -0.718075       -0.701710\n",
       "EN    -0.816776 -0.685355       -0.702924\n",
       "KNN   -0.434117 -1.242950       -1.255355\n",
       "Tree  -0.810529 -0.864543       -0.908254\n",
       "SVR   -0.452031 -1.309465       -1.309854"
      ]
     },
     "execution_count": 113,
     "metadata": {},
     "output_type": "execute_result"
    }
   ],
   "source": [
    "comparedf2=pd.DataFrame(compare,index=algo)\n",
    "comparedf2"
   ]
  },
  {
   "cell_type": "markdown",
   "metadata": {},
   "source": [
    "**Conclusion:**\n",
    "\n",
    "as we can see from the previous result, the scaled KNN and the scaled LinearRegression have the lowest RMS score. So let's tune the parameter of these two models"
   ]
  },
  {
   "cell_type": "markdown",
   "metadata": {},
   "source": [
    "model 1. Scaled KNN"
   ]
  },
  {
   "cell_type": "code",
   "execution_count": 53,
   "metadata": {
    "collapsed": true
   },
   "outputs": [],
   "source": [
    "scaler=StandardScaler().fit(X_train)\n",
    "rescaledX=scaler.transform(X_train)\n",
    "k_values=np.array([1,3,5,7,9,11,13,15,17,19,21])\n",
    "param_grid=dict(n_neighbors=k_values)\n",
    "model=KNeighborsRegressor()\n",
    "kfold=KFold(n_splits=num_folds,random_state=seed)\n",
    "grid=GridSearchCV(estimator=model,param_grid=param_grid,scoring=scoring,cv=kfold)\n",
    "grid_result=grid.fit(rescaledX,Y_train)"
   ]
  },
  {
   "cell_type": "code",
   "execution_count": 54,
   "metadata": {
    "collapsed": false
   },
   "outputs": [
    {
     "name": "stdout",
     "output_type": "stream",
     "text": [
      "Best: -0.379454 using {'n_neighbors': 5}\n",
      "-0.855381 (0.243034) with: {'n_neighbors': 1}\n",
      "-0.474505 (0.199212) with: {'n_neighbors': 3}\n",
      "-0.379454 (0.134772) with: {'n_neighbors': 5}\n",
      "-0.425472 (0.157984) with: {'n_neighbors': 7}\n",
      "-0.427944 (0.162020) with: {'n_neighbors': 9}\n",
      "-0.429071 (0.206493) with: {'n_neighbors': 11}\n",
      "-0.450448 (0.205829) with: {'n_neighbors': 13}\n",
      "-0.461780 (0.184691) with: {'n_neighbors': 15}\n",
      "-0.495346 (0.197537) with: {'n_neighbors': 17}\n",
      "-0.509730 (0.203903) with: {'n_neighbors': 19}\n",
      "-0.523743 (0.214181) with: {'n_neighbors': 21}\n"
     ]
    }
   ],
   "source": [
    "print \"Best: %f using %s\" % (grid_result.best_score_,grid_result.best_params_)\n",
    "means=grid_result.cv_results_['mean_test_score']\n",
    "stds=grid_result.cv_results_['std_test_score']\n",
    "params=grid_result.cv_results_['params']\n",
    "\n",
    "for mean,stdev,param in zip(means,stds,params):\n",
    "    print \"%f (%f) with: %r\" % (mean,stdev,param)"
   ]
  },
  {
   "cell_type": "markdown",
   "metadata": {},
   "source": [
    "### 2.3 Make prediction for these two models\n",
    "Now since these two results are quite closed to each other. So let's make prediction for both of them"
   ]
  },
  {
   "cell_type": "code",
   "execution_count": 55,
   "metadata": {
    "collapsed": false
   },
   "outputs": [
    {
     "name": "stdout",
     "output_type": "stream",
     "text": [
      "0.310804617206\n"
     ]
    }
   ],
   "source": [
    "## Scaled KNN prediction\n",
    "\n",
    "scaler=StandardScaler().fit(X_train)\n",
    "rescaledX=scaler.transform(X_train)\n",
    "model=KNeighborsRegressor(n_neighbors=11)\n",
    "model.fit(rescaledX,Y_train)\n",
    "\n",
    "rescaledValidationX=scaler.transform(X_test)\n",
    "predictions=model.predict(rescaledValidationX)\n",
    "print mean_squared_error(Y_test,predictions)"
   ]
  },
  {
   "cell_type": "code",
   "execution_count": 114,
   "metadata": {
    "collapsed": false
   },
   "outputs": [
    {
     "name": "stdout",
     "output_type": "stream",
     "text": [
      "0.334335494394\n"
     ]
    }
   ],
   "source": [
    "## Scaled LinearRegression prediction\n",
    "\n",
    "scaler=StandardScaler().fit(X_train)\n",
    "rescaledX=scaler.transform(X_train)\n",
    "model=LinearRegression()\n",
    "model.fit(rescaledX,Y_train)\n",
    "\n",
    "rescaledValidationX=scaler.transform(X_test)\n",
    "predictions=model.predict(rescaledValidationX)\n",
    "print mean_squared_error(Y_test,predictions)"
   ]
  },
  {
   "cell_type": "code",
   "execution_count": 124,
   "metadata": {
    "collapsed": false
   },
   "outputs": [
    {
     "name": "stdout",
     "output_type": "stream",
     "text": [
      "The feature is: Log GDP per capita,\n",
      " with coefficient -0.735897 \n",
      "\n",
      "The feature is: Confidence in national government,\n",
      " with coefficient -0.035128 \n",
      "\n",
      "The feature is: Social support,\n",
      " with coefficient 0.251310 \n",
      "\n",
      "The feature is: Healthy life expectancy at birth,\n",
      " with coefficient 0.613790 \n",
      "\n",
      "The feature is: Generosity,\n",
      " with coefficient 0.081899 \n",
      "\n",
      "The feature is: GINI index (World Bank estimate), average 2000-13,\n",
      " with coefficient -0.035893 \n",
      "\n",
      "The feature is: publicEdu,\n",
      " with coefficient 0.109762 \n",
      "\n",
      "The feature is: homicide,\n",
      " with coefficient 0.154522 \n",
      "\n",
      "The feature is: ecoFree,\n",
      " with coefficient -0.003021 \n",
      "\n",
      "The feature is: uniEnro,\n",
      " with coefficient -0.116862 \n",
      "\n",
      "The feature is: alcohol,\n",
      " with coefficient -0.051407 \n",
      "\n",
      "The feature is: unemploy,\n",
      " with coefficient -0.224128 \n",
      "\n",
      "The feature is: food,\n",
      " with coefficient 0.014834 \n",
      "\n",
      "The feature is: suicide,\n",
      " with coefficient -0.021568 \n",
      "\n",
      "The feature is: visitor,\n",
      " with coefficient -0.074193 \n",
      "\n",
      "The feature is: log_child,\n",
      " with coefficient 0.448333 \n",
      "\n",
      "The feature is: log_healthExp,\n",
      " with coefficient 0.118498 \n",
      "\n",
      "The feature is: log_income,\n",
      " with coefficient 1.483590 \n",
      "\n",
      "The feature is: log_ave_visitor,\n",
      " with coefficient -0.158272 \n",
      "\n"
     ]
    }
   ],
   "source": [
    "for i in range(rescaledX.shape[1]):\n",
    "    print \"The feature is: %s,\\n with coefficient %f \\n\"% (origin2.columns.values[i+1],model.coef_[i])"
   ]
  },
  {
   "cell_type": "markdown",
   "metadata": {},
   "source": [
    "### 2.4 Ensemble methods\n",
    "\n",
    "Now let's do the same problem by using the ensemble algorithms"
   ]
  },
  {
   "cell_type": "code",
   "execution_count": 57,
   "metadata": {
    "collapsed": true
   },
   "outputs": [],
   "source": [
    "## build a models collection\n",
    "\n",
    "ensembles=[]\n",
    "ensembles.append(('RF',RandomForestRegressor()))\n",
    "ensembles.append(('GB',GradientBoostingRegressor()))\n",
    "ensembles.append(('ET',ExtraTreesRegressor()))\n",
    "ensembles.append(('AB',AdaBoostRegressor()))\n"
   ]
  },
  {
   "cell_type": "code",
   "execution_count": 58,
   "metadata": {
    "collapsed": false
   },
   "outputs": [
    {
     "name": "stdout",
     "output_type": "stream",
     "text": [
      "RF : -0.426812 (0.267671)\n",
      "GB : -0.426812 (0.267671)\n",
      "ET : -0.426812 (0.267671)\n",
      "AB : -0.426812 (0.267671)\n"
     ]
    }
   ],
   "source": [
    "result=[]\n",
    "names=[]\n",
    "\n",
    "for name,ensemble in ensembles:\n",
    "    kfold=KFold(n_splits=num_folds,random_state=seed)\n",
    "    cv_results=cross_val_score(model,X_train,Y_train,cv=kfold,scoring=scoring)\n",
    "    result.append(cv_results)\n",
    "    names.append(name)\n",
    "    msg='%s : %f (%f)' % (name,cv_results.mean(),cv_results.std())\n",
    "    print msg"
   ]
  },
  {
   "cell_type": "markdown",
   "metadata": {},
   "source": [
    "Now let's look at the scaled method"
   ]
  },
  {
   "cell_type": "code",
   "execution_count": 59,
   "metadata": {
    "collapsed": true
   },
   "outputs": [],
   "source": [
    "# Standardize the dataset\n",
    "\n",
    "pipelines=[]\n",
    "pipelines.append(('ScaledRF',Pipeline([('Scaler',StandardScaler()),('RF',RandomForestRegressor())])))\n",
    "pipelines.append(('ScaledGB',Pipeline([('Scaler',StandardScaler()),('GB',GradientBoostingRegressor())])))\n",
    "pipelines.append(('ScaledET',Pipeline([('Scaler',StandardScaler()),('ET',ExtraTreesRegressor())])))\n",
    "pipelines.append(('ScaledAB',Pipeline([('Scaler',StandardScaler()),('AB',AdaBoostRegressor())])))"
   ]
  },
  {
   "cell_type": "code",
   "execution_count": 60,
   "metadata": {
    "collapsed": false
   },
   "outputs": [
    {
     "name": "stdout",
     "output_type": "stream",
     "text": [
      "ScaledRF:-0.416113 (0.129261)\n",
      "ScaledGB:-0.373170 (0.128556)\n",
      "ScaledET:-0.366742 (0.166409)\n",
      "ScaledAB:-0.378640 (0.119887)\n"
     ]
    }
   ],
   "source": [
    "results=[]\n",
    "names=[]\n",
    "for name,model in pipelines:\n",
    "    kfold=KFold(n_splits=num_folds,random_state=seed)\n",
    "    cv_results=cross_val_score(model,X_train,Y_train,cv=kfold,scoring=scoring)\n",
    "    results.append(cv_results)\n",
    "    names.append(name)\n",
    "    msg=\"%s:%f (%f)\" % (name,cv_results.mean(),cv_results.std())\n",
    "    print msg"
   ]
  },
  {
   "cell_type": "markdown",
   "metadata": {},
   "source": [
    "Now let's tune the parameters of the model scaled GradientBoostingRegressor and ExtraTreesRegressor"
   ]
  },
  {
   "cell_type": "code",
   "execution_count": 61,
   "metadata": {
    "collapsed": true
   },
   "outputs": [],
   "source": [
    "## Gradient Boosting Regressor\n",
    "\n",
    "scaler=StandardScaler().fit(X_train)\n",
    "rescaledX=scaler.transform(X_train)\n",
    "learning_rates=[0.01,0.1,1.0]\n",
    "number_estimators=[50,100,150,200,250,300,350,400]\n",
    "param_grid=dict(learning_rate=learning_rates,n_estimators=number_estimators)\n",
    "model=GradientBoostingRegressor(random_state=seed)\n",
    "kfold=KFold(n_splits=num_folds,random_state=seed)\n",
    "grid=GridSearchCV(estimator=model,param_grid=param_grid,scoring=scoring,cv=kfold)\n",
    "grid_result=grid.fit(rescaledX,Y_train)"
   ]
  },
  {
   "cell_type": "code",
   "execution_count": 62,
   "metadata": {
    "collapsed": false
   },
   "outputs": [
    {
     "name": "stdout",
     "output_type": "stream",
     "text": [
      "Best: -0.367994 using {'n_estimators': 50, 'learning_rate': 0.1}\n",
      "-0.733742 (0.271408) with: {'n_estimators': 50, 'learning_rate': 0.01}\n",
      "-0.513638 (0.184728) with: {'n_estimators': 100, 'learning_rate': 0.01}\n",
      "-0.425906 (0.151393) with: {'n_estimators': 150, 'learning_rate': 0.01}\n",
      "-0.390937 (0.138243) with: {'n_estimators': 200, 'learning_rate': 0.01}\n",
      "-0.378574 (0.135442) with: {'n_estimators': 250, 'learning_rate': 0.01}\n",
      "-0.371521 (0.135893) with: {'n_estimators': 300, 'learning_rate': 0.01}\n",
      "-0.368755 (0.136631) with: {'n_estimators': 350, 'learning_rate': 0.01}\n",
      "-0.368640 (0.137732) with: {'n_estimators': 400, 'learning_rate': 0.01}\n",
      "-0.367994 (0.125642) with: {'n_estimators': 50, 'learning_rate': 0.1}\n",
      "-0.370944 (0.133785) with: {'n_estimators': 100, 'learning_rate': 0.1}\n",
      "-0.371819 (0.136186) with: {'n_estimators': 150, 'learning_rate': 0.1}\n",
      "-0.371518 (0.136274) with: {'n_estimators': 200, 'learning_rate': 0.1}\n",
      "-0.371807 (0.136203) with: {'n_estimators': 250, 'learning_rate': 0.1}\n",
      "-0.372107 (0.136348) with: {'n_estimators': 300, 'learning_rate': 0.1}\n",
      "-0.372225 (0.136387) with: {'n_estimators': 350, 'learning_rate': 0.1}\n",
      "-0.372233 (0.136367) with: {'n_estimators': 400, 'learning_rate': 0.1}\n",
      "-0.776684 (0.384176) with: {'n_estimators': 50, 'learning_rate': 1.0}\n",
      "-0.776684 (0.384176) with: {'n_estimators': 100, 'learning_rate': 1.0}\n",
      "-0.776684 (0.384176) with: {'n_estimators': 150, 'learning_rate': 1.0}\n",
      "-0.776684 (0.384176) with: {'n_estimators': 200, 'learning_rate': 1.0}\n",
      "-0.776684 (0.384176) with: {'n_estimators': 250, 'learning_rate': 1.0}\n",
      "-0.776684 (0.384176) with: {'n_estimators': 300, 'learning_rate': 1.0}\n",
      "-0.776684 (0.384176) with: {'n_estimators': 350, 'learning_rate': 1.0}\n",
      "-0.776684 (0.384176) with: {'n_estimators': 400, 'learning_rate': 1.0}\n"
     ]
    }
   ],
   "source": [
    "print \"Best: %f using %s\" % (grid_result.best_score_,grid_result.best_params_)\n",
    "means=grid_result.cv_results_['mean_test_score']\n",
    "stds=grid_result.cv_results_['std_test_score']\n",
    "params=grid_result.cv_results_['params']\n",
    "\n",
    "for mean,stdev,param in zip(means,stds,params):\n",
    "    print \"%f (%f) with: %r\" % (mean,stdev,param)"
   ]
  },
  {
   "cell_type": "code",
   "execution_count": 63,
   "metadata": {
    "collapsed": true
   },
   "outputs": [],
   "source": [
    "scaler=StandardScaler().fit(X_train)\n",
    "rescaledX=scaler.transform(X_train)\n",
    "max_depths=[1,5,10,15,20]\n",
    "param_grid=dict(max_depth=max_depths)\n",
    "model=ExtraTreesRegressor(random_state=seed)\n",
    "kfold=KFold(n_splits=num_folds,random_state=seed)\n",
    "grid=GridSearchCV(estimator=model,param_grid=param_grid,scoring=scoring,cv=kfold)\n",
    "grid_result=grid.fit(rescaledX,Y_train)"
   ]
  },
  {
   "cell_type": "code",
   "execution_count": 64,
   "metadata": {
    "collapsed": false
   },
   "outputs": [
    {
     "name": "stdout",
     "output_type": "stream",
     "text": [
      "Best: -0.358007 using {'max_depth': 5}\n",
      "-0.685811 (0.285889) with: {'max_depth': 1}\n",
      "-0.358007 (0.147123) with: {'max_depth': 5}\n",
      "-0.401025 (0.165861) with: {'max_depth': 10}\n",
      "-0.439564 (0.190974) with: {'max_depth': 15}\n",
      "-0.435958 (0.184175) with: {'max_depth': 20}\n"
     ]
    }
   ],
   "source": [
    "print \"Best: %f using %s\" % (grid_result.best_score_,grid_result.best_params_)\n",
    "means=grid_result.cv_results_['mean_test_score']\n",
    "stds=grid_result.cv_results_['std_test_score']\n",
    "params=grid_result.cv_results_['params']\n",
    "\n",
    "for mean,stdev,param in zip(means,stds,params):\n",
    "    print \"%f (%f) with: %r\" % (mean,stdev,param)"
   ]
  },
  {
   "cell_type": "code",
   "execution_count": 65,
   "metadata": {
    "collapsed": false
   },
   "outputs": [
    {
     "name": "stdout",
     "output_type": "stream",
     "text": [
      "0.322425442168\n"
     ]
    }
   ],
   "source": [
    "## Using Adaboostregressor for final prediction\n",
    "\n",
    "scaler=StandardScaler().fit(X_train)\n",
    "rescaledX=scaler.transform(X_train)\n",
    "model=ExtraTreesRegressor(max_depth=5,random_state=seed)\n",
    "model.fit(rescaledX,Y_train)\n",
    "\n",
    "rescaledValidationX=scaler.transform(X_test)\n",
    "predictions=model.predict(rescaledValidationX)\n",
    "print mean_squared_error(Y_test,predictions)"
   ]
  },
  {
   "cell_type": "code",
   "execution_count": null,
   "metadata": {
    "collapsed": true
   },
   "outputs": [],
   "source": []
  },
  {
   "cell_type": "code",
   "execution_count": null,
   "metadata": {
    "collapsed": true
   },
   "outputs": [],
   "source": []
  },
  {
   "cell_type": "code",
   "execution_count": null,
   "metadata": {
    "collapsed": true
   },
   "outputs": [],
   "source": []
  },
  {
   "cell_type": "code",
   "execution_count": null,
   "metadata": {
    "collapsed": true
   },
   "outputs": [],
   "source": []
  },
  {
   "cell_type": "code",
   "execution_count": null,
   "metadata": {
    "collapsed": true
   },
   "outputs": [],
   "source": []
  },
  {
   "cell_type": "code",
   "execution_count": null,
   "metadata": {
    "collapsed": true
   },
   "outputs": [],
   "source": []
  },
  {
   "cell_type": "code",
   "execution_count": null,
   "metadata": {
    "collapsed": false
   },
   "outputs": [],
   "source": []
  },
  {
   "cell_type": "code",
   "execution_count": null,
   "metadata": {
    "collapsed": true
   },
   "outputs": [],
   "source": []
  },
  {
   "cell_type": "code",
   "execution_count": null,
   "metadata": {
    "collapsed": true
   },
   "outputs": [],
   "source": []
  }
 ],
 "metadata": {
  "anaconda-cloud": {},
  "kernelspec": {
   "display_name": "Python [conda root]",
   "language": "python",
   "name": "conda-root-py"
  },
  "language_info": {
   "codemirror_mode": {
    "name": "ipython",
    "version": 2
   },
   "file_extension": ".py",
   "mimetype": "text/x-python",
   "name": "python",
   "nbconvert_exporter": "python",
   "pygments_lexer": "ipython2",
   "version": "2.7.12"
  }
 },
 "nbformat": 4,
 "nbformat_minor": 1
}
