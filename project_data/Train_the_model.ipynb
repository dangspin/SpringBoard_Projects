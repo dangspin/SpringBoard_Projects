{
 "cells": [
  {
   "cell_type": "markdown",
   "metadata": {},
   "source": [
    "# Model Training"
   ]
  },
  {
   "cell_type": "markdown",
   "metadata": {},
   "source": [
    "After the previous couple of ipython notebooks, now I have two datasets two investigate. One is the regular data I got from the website and have been cleaned up for the model training. The second dataset is based on the first one with improving the correlation. I used the logrithm function to scale the data. In this notebook, I will train the model for these two dataset seperatly and compare their results."
   ]
  },
  {
   "cell_type": "code",
   "execution_count": 1,
   "metadata": {
    "collapsed": true
   },
   "outputs": [],
   "source": [
    "# Handle table-like data and matrices calculation\n",
    "import numpy as np\n",
    "import scipy as sp\n",
    "import pandas as pd\n",
    "\n",
    "\n",
    "# Visualisation\n",
    "import matplotlib.pyplot as plt\n",
    "import seaborn as sns\n",
    "\n",
    "\n",
    "# Modelling Algorithms\n",
    "# I will look at only four classification algorithms: LogisticRegression, GaussianNB, SVM, RandomForestClassifier\n",
    "from sklearn.linear_model import Lasso\n",
    "from sklearn.linear_model import LinearRegression\n",
    "from sklearn.linear_model import Ridge\n",
    "from sklearn.linear_model import ElasticNet\n",
    "from sklearn.model_selection import train_test_split\n",
    "from sklearn.model_selection import KFold\n",
    "from sklearn.model_selection import cross_val_score\n",
    "from sklearn.model_selection import GridSearchCV\n",
    "from sklearn.tree import DecisionTreeRegressor\n",
    "from sklearn.neighbors import KNeighborsRegressor\n",
    "from sklearn.svm import SVR\n",
    "from sklearn.pipeline import Pipeline\n",
    "from sklearn.pipeline import FeatureUnion\n",
    "from sklearn.decomposition import PCA\n",
    "from sklearn.feature_selection import SelectKBest\n",
    "from sklearn.ensemble import RandomForestRegressor\n",
    "from sklearn.ensemble import GradientBoostingRegressor\n",
    "from sklearn.ensemble import ExtraTreesRegressor\n",
    "from sklearn.ensemble import AdaBoostRegressor\n",
    "\n",
    "# Modelling Helpers\n",
    "from sklearn.preprocessing import Imputer , Normalizer , scale, StandardScaler\n",
    "# from sklearn.cross_validation import train_test_split , StratifiedKFold\n",
    "from sklearn.feature_selection import RFECV\n",
    "from sklearn.metrics import accuracy_score\n",
    "from sklearn.metrics import mean_squared_error\n",
    "\n",
    "%matplotlib inline\n",
    "%config InlineBackend.figure_format = 'retina'\n",
    "\n",
    "pd.set_option('display.width', 500)\n",
    "pd.set_option('display.max_columns', 100)\n",
    "pd.set_option('display.notebook_repr_html', True)"
   ]
  },
  {
   "cell_type": "code",
   "execution_count": 2,
   "metadata": {
    "collapsed": true
   },
   "outputs": [],
   "source": [
    "## Some useful functions\n",
    "\n",
    "def print_columns(df):\n",
    "    print \"There are\",df.shape[1],'columns'\n",
    "    print \"They are:\"\n",
    "    for i in df.columns.values:\n",
    "        print i\n",
    "        \n",
    "def list_null(df):\n",
    "    print df.shape[1],' columns:'\n",
    "    for i in df.columns.values:\n",
    "        print i,': number of nan: ',df[i].isnull().sum(),', ',df[i].dtypes"
   ]
  },
  {
   "cell_type": "markdown",
   "metadata": {},
   "source": [
    "## 1. Dataset #1"
   ]
  },
  {
   "cell_type": "code",
   "execution_count": 3,
   "metadata": {
    "collapsed": false,
    "scrolled": true
   },
   "outputs": [],
   "source": [
    "origin1=pd.read_csv('data1.csv',sep=',',index_col=0)"
   ]
  },
  {
   "cell_type": "code",
   "execution_count": 4,
   "metadata": {
    "collapsed": false,
    "scrolled": true
   },
   "outputs": [
    {
     "data": {
      "text/html": [
       "<div>\n",
       "<table border=\"1\" class=\"dataframe\">\n",
       "  <thead>\n",
       "    <tr style=\"text-align: right;\">\n",
       "      <th></th>\n",
       "      <th>Happiness</th>\n",
       "      <th>Log GDP per capita</th>\n",
       "      <th>Confidence in national government</th>\n",
       "      <th>Social support</th>\n",
       "      <th>Healthy life expectancy at birth</th>\n",
       "      <th>Generosity</th>\n",
       "      <th>GINI index (World Bank estimate), average 2000-13</th>\n",
       "      <th>child</th>\n",
       "      <th>healthExp</th>\n",
       "      <th>publicEdu</th>\n",
       "      <th>ave_visitor</th>\n",
       "      <th>income</th>\n",
       "      <th>homicide</th>\n",
       "      <th>ecoFree</th>\n",
       "      <th>uniEnro</th>\n",
       "      <th>alcohol</th>\n",
       "      <th>unemploy</th>\n",
       "      <th>food</th>\n",
       "      <th>suicide</th>\n",
       "      <th>visitor</th>\n",
       "    </tr>\n",
       "  </thead>\n",
       "  <tbody>\n",
       "    <tr>\n",
       "      <th>0</th>\n",
       "      <td>3.782938</td>\n",
       "      <td>7.549241</td>\n",
       "      <td>0.435440</td>\n",
       "      <td>0.520637</td>\n",
       "      <td>48.738346</td>\n",
       "      <td>0.247900</td>\n",
       "      <td>0.300000</td>\n",
       "      <td>99.5</td>\n",
       "      <td>58.0</td>\n",
       "      <td>3.1</td>\n",
       "      <td>0.000000</td>\n",
       "      <td>512</td>\n",
       "      <td>6.6</td>\n",
       "      <td>1.0</td>\n",
       "      <td>4.0</td>\n",
       "      <td>0.01</td>\n",
       "      <td>8.5</td>\n",
       "      <td>2100.0</td>\n",
       "      <td>5.7</td>\n",
       "      <td>0</td>\n",
       "    </tr>\n",
       "    <tr>\n",
       "      <th>1</th>\n",
       "      <td>5.510124</td>\n",
       "      <td>9.189268</td>\n",
       "      <td>0.364894</td>\n",
       "      <td>0.784502</td>\n",
       "      <td>67.942978</td>\n",
       "      <td>-0.169465</td>\n",
       "      <td>0.305000</td>\n",
       "      <td>15.5</td>\n",
       "      <td>240.0</td>\n",
       "      <td>3.5</td>\n",
       "      <td>115.182482</td>\n",
       "      <td>4245</td>\n",
       "      <td>5.5</td>\n",
       "      <td>65.1</td>\n",
       "      <td>58.6</td>\n",
       "      <td>5.14</td>\n",
       "      <td>13.9</td>\n",
       "      <td>3023.0</td>\n",
       "      <td>5.9</td>\n",
       "      <td>3156000</td>\n",
       "    </tr>\n",
       "    <tr>\n",
       "      <th>2</th>\n",
       "      <td>5.604596</td>\n",
       "      <td>9.487703</td>\n",
       "      <td>0.447821</td>\n",
       "      <td>0.839397</td>\n",
       "      <td>64.001305</td>\n",
       "      <td>-0.198894</td>\n",
       "      <td>0.388313</td>\n",
       "      <td>26.1</td>\n",
       "      <td>335.0</td>\n",
       "      <td>4.3</td>\n",
       "      <td>1.105914</td>\n",
       "      <td>4532</td>\n",
       "      <td>1.3</td>\n",
       "      <td>51.0</td>\n",
       "      <td>32.2</td>\n",
       "      <td>0.66</td>\n",
       "      <td>11.0</td>\n",
       "      <td>3272.0</td>\n",
       "      <td>1.9</td>\n",
       "      <td>2634000</td>\n",
       "    </tr>\n",
       "    <tr>\n",
       "      <th>3</th>\n",
       "      <td>4.360250</td>\n",
       "      <td>8.886378</td>\n",
       "      <td>0.237091</td>\n",
       "      <td>0.752593</td>\n",
       "      <td>44.400314</td>\n",
       "      <td>-0.138073</td>\n",
       "      <td>0.473400</td>\n",
       "      <td>172.2</td>\n",
       "      <td>168.0</td>\n",
       "      <td>3.4</td>\n",
       "      <td>0.423518</td>\n",
       "      <td>3505</td>\n",
       "      <td>9.8</td>\n",
       "      <td>46.7</td>\n",
       "      <td>6.9</td>\n",
       "      <td>8.24</td>\n",
       "      <td>6.9</td>\n",
       "      <td>2384.0</td>\n",
       "      <td>13.8</td>\n",
       "      <td>528000</td>\n",
       "    </tr>\n",
       "    <tr>\n",
       "      <th>4</th>\n",
       "      <td>6.468387</td>\n",
       "      <td>9.805600</td>\n",
       "      <td>0.418255</td>\n",
       "      <td>0.901776</td>\n",
       "      <td>66.838005</td>\n",
       "      <td>-0.160000</td>\n",
       "      <td>0.479421</td>\n",
       "      <td>13.8</td>\n",
       "      <td>727.0</td>\n",
       "      <td>5.1</td>\n",
       "      <td>2.041517</td>\n",
       "      <td>10391</td>\n",
       "      <td>6.6</td>\n",
       "      <td>48.0</td>\n",
       "      <td>79.0</td>\n",
       "      <td>8.35</td>\n",
       "      <td>7.2</td>\n",
       "      <td>3155.0</td>\n",
       "      <td>10.3</td>\n",
       "      <td>5587000</td>\n",
       "    </tr>\n",
       "  </tbody>\n",
       "</table>\n",
       "</div>"
      ],
      "text/plain": [
       "   Happiness  Log GDP per capita  Confidence in national government  Social support  Healthy life expectancy at birth  Generosity  GINI index (World Bank estimate), average 2000-13  child  healthExp  publicEdu  ave_visitor  income  homicide  ecoFree  uniEnro  alcohol  unemploy    food  suicide  visitor\n",
       "0   3.782938            7.549241                           0.435440        0.520637                         48.738346    0.247900                                           0.300000   99.5       58.0        3.1     0.000000     512       6.6      1.0      4.0     0.01       8.5  2100.0      5.7        0\n",
       "1   5.510124            9.189268                           0.364894        0.784502                         67.942978   -0.169465                                           0.305000   15.5      240.0        3.5   115.182482    4245       5.5     65.1     58.6     5.14      13.9  3023.0      5.9  3156000\n",
       "2   5.604596            9.487703                           0.447821        0.839397                         64.001305   -0.198894                                           0.388313   26.1      335.0        4.3     1.105914    4532       1.3     51.0     32.2     0.66      11.0  3272.0      1.9  2634000\n",
       "3   4.360250            8.886378                           0.237091        0.752593                         44.400314   -0.138073                                           0.473400  172.2      168.0        3.4     0.423518    3505       9.8     46.7      6.9     8.24       6.9  2384.0     13.8   528000\n",
       "4   6.468387            9.805600                           0.418255        0.901776                         66.838005   -0.160000                                           0.479421   13.8      727.0        5.1     2.041517   10391       6.6     48.0     79.0     8.35       7.2  3155.0     10.3  5587000"
      ]
     },
     "execution_count": 4,
     "metadata": {},
     "output_type": "execute_result"
    }
   ],
   "source": [
    "origin1.head()"
   ]
  },
  {
   "cell_type": "code",
   "execution_count": 5,
   "metadata": {
    "collapsed": false,
    "scrolled": true
   },
   "outputs": [
    {
     "name": "stdout",
     "output_type": "stream",
     "text": [
      "There are 20 columns\n",
      "They are:\n",
      "Happiness\n",
      "Log GDP per capita\n",
      "Confidence in national government\n",
      "Social support\n",
      "Healthy life expectancy at birth\n",
      "Generosity\n",
      "GINI index (World Bank estimate), average 2000-13\n",
      "child\n",
      "healthExp\n",
      "publicEdu\n",
      "ave_visitor\n",
      "income\n",
      "homicide\n",
      "ecoFree\n",
      "uniEnro\n",
      "alcohol\n",
      "unemploy\n",
      "food\n",
      "suicide\n",
      "visitor\n"
     ]
    }
   ],
   "source": [
    "print_columns(origin1)"
   ]
  },
  {
   "cell_type": "code",
   "execution_count": 6,
   "metadata": {
    "collapsed": false
   },
   "outputs": [
    {
     "name": "stdout",
     "output_type": "stream",
     "text": [
      "20  columns:\n",
      "Happiness : number of nan:  0 ,  float64\n",
      "Log GDP per capita : number of nan:  0 ,  float64\n",
      "Confidence in national government : number of nan:  0 ,  float64\n",
      "Social support : number of nan:  0 ,  float64\n",
      "Healthy life expectancy at birth : number of nan:  0 ,  float64\n",
      "Generosity : number of nan:  0 ,  float64\n",
      "GINI index (World Bank estimate), average 2000-13 : number of nan:  0 ,  float64\n",
      "child : number of nan:  0 ,  float64\n",
      "healthExp : number of nan:  0 ,  float64\n",
      "publicEdu : number of nan:  0 ,  float64\n",
      "ave_visitor : number of nan:  0 ,  float64\n",
      "income : number of nan:  0 ,  int64\n",
      "homicide : number of nan:  0 ,  float64\n",
      "ecoFree : number of nan:  0 ,  float64\n",
      "uniEnro : number of nan:  0 ,  float64\n",
      "alcohol : number of nan:  0 ,  float64\n",
      "unemploy : number of nan:  0 ,  float64\n",
      "food : number of nan:  0 ,  float64\n",
      "suicide : number of nan:  0 ,  float64\n",
      "visitor : number of nan:  0 ,  int64\n"
     ]
    }
   ],
   "source": [
    "list_null(origin1)"
   ]
  },
  {
   "cell_type": "code",
   "execution_count": 7,
   "metadata": {
    "collapsed": true
   },
   "outputs": [],
   "source": [
    "## Convert our dataframe to numpy array, since we are not interested in the column names\n",
    "\n",
    "array=origin1.values"
   ]
  },
  {
   "cell_type": "code",
   "execution_count": 8,
   "metadata": {
    "collapsed": false
   },
   "outputs": [],
   "source": [
    "## X is the independent variables\n",
    "## Y is the dependent variable that we are going to predict\n",
    "\n",
    "X=array[:,1:]\n",
    "Y=array[:,0]"
   ]
  },
  {
   "cell_type": "markdown",
   "metadata": {},
   "source": [
    "**Split the train and test dataset**"
   ]
  },
  {
   "cell_type": "code",
   "execution_count": 9,
   "metadata": {
    "collapsed": true
   },
   "outputs": [],
   "source": [
    "X_train,X_test,Y_train,Y_test=train_test_split(X,Y,test_size=0.33,random_state=7)"
   ]
  },
  {
   "cell_type": "code",
   "execution_count": 10,
   "metadata": {
    "collapsed": true
   },
   "outputs": [],
   "source": [
    "# Test options and evaluation metric\n",
    "\n",
    "num_folds=10  ## k-fold cross validation parameter\n",
    "seed=7\n",
    "scoring='neg_mean_squared_error' ## the metric for linear regression accuracy"
   ]
  },
  {
   "cell_type": "code",
   "execution_count": 11,
   "metadata": {
    "collapsed": true
   },
   "outputs": [],
   "source": [
    "# Spot-Check Algorithms\n",
    "\n",
    "models=[]\n",
    "models.append(('LR',LinearRegression()))\n",
    "models.append(('LASSO',Lasso()))\n",
    "models.append(('EN',ElasticNet()))\n",
    "models.append(('KNN',KNeighborsRegressor()))\n",
    "models.append(('CART',DecisionTreeRegressor()))\n",
    "models.append(('SVR',SVR()))"
   ]
  },
  {
   "cell_type": "code",
   "execution_count": 12,
   "metadata": {
    "collapsed": false
   },
   "outputs": [
    {
     "name": "stdout",
     "output_type": "stream",
     "text": [
      "LR:-0.866731 (1.197343)\n",
      "LASSO:-0.871784 (0.753867)\n",
      "EN:-1.110711 (1.490617)\n",
      "KNN:-1.285727 (0.408268)\n",
      "CART:-0.808418 (0.349788)\n",
      "SVR:-1.309465 (0.464355)\n"
     ]
    }
   ],
   "source": [
    "# evaluate each model in turn\n",
    "\n",
    "results=[]\n",
    "names=[]\n",
    "for name,model in models:\n",
    "    kfold=KFold(n_splits=num_folds,random_state=seed)\n",
    "    cv_results=cross_val_score(model,X_train,Y_train,cv=kfold,scoring=scoring)\n",
    "    results.append(cv_results)\n",
    "    names.append(name)\n",
    "    msg=\"%s:%f (%f)\" % (name,cv_results.mean(),cv_results.std())\n",
    "    print msg"
   ]
  },
  {
   "cell_type": "code",
   "execution_count": 13,
   "metadata": {
    "collapsed": false
   },
   "outputs": [
    {
     "data": {
      "text/plain": [
       "[<matplotlib.text.Text at 0x7d9c7b0>,\n",
       " <matplotlib.text.Text at 0x7dc5190>,\n",
       " <matplotlib.text.Text at 0x7e65f70>,\n",
       " <matplotlib.text.Text at 0x7e75350>,\n",
       " <matplotlib.text.Text at 0x7e75710>,\n",
       " <matplotlib.text.Text at 0x7e75ad0>]"
      ]
     },
     "execution_count": 13,
     "metadata": {},
     "output_type": "execute_result"
    },
    {
     "data": {
      "image/png": "[encoded data removed]",
      "text/plain": [
       "<matplotlib.figure.Figure at 0x7cadc50>"
      ]
     },
     "metadata": {
      "image/png": {
       "height": 371,
       "width": 433
      }
     },
     "output_type": "display_data"
    }
   ],
   "source": [
    "fig,ax=plt.subplots(1,1,figsize=(5,4))\n",
    "\n",
    "ax.set_title('Algorithm Comparison')\n",
    "ax.boxplot(results)\n",
    "ax.set_xticklabels(names)"
   ]
  },
  {
   "cell_type": "markdown",
   "metadata": {},
   "source": [
    "Now we finished the model calculation without any parameters. The interesting point is so far we did nothing with the dataset, so now let's consider feature selection and feature scaling effects on our dataset"
   ]
  },
  {
   "cell_type": "markdown",
   "metadata": {},
   "source": [
    "### 1.1 Evaluate Algorithms: Standardization"
   ]
  },
  {
   "cell_type": "code",
   "execution_count": 14,
   "metadata": {
    "collapsed": true
   },
   "outputs": [],
   "source": [
    "# Standardize the dataset\n",
    "\n",
    "pipelines=[]\n",
    "pipelines.append(('ScaledLR',Pipeline([('Scaler',StandardScaler()),('LR',LinearRegression())])))\n",
    "pipelines.append(('ScaledLASSO',Pipeline([('Scaler',StandardScaler()),('LASSO',Lasso())])))\n",
    "pipelines.append(('ScaledEN',Pipeline([('Scaler',StandardScaler()),('EN',ElasticNet())])))\n",
    "pipelines.append(('ScaledKNN',Pipeline([('Scaler',StandardScaler()),('KNN',KNeighborsRegressor())])))\n",
    "pipelines.append(('ScaledCART',Pipeline([('Scaler',StandardScaler()),('CART',DecisionTreeRegressor())])))\n",
    "pipelines.append(('ScaledSVR',Pipeline([('Scaler',StandardScaler()),('SVR',SVR())])))"
   ]
  },
  {
   "cell_type": "code",
   "execution_count": 15,
   "metadata": {
    "collapsed": false,
    "scrolled": true
   },
   "outputs": [
    {
     "name": "stdout",
     "output_type": "stream",
     "text": [
      "ScaledLR:-0.866731 (1.197343)\n",
      "ScaledLASSO:-1.302421 (0.495503)\n",
      "ScaledEN:-0.843278 (0.349788)\n",
      "ScaledKNN:-0.505584 (0.288580)\n",
      "ScaledCART:-0.801078 (0.281450)\n",
      "ScaledSVR:-0.464510 (0.198716)\n"
     ]
    }
   ],
   "source": [
    "results=[]\n",
    "names=[]\n",
    "for name,model in pipelines:\n",
    "    kfold=KFold(n_splits=num_folds,random_state=seed)\n",
    "    cv_results=cross_val_score(model,X_train,Y_train,cv=kfold,scoring=scoring)\n",
    "    results.append(cv_results)\n",
    "    names.append(name)\n",
    "    msg=\"%s:%f (%f)\" % (name,cv_results.mean(),cv_results.std())\n",
    "    print msg"
   ]
  },
  {
   "cell_type": "code",
   "execution_count": 16,
   "metadata": {
    "collapsed": false
   },
   "outputs": [
    {
     "data": {
      "text/plain": [
       "[<matplotlib.text.Text at 0x7f1dbd0>,\n",
       " <matplotlib.text.Text at 0x7f0b4d0>,\n",
       " <matplotlib.text.Text at 0x9f75ed0>,\n",
       " <matplotlib.text.Text at 0x9f832b0>,\n",
       " <matplotlib.text.Text at 0x9f83670>,\n",
       " <matplotlib.text.Text at 0x9f83a30>]"
      ]
     },
     "execution_count": 16,
     "metadata": {},
     "output_type": "execute_result"
    },
    {
     "data": {
      "image/png": "[encoded data removed]",
      "text/plain": [
       "<matplotlib.figure.Figure at 0x7e65e30>"
      ]
     },
     "metadata": {
      "image/png": {
       "height": 425,
       "width": 444
      }
     },
     "output_type": "display_data"
    }
   ],
   "source": [
    "fig,ax=plt.subplots(1,1,figsize=(5,4))\n",
    "\n",
    "ax.set_title('Algorithm Comparison')\n",
    "ax.boxplot(results)\n",
    "ax.set_xticklabels(names,rotation=40)"
   ]
  },
  {
   "cell_type": "markdown",
   "metadata": {},
   "source": [
    "### 1.2 Evaluate Algorithms: Feature selection"
   ]
  },
  {
   "cell_type": "code",
   "execution_count": 17,
   "metadata": {
    "collapsed": true
   },
   "outputs": [],
   "source": [
    "## create feature union\n",
    "\n",
    "features=[]\n",
    "features.append(('pca',PCA(n_components=3)))\n",
    "features.append(('select_best',SelectKBest(k=6)))\n",
    "feature_union=FeatureUnion(features)"
   ]
  },
  {
   "cell_type": "code",
   "execution_count": 18,
   "metadata": {
    "collapsed": true
   },
   "outputs": [],
   "source": [
    "# Feature selection the dataset\n",
    "\n",
    "pipelines=[]\n",
    "pipelines.append(('SelectLR',Pipeline([('feature_union',feature_union),('LR',LinearRegression())])))\n",
    "pipelines.append(('SelectLASSO',Pipeline([('feature_union',feature_union),('LASSO',Lasso())])))\n",
    "pipelines.append(('SelectEN',Pipeline([('feature_union',feature_union),('EN',ElasticNet())])))\n",
    "pipelines.append(('SelectKNN',Pipeline([('feature_union',feature_union),('KNN',KNeighborsRegressor())])))\n",
    "pipelines.append(('SelectCART',Pipeline([('feature_union',feature_union),('CART',DecisionTreeRegressor())])))\n",
    "pipelines.append(('SelectSVR',Pipeline([('feature_union',feature_union),('SVR',SVR())])))"
   ]
  },
  {
   "cell_type": "code",
   "execution_count": 19,
   "metadata": {
    "collapsed": false
   },
   "outputs": [
    {
     "name": "stdout",
     "output_type": "stream",
     "text": [
      "SelectLR:-0.614138 (0.296019)\n",
      "SelectLASSO:-0.593220 (0.295511)\n",
      "SelectEN:-0.578053 (0.290580)\n",
      "SelectKNN:-1.257027 (0.370920)\n",
      "SelectCART:-0.883724 (0.457700)\n",
      "SelectSVR:-1.309465 (0.464355)\n"
     ]
    }
   ],
   "source": [
    "results=[]\n",
    "names=[]\n",
    "for name,model in pipelines:\n",
    "    kfold=KFold(n_splits=num_folds,random_state=seed)\n",
    "    cv_results=cross_val_score(model,X_train,Y_train,cv=kfold,scoring=scoring)\n",
    "    results.append(cv_results)\n",
    "    names.append(name)\n",
    "    msg=\"%s:%f (%f)\" % (name,cv_results.mean(),cv_results.std())\n",
    "    print msg"
   ]
  },
  {
   "cell_type": "markdown",
   "metadata": {},
   "source": [
    "**Conclusion:**\n",
    "\n",
    "as we can see from the previous result, the scaled KNN and the scaled SVC have the lowest RMS score. So let's tune the parameter of these two models"
   ]
  },
  {
   "cell_type": "markdown",
   "metadata": {},
   "source": [
    "model 1. Scaled KNN"
   ]
  },
  {
   "cell_type": "code",
   "execution_count": 20,
   "metadata": {
    "collapsed": true
   },
   "outputs": [],
   "source": [
    "scaler=StandardScaler().fit(X_train)\n",
    "rescaledX=scaler.transform(X_train)\n",
    "k_values=np.array([1,3,5,7,9,11,13,15,17,19,21])\n",
    "param_grid=dict(n_neighbors=k_values)\n",
    "model=KNeighborsRegressor()\n",
    "kfold=KFold(n_splits=num_folds,random_state=seed)\n",
    "grid=GridSearchCV(estimator=model,param_grid=param_grid,scoring=scoring,cv=kfold)\n",
    "grid_result=grid.fit(rescaledX,Y_train)"
   ]
  },
  {
   "cell_type": "code",
   "execution_count": 21,
   "metadata": {
    "collapsed": false
   },
   "outputs": [
    {
     "name": "stdout",
     "output_type": "stream",
     "text": [
      "Best: -0.420598 using {'n_neighbors': 11}\n",
      "-0.946407 (0.243731) with: {'n_neighbors': 1}\n",
      "-0.458728 (0.186353) with: {'n_neighbors': 3}\n",
      "-0.467768 (0.290478) with: {'n_neighbors': 5}\n",
      "-0.436561 (0.249805) with: {'n_neighbors': 7}\n",
      "-0.424857 (0.193772) with: {'n_neighbors': 9}\n",
      "-0.420598 (0.183948) with: {'n_neighbors': 11}\n",
      "-0.439365 (0.224642) with: {'n_neighbors': 13}\n",
      "-0.453751 (0.242240) with: {'n_neighbors': 15}\n",
      "-0.477579 (0.227537) with: {'n_neighbors': 17}\n",
      "-0.503920 (0.237650) with: {'n_neighbors': 19}\n",
      "-0.529339 (0.242783) with: {'n_neighbors': 21}\n"
     ]
    }
   ],
   "source": [
    "print \"Best: %f using %s\" % (grid_result.best_score_,grid_result.best_params_)\n",
    "means=grid_result.cv_results_['mean_test_score']\n",
    "stds=grid_result.cv_results_['std_test_score']\n",
    "params=grid_result.cv_results_['params']\n",
    "\n",
    "for mean,stdev,param in zip(means,stds,params):\n",
    "    print \"%f (%f) with: %r\" % (mean,stdev,param)"
   ]
  },
  {
   "cell_type": "markdown",
   "metadata": {},
   "source": [
    "model 2. Scaled SVC"
   ]
  },
  {
   "cell_type": "code",
   "execution_count": 22,
   "metadata": {
    "collapsed": true
   },
   "outputs": [],
   "source": [
    "scaler=StandardScaler().fit(X_train)\n",
    "rescaledX=scaler.transform(X_train)\n",
    "c_values=[0.1,0.3,0.5,0.7,0.9,1.0,1.3,1.5,1.7,2.0]\n",
    "kernel_values=['linear','poly','rbf','sigmoid']\n",
    "param_grid=dict(C=c_values,kernel=kernel_values)\n",
    "model=SVR()\n",
    "kfold=KFold(n_splits=num_folds,random_state=seed)\n",
    "grid=GridSearchCV(estimator=model,param_grid=param_grid,scoring=scoring,cv=kfold)\n",
    "grid_result=grid.fit(rescaledX,Y_train)"
   ]
  },
  {
   "cell_type": "code",
   "execution_count": 23,
   "metadata": {
    "collapsed": false
   },
   "outputs": [
    {
     "name": "stdout",
     "output_type": "stream",
     "text": [
      "Best: -0.422221 using {'kernel': 'sigmoid', 'C': 0.9}\n",
      "-0.445611 (0.307801) with: {'kernel': 'linear', 'C': 0.1}\n",
      "-0.689337 (0.312960) with: {'kernel': 'poly', 'C': 0.1}\n",
      "-0.770845 (0.302326) with: {'kernel': 'rbf', 'C': 0.1}\n",
      "-0.503947 (0.231094) with: {'kernel': 'sigmoid', 'C': 0.1}\n",
      "-0.488497 (0.344638) with: {'kernel': 'linear', 'C': 0.3}\n",
      "-0.659184 (0.328435) with: {'kernel': 'poly', 'C': 0.3}\n",
      "-0.481207 (0.244531) with: {'kernel': 'rbf', 'C': 0.3}\n",
      "-0.436313 (0.288624) with: {'kernel': 'sigmoid', 'C': 0.3}\n",
      "-0.502530 (0.356147) with: {'kernel': 'linear', 'C': 0.5}\n",
      "-0.657252 (0.329912) with: {'kernel': 'poly', 'C': 0.5}\n",
      "-0.443984 (0.215392) with: {'kernel': 'rbf', 'C': 0.5}\n",
      "-0.424761 (0.315094) with: {'kernel': 'sigmoid', 'C': 0.5}\n",
      "-0.525571 (0.382763) with: {'kernel': 'linear', 'C': 0.7}\n",
      "-0.643865 (0.320198) with: {'kernel': 'poly', 'C': 0.7}\n",
      "-0.440521 (0.201504) with: {'kernel': 'rbf', 'C': 0.7}\n",
      "-0.434604 (0.319330) with: {'kernel': 'sigmoid', 'C': 0.7}\n",
      "-0.539750 (0.404344) with: {'kernel': 'linear', 'C': 0.9}\n",
      "-0.629737 (0.307990) with: {'kernel': 'poly', 'C': 0.9}\n",
      "-0.443233 (0.203274) with: {'kernel': 'rbf', 'C': 0.9}\n",
      "-0.422221 (0.343296) with: {'kernel': 'sigmoid', 'C': 0.9}\n",
      "-0.551950 (0.430381) with: {'kernel': 'linear', 'C': 1.0}\n",
      "-0.625222 (0.301591) with: {'kernel': 'poly', 'C': 1.0}\n",
      "-0.445293 (0.203681) with: {'kernel': 'rbf', 'C': 1.0}\n",
      "-0.425012 (0.343973) with: {'kernel': 'sigmoid', 'C': 1.0}\n",
      "-0.591686 (0.518543) with: {'kernel': 'linear', 'C': 1.3}\n",
      "-0.617226 (0.294621) with: {'kernel': 'poly', 'C': 1.3}\n",
      "-0.451177 (0.203892) with: {'kernel': 'rbf', 'C': 1.3}\n",
      "-0.487926 (0.272756) with: {'kernel': 'sigmoid', 'C': 1.3}\n",
      "-0.600283 (0.539544) with: {'kernel': 'linear', 'C': 1.5}\n",
      "-0.611358 (0.295596) with: {'kernel': 'poly', 'C': 1.5}\n",
      "-0.454973 (0.204076) with: {'kernel': 'rbf', 'C': 1.5}\n",
      "-0.532660 (0.294388) with: {'kernel': 'sigmoid', 'C': 1.5}\n",
      "-0.603621 (0.546744) with: {'kernel': 'linear', 'C': 1.7}\n",
      "-0.612616 (0.298641) with: {'kernel': 'poly', 'C': 1.7}\n",
      "-0.456619 (0.204807) with: {'kernel': 'rbf', 'C': 1.7}\n",
      "-0.592134 (0.408697) with: {'kernel': 'sigmoid', 'C': 1.7}\n",
      "-0.607692 (0.556005) with: {'kernel': 'linear', 'C': 2.0}\n",
      "-0.621077 (0.309660) with: {'kernel': 'poly', 'C': 2.0}\n",
      "-0.459266 (0.206085) with: {'kernel': 'rbf', 'C': 2.0}\n",
      "-0.771007 (0.536160) with: {'kernel': 'sigmoid', 'C': 2.0}\n"
     ]
    }
   ],
   "source": [
    "print \"Best: %f using %s\" % (grid_result.best_score_,grid_result.best_params_)\n",
    "means=grid_result.cv_results_['mean_test_score']\n",
    "stds=grid_result.cv_results_['std_test_score']\n",
    "params=grid_result.cv_results_['params']\n",
    "\n",
    "for mean,stdev,param in zip(means,stds,params):\n",
    "    print \"%f (%f) with: %r\" % (mean,stdev,param)"
   ]
  },
  {
   "cell_type": "markdown",
   "metadata": {},
   "source": [
    "### 1.3 Make prediction for these two models\n",
    "Now since these two results are quite closed to each other. So let's make prediction for both of them"
   ]
  },
  {
   "cell_type": "code",
   "execution_count": 24,
   "metadata": {
    "collapsed": false
   },
   "outputs": [
    {
     "name": "stdout",
     "output_type": "stream",
     "text": [
      "0.30580897164\n"
     ]
    }
   ],
   "source": [
    "## Scaled KNN prediction\n",
    "\n",
    "scaler=StandardScaler().fit(X_train)\n",
    "rescaledX=scaler.transform(X_train)\n",
    "model=KNeighborsRegressor(n_neighbors=11)\n",
    "model.fit(rescaledX,Y_train)\n",
    "\n",
    "rescaledValidationX=scaler.transform(X_test)\n",
    "predictions=model.predict(rescaledValidationX)\n",
    "print mean_squared_error(Y_test,predictions)"
   ]
  },
  {
   "cell_type": "code",
   "execution_count": 25,
   "metadata": {
    "collapsed": false
   },
   "outputs": [
    {
     "name": "stdout",
     "output_type": "stream",
     "text": [
      "0.360509513216\n"
     ]
    }
   ],
   "source": [
    "## Scaled SVR prediction\n",
    "\n",
    "scaler=StandardScaler().fit(X_train)\n",
    "rescaledX=scaler.transform(X_train)\n",
    "model=SVR(kernel='sigmoid', C=0.9)\n",
    "model.fit(rescaledX,Y_train)\n",
    "\n",
    "rescaledValidationX=scaler.transform(X_test)\n",
    "predictions=model.predict(rescaledValidationX)\n",
    "print mean_squared_error(Y_test,predictions)"
   ]
  },
  {
   "cell_type": "code",
   "execution_count": null,
   "metadata": {
    "collapsed": true
   },
   "outputs": [],
   "source": []
  },
  {
   "cell_type": "markdown",
   "metadata": {},
   "source": [
    "### 1.4 Ensemble methods\n",
    "\n",
    "Now let's do the same problem by using the ensemble algorithms"
   ]
  },
  {
   "cell_type": "code",
   "execution_count": 26,
   "metadata": {
    "collapsed": true
   },
   "outputs": [],
   "source": [
    "## build a models collection\n",
    "\n",
    "ensembles=[]\n",
    "ensembles.append(('RF',RandomForestRegressor()))\n",
    "ensembles.append(('GB',GradientBoostingRegressor()))\n",
    "ensembles.append(('ET',ExtraTreesRegressor()))\n",
    "ensembles.append(('AB',AdaBoostRegressor()))\n"
   ]
  },
  {
   "cell_type": "code",
   "execution_count": 27,
   "metadata": {
    "collapsed": false
   },
   "outputs": [
    {
     "name": "stdout",
     "output_type": "stream",
     "text": [
      "RF : -1.346827 (0.417083)\n",
      "GB : -1.346827 (0.417083)\n",
      "ET : -1.346827 (0.417083)\n",
      "AB : -1.346827 (0.417083)\n"
     ]
    }
   ],
   "source": [
    "result=[]\n",
    "names=[]\n",
    "\n",
    "for name,ensemble in ensembles:\n",
    "    kfold=KFold(n_splits=num_folds,random_state=seed)\n",
    "    cv_results=cross_val_score(model,X_train,Y_train,cv=kfold,scoring=scoring)\n",
    "    result.append(cv_results)\n",
    "    names.append(name)\n",
    "    msg='%s : %f (%f)' % (name,cv_results.mean(),cv_results.std())\n",
    "    print msg"
   ]
  },
  {
   "cell_type": "markdown",
   "metadata": {},
   "source": [
    "Now let's look at the scaled method"
   ]
  },
  {
   "cell_type": "code",
   "execution_count": 28,
   "metadata": {
    "collapsed": true
   },
   "outputs": [],
   "source": [
    "# Standardize the dataset\n",
    "\n",
    "pipelines=[]\n",
    "pipelines.append(('ScaledRF',Pipeline([('Scaler',StandardScaler()),('RF',RandomForestRegressor())])))\n",
    "pipelines.append(('ScaledGB',Pipeline([('Scaler',StandardScaler()),('GB',GradientBoostingRegressor())])))\n",
    "pipelines.append(('ScaledET',Pipeline([('Scaler',StandardScaler()),('ET',ExtraTreesRegressor())])))\n",
    "pipelines.append(('ScaledAB',Pipeline([('Scaler',StandardScaler()),('AB',AdaBoostRegressor())])))\n"
   ]
  },
  {
   "cell_type": "code",
   "execution_count": 29,
   "metadata": {
    "collapsed": false
   },
   "outputs": [
    {
     "name": "stdout",
     "output_type": "stream",
     "text": [
      "ScaledRF:-0.393154 (0.150595)\n",
      "ScaledGB:-0.363735 (0.127966)\n",
      "ScaledET:-0.377808 (0.142887)\n",
      "ScaledAB:-0.383615 (0.145944)\n"
     ]
    }
   ],
   "source": [
    "results=[]\n",
    "names=[]\n",
    "for name,model in pipelines:\n",
    "    kfold=KFold(n_splits=num_folds,random_state=seed)\n",
    "    cv_results=cross_val_score(model,X_train,Y_train,cv=kfold,scoring=scoring)\n",
    "    results.append(cv_results)\n",
    "    names.append(name)\n",
    "    msg=\"%s:%f (%f)\" % (name,cv_results.mean(),cv_results.std())\n",
    "    print msg"
   ]
  },
  {
   "cell_type": "markdown",
   "metadata": {},
   "source": [
    "Now let's tune the parameters of the model scaled GradientBoostingRegressor and AdaBoostRegressor"
   ]
  },
  {
   "cell_type": "code",
   "execution_count": 30,
   "metadata": {
    "collapsed": false
   },
   "outputs": [],
   "source": [
    "## Gradient Boosting Regressor\n",
    "\n",
    "scaler=StandardScaler().fit(X_train)\n",
    "rescaledX=scaler.transform(X_train)\n",
    "learning_rates=[0.01,0.1,1.0]\n",
    "number_estimators=[50,100,150,200,250,300,350,400]\n",
    "param_grid=dict(learning_rate=learning_rates,n_estimators=number_estimators)\n",
    "model=GradientBoostingRegressor(random_state=seed)\n",
    "kfold=KFold(n_splits=num_folds,random_state=seed)\n",
    "grid=GridSearchCV(estimator=model,param_grid=param_grid,scoring=scoring,cv=kfold)\n",
    "grid_result=grid.fit(rescaledX,Y_train)"
   ]
  },
  {
   "cell_type": "code",
   "execution_count": 31,
   "metadata": {
    "collapsed": false
   },
   "outputs": [
    {
     "name": "stdout",
     "output_type": "stream",
     "text": [
      "Best: -0.371368 using {'n_estimators': 50, 'learning_rate': 0.1}\n",
      "-0.734290 (0.271290) with: {'n_estimators': 50, 'learning_rate': 0.01}\n",
      "-0.515482 (0.185948) with: {'n_estimators': 100, 'learning_rate': 0.01}\n",
      "-0.428436 (0.152652) with: {'n_estimators': 150, 'learning_rate': 0.01}\n",
      "-0.393750 (0.139514) with: {'n_estimators': 200, 'learning_rate': 0.01}\n",
      "-0.382268 (0.137415) with: {'n_estimators': 250, 'learning_rate': 0.01}\n",
      "-0.375180 (0.137978) with: {'n_estimators': 300, 'learning_rate': 0.01}\n",
      "-0.371992 (0.138483) with: {'n_estimators': 350, 'learning_rate': 0.01}\n",
      "-0.372627 (0.140368) with: {'n_estimators': 400, 'learning_rate': 0.01}\n",
      "-0.371368 (0.126681) with: {'n_estimators': 50, 'learning_rate': 0.1}\n",
      "-0.373560 (0.134638) with: {'n_estimators': 100, 'learning_rate': 0.1}\n",
      "-0.374163 (0.137364) with: {'n_estimators': 150, 'learning_rate': 0.1}\n",
      "-0.374150 (0.138022) with: {'n_estimators': 200, 'learning_rate': 0.1}\n",
      "-0.374479 (0.137960) with: {'n_estimators': 250, 'learning_rate': 0.1}\n",
      "-0.374784 (0.138099) with: {'n_estimators': 300, 'learning_rate': 0.1}\n",
      "-0.374881 (0.138128) with: {'n_estimators': 350, 'learning_rate': 0.1}\n",
      "-0.374887 (0.138113) with: {'n_estimators': 400, 'learning_rate': 0.1}\n",
      "-0.774895 (0.383242) with: {'n_estimators': 50, 'learning_rate': 1.0}\n",
      "-0.774895 (0.383242) with: {'n_estimators': 100, 'learning_rate': 1.0}\n",
      "-0.774895 (0.383242) with: {'n_estimators': 150, 'learning_rate': 1.0}\n",
      "-0.774895 (0.383242) with: {'n_estimators': 200, 'learning_rate': 1.0}\n",
      "-0.774895 (0.383242) with: {'n_estimators': 250, 'learning_rate': 1.0}\n",
      "-0.774895 (0.383242) with: {'n_estimators': 300, 'learning_rate': 1.0}\n",
      "-0.774895 (0.383242) with: {'n_estimators': 350, 'learning_rate': 1.0}\n",
      "-0.774895 (0.383242) with: {'n_estimators': 400, 'learning_rate': 1.0}\n"
     ]
    }
   ],
   "source": [
    "print \"Best: %f using %s\" % (grid_result.best_score_,grid_result.best_params_)\n",
    "means=grid_result.cv_results_['mean_test_score']\n",
    "stds=grid_result.cv_results_['std_test_score']\n",
    "params=grid_result.cv_results_['params']\n",
    "\n",
    "for mean,stdev,param in zip(means,stds,params):\n",
    "    print \"%f (%f) with: %r\" % (mean,stdev,param)"
   ]
  },
  {
   "cell_type": "code",
   "execution_count": 32,
   "metadata": {
    "collapsed": true
   },
   "outputs": [],
   "source": [
    "scaler=StandardScaler().fit(X_train)\n",
    "rescaledX=scaler.transform(X_train)\n",
    "number_estimators=[50,100,150,200,250,300,350,400]\n",
    "param_grid=dict(n_estimators=number_estimators)\n",
    "model=AdaBoostRegressor(random_state=seed)\n",
    "kfold=KFold(n_splits=num_folds,random_state=seed)\n",
    "grid=GridSearchCV(estimator=model,param_grid=param_grid,scoring=scoring,cv=kfold)\n",
    "grid_result=grid.fit(rescaledX,Y_train)"
   ]
  },
  {
   "cell_type": "code",
   "execution_count": 33,
   "metadata": {
    "collapsed": false
   },
   "outputs": [
    {
     "name": "stdout",
     "output_type": "stream",
     "text": [
      "Best: -0.366510 using {'n_estimators': 50}\n",
      "-0.366510 (0.119623) with: {'n_estimators': 50}\n",
      "-0.387092 (0.145160) with: {'n_estimators': 100}\n",
      "-0.377380 (0.129288) with: {'n_estimators': 150}\n",
      "-0.376021 (0.139623) with: {'n_estimators': 200}\n",
      "-0.372004 (0.134935) with: {'n_estimators': 250}\n",
      "-0.372919 (0.131078) with: {'n_estimators': 300}\n",
      "-0.369237 (0.129514) with: {'n_estimators': 350}\n",
      "-0.368708 (0.130782) with: {'n_estimators': 400}\n"
     ]
    }
   ],
   "source": [
    "print \"Best: %f using %s\" % (grid_result.best_score_,grid_result.best_params_)\n",
    "means=grid_result.cv_results_['mean_test_score']\n",
    "stds=grid_result.cv_results_['std_test_score']\n",
    "params=grid_result.cv_results_['params']\n",
    "\n",
    "for mean,stdev,param in zip(means,stds,params):\n",
    "    print \"%f (%f) with: %r\" % (mean,stdev,param)"
   ]
  },
  {
   "cell_type": "code",
   "execution_count": 34,
   "metadata": {
    "collapsed": false
   },
   "outputs": [
    {
     "name": "stdout",
     "output_type": "stream",
     "text": [
      "0.278944279341\n"
     ]
    }
   ],
   "source": [
    "## Using Adaboostregressor for final prediction\n",
    "\n",
    "scaler=StandardScaler().fit(X_train)\n",
    "rescaledX=scaler.transform(X_train)\n",
    "model=AdaBoostRegressor(n_estimators=50,random_state=seed)\n",
    "model.fit(rescaledX,Y_train)\n",
    "\n",
    "rescaledValidationX=scaler.transform(X_test)\n",
    "predictions=model.predict(rescaledValidationX)\n",
    "print mean_squared_error(Y_test,predictions)"
   ]
  },
  {
   "cell_type": "code",
   "execution_count": null,
   "metadata": {
    "collapsed": true
   },
   "outputs": [],
   "source": []
  },
  {
   "cell_type": "code",
   "execution_count": null,
   "metadata": {
    "collapsed": true
   },
   "outputs": [],
   "source": []
  },
  {
   "cell_type": "markdown",
   "metadata": {
    "collapsed": true
   },
   "source": [
    "## 2. Dataset #2"
   ]
  },
  {
   "cell_type": "code",
   "execution_count": 35,
   "metadata": {
    "collapsed": true
   },
   "outputs": [],
   "source": [
    "origin2=pd.read_csv('data2.csv',sep=',',index_col=0)"
   ]
  },
  {
   "cell_type": "code",
   "execution_count": 36,
   "metadata": {
    "collapsed": false
   },
   "outputs": [
    {
     "data": {
      "text/html": [
       "<div>\n",
       "<table border=\"1\" class=\"dataframe\">\n",
       "  <thead>\n",
       "    <tr style=\"text-align: right;\">\n",
       "      <th></th>\n",
       "      <th>Happiness</th>\n",
       "      <th>Log GDP per capita</th>\n",
       "      <th>Confidence in national government</th>\n",
       "      <th>Social support</th>\n",
       "      <th>Healthy life expectancy at birth</th>\n",
       "      <th>Generosity</th>\n",
       "      <th>GINI index (World Bank estimate), average 2000-13</th>\n",
       "      <th>publicEdu</th>\n",
       "      <th>homicide</th>\n",
       "      <th>ecoFree</th>\n",
       "      <th>uniEnro</th>\n",
       "      <th>alcohol</th>\n",
       "      <th>unemploy</th>\n",
       "      <th>food</th>\n",
       "      <th>suicide</th>\n",
       "      <th>visitor</th>\n",
       "      <th>log_child</th>\n",
       "      <th>log_healthExp</th>\n",
       "      <th>log_income</th>\n",
       "      <th>log_ave_visitor</th>\n",
       "    </tr>\n",
       "  </thead>\n",
       "  <tbody>\n",
       "    <tr>\n",
       "      <th>0</th>\n",
       "      <td>3.782938</td>\n",
       "      <td>7.549241</td>\n",
       "      <td>0.435440</td>\n",
       "      <td>0.520637</td>\n",
       "      <td>48.738346</td>\n",
       "      <td>0.247900</td>\n",
       "      <td>0.300000</td>\n",
       "      <td>3.1</td>\n",
       "      <td>6.6</td>\n",
       "      <td>1.0</td>\n",
       "      <td>4.0</td>\n",
       "      <td>0.01</td>\n",
       "      <td>8.5</td>\n",
       "      <td>2100.0</td>\n",
       "      <td>5.7</td>\n",
       "      <td>0</td>\n",
       "      <td>4.600158</td>\n",
       "      <td>4.060443</td>\n",
       "      <td>6.238325</td>\n",
       "      <td>-2.302585</td>\n",
       "    </tr>\n",
       "    <tr>\n",
       "      <th>1</th>\n",
       "      <td>5.510124</td>\n",
       "      <td>9.189268</td>\n",
       "      <td>0.364894</td>\n",
       "      <td>0.784502</td>\n",
       "      <td>67.942978</td>\n",
       "      <td>-0.169465</td>\n",
       "      <td>0.305000</td>\n",
       "      <td>3.5</td>\n",
       "      <td>5.5</td>\n",
       "      <td>65.1</td>\n",
       "      <td>58.6</td>\n",
       "      <td>5.14</td>\n",
       "      <td>13.9</td>\n",
       "      <td>3023.0</td>\n",
       "      <td>5.9</td>\n",
       "      <td>3156000</td>\n",
       "      <td>2.740840</td>\n",
       "      <td>5.480639</td>\n",
       "      <td>8.353497</td>\n",
       "      <td>4.747385</td>\n",
       "    </tr>\n",
       "    <tr>\n",
       "      <th>2</th>\n",
       "      <td>5.604596</td>\n",
       "      <td>9.487703</td>\n",
       "      <td>0.447821</td>\n",
       "      <td>0.839397</td>\n",
       "      <td>64.001305</td>\n",
       "      <td>-0.198894</td>\n",
       "      <td>0.388313</td>\n",
       "      <td>4.3</td>\n",
       "      <td>1.3</td>\n",
       "      <td>51.0</td>\n",
       "      <td>32.2</td>\n",
       "      <td>0.66</td>\n",
       "      <td>11.0</td>\n",
       "      <td>3272.0</td>\n",
       "      <td>1.9</td>\n",
       "      <td>2634000</td>\n",
       "      <td>3.261935</td>\n",
       "      <td>5.814131</td>\n",
       "      <td>8.418919</td>\n",
       "      <td>0.187238</td>\n",
       "    </tr>\n",
       "    <tr>\n",
       "      <th>3</th>\n",
       "      <td>4.360250</td>\n",
       "      <td>8.886378</td>\n",
       "      <td>0.237091</td>\n",
       "      <td>0.752593</td>\n",
       "      <td>44.400314</td>\n",
       "      <td>-0.138073</td>\n",
       "      <td>0.473400</td>\n",
       "      <td>3.4</td>\n",
       "      <td>9.8</td>\n",
       "      <td>46.7</td>\n",
       "      <td>6.9</td>\n",
       "      <td>8.24</td>\n",
       "      <td>6.9</td>\n",
       "      <td>2384.0</td>\n",
       "      <td>13.8</td>\n",
       "      <td>528000</td>\n",
       "      <td>5.148657</td>\n",
       "      <td>5.123964</td>\n",
       "      <td>8.161946</td>\n",
       "      <td>-0.647184</td>\n",
       "    </tr>\n",
       "    <tr>\n",
       "      <th>4</th>\n",
       "      <td>6.468387</td>\n",
       "      <td>9.805600</td>\n",
       "      <td>0.418255</td>\n",
       "      <td>0.901776</td>\n",
       "      <td>66.838005</td>\n",
       "      <td>-0.160000</td>\n",
       "      <td>0.479421</td>\n",
       "      <td>5.1</td>\n",
       "      <td>6.6</td>\n",
       "      <td>48.0</td>\n",
       "      <td>79.0</td>\n",
       "      <td>8.35</td>\n",
       "      <td>7.2</td>\n",
       "      <td>3155.0</td>\n",
       "      <td>10.3</td>\n",
       "      <td>5587000</td>\n",
       "      <td>2.624669</td>\n",
       "      <td>6.588926</td>\n",
       "      <td>9.248695</td>\n",
       "      <td>0.761515</td>\n",
       "    </tr>\n",
       "  </tbody>\n",
       "</table>\n",
       "</div>"
      ],
      "text/plain": [
       "   Happiness  Log GDP per capita  Confidence in national government  Social support  Healthy life expectancy at birth  Generosity  GINI index (World Bank estimate), average 2000-13  publicEdu  homicide  ecoFree  uniEnro  alcohol  unemploy    food  suicide  visitor  log_child  log_healthExp  log_income  log_ave_visitor\n",
       "0   3.782938            7.549241                           0.435440        0.520637                         48.738346    0.247900                                           0.300000        3.1       6.6      1.0      4.0     0.01       8.5  2100.0      5.7        0   4.600158       4.060443    6.238325        -2.302585\n",
       "1   5.510124            9.189268                           0.364894        0.784502                         67.942978   -0.169465                                           0.305000        3.5       5.5     65.1     58.6     5.14      13.9  3023.0      5.9  3156000   2.740840       5.480639    8.353497         4.747385\n",
       "2   5.604596            9.487703                           0.447821        0.839397                         64.001305   -0.198894                                           0.388313        4.3       1.3     51.0     32.2     0.66      11.0  3272.0      1.9  2634000   3.261935       5.814131    8.418919         0.187238\n",
       "3   4.360250            8.886378                           0.237091        0.752593                         44.400314   -0.138073                                           0.473400        3.4       9.8     46.7      6.9     8.24       6.9  2384.0     13.8   528000   5.148657       5.123964    8.161946        -0.647184\n",
       "4   6.468387            9.805600                           0.418255        0.901776                         66.838005   -0.160000                                           0.479421        5.1       6.6     48.0     79.0     8.35       7.2  3155.0     10.3  5587000   2.624669       6.588926    9.248695         0.761515"
      ]
     },
     "execution_count": 36,
     "metadata": {},
     "output_type": "execute_result"
    }
   ],
   "source": [
    "origin2.head()"
   ]
  },
  {
   "cell_type": "code",
   "execution_count": 38,
   "metadata": {
    "collapsed": false
   },
   "outputs": [
    {
     "name": "stdout",
     "output_type": "stream",
     "text": [
      "There are 20 columns\n",
      "They are:\n",
      "Happiness\n",
      "Log GDP per capita\n",
      "Confidence in national government\n",
      "Social support\n",
      "Healthy life expectancy at birth\n",
      "Generosity\n",
      "GINI index (World Bank estimate), average 2000-13\n",
      "publicEdu\n",
      "homicide\n",
      "ecoFree\n",
      "uniEnro\n",
      "alcohol\n",
      "unemploy\n",
      "food\n",
      "suicide\n",
      "visitor\n",
      "log_child\n",
      "log_healthExp\n",
      "log_income\n",
      "log_ave_visitor\n"
     ]
    }
   ],
   "source": [
    "print_columns(origin2)"
   ]
  },
  {
   "cell_type": "code",
   "execution_count": 39,
   "metadata": {
    "collapsed": false
   },
   "outputs": [
    {
     "name": "stdout",
     "output_type": "stream",
     "text": [
      "20  columns:\n",
      "Happiness : number of nan:  0 ,  float64\n",
      "Log GDP per capita : number of nan:  0 ,  float64\n",
      "Confidence in national government : number of nan:  0 ,  float64\n",
      "Social support : number of nan:  0 ,  float64\n",
      "Healthy life expectancy at birth : number of nan:  0 ,  float64\n",
      "Generosity : number of nan:  0 ,  float64\n",
      "GINI index (World Bank estimate), average 2000-13 : number of nan:  0 ,  float64\n",
      "publicEdu : number of nan:  0 ,  float64\n",
      "homicide : number of nan:  0 ,  float64\n",
      "ecoFree : number of nan:  0 ,  float64\n",
      "uniEnro : number of nan:  0 ,  float64\n",
      "alcohol : number of nan:  0 ,  float64\n",
      "unemploy : number of nan:  0 ,  float64\n",
      "food : number of nan:  0 ,  float64\n",
      "suicide : number of nan:  0 ,  float64\n",
      "visitor : number of nan:  0 ,  int64\n",
      "log_child : number of nan:  0 ,  float64\n",
      "log_healthExp : number of nan:  0 ,  float64\n",
      "log_income : number of nan:  0 ,  float64\n",
      "log_ave_visitor : number of nan:  0 ,  float64\n"
     ]
    }
   ],
   "source": [
    "list_null(origin2)"
   ]
  },
  {
   "cell_type": "code",
   "execution_count": 40,
   "metadata": {
    "collapsed": true
   },
   "outputs": [],
   "source": [
    "## Convert our dataframe to numpy array, since we are not interested in the column names\n",
    "\n",
    "array=origin2.values"
   ]
  },
  {
   "cell_type": "code",
   "execution_count": 41,
   "metadata": {
    "collapsed": true
   },
   "outputs": [],
   "source": [
    "## X is the independent variables\n",
    "## Y is the dependent variable that we are going to predict\n",
    "\n",
    "X=array[:,1:]\n",
    "Y=array[:,0]"
   ]
  },
  {
   "cell_type": "markdown",
   "metadata": {},
   "source": [
    "**Split the train and test dataset**"
   ]
  },
  {
   "cell_type": "code",
   "execution_count": 42,
   "metadata": {
    "collapsed": true
   },
   "outputs": [],
   "source": [
    "X_train,X_test,Y_train,Y_test=train_test_split(X,Y,test_size=0.33,random_state=7)"
   ]
  },
  {
   "cell_type": "code",
   "execution_count": 43,
   "metadata": {
    "collapsed": true
   },
   "outputs": [],
   "source": [
    "# Test options and evaluation metric\n",
    "\n",
    "num_folds=10  ## k-fold cross validation parameter\n",
    "seed=7\n",
    "scoring='neg_mean_squared_error' ## the metric for linear regression accuracy"
   ]
  },
  {
   "cell_type": "code",
   "execution_count": 44,
   "metadata": {
    "collapsed": true
   },
   "outputs": [],
   "source": [
    "# Spot-Check Algorithms\n",
    "\n",
    "models=[]\n",
    "models.append(('LR',LinearRegression()))\n",
    "models.append(('LASSO',Lasso()))\n",
    "models.append(('EN',ElasticNet()))\n",
    "models.append(('KNN',KNeighborsRegressor()))\n",
    "models.append(('CART',DecisionTreeRegressor()))\n",
    "models.append(('SVR',SVR()))"
   ]
  },
  {
   "cell_type": "code",
   "execution_count": 45,
   "metadata": {
    "collapsed": false
   },
   "outputs": [
    {
     "name": "stdout",
     "output_type": "stream",
     "text": [
      "LR:-0.426812 (0.267671)\n",
      "LASSO:-0.718075 (0.402705)\n",
      "EN:-0.685355 (0.443935)\n",
      "KNN:-1.242950 (0.432450)\n",
      "CART:-0.875491 (0.382812)\n",
      "SVR:-1.309465 (0.464355)\n"
     ]
    }
   ],
   "source": [
    "# evaluate each model in turn\n",
    "\n",
    "results=[]\n",
    "names=[]\n",
    "for name,model in models:\n",
    "    kfold=KFold(n_splits=num_folds,random_state=seed)\n",
    "    cv_results=cross_val_score(model,X_train,Y_train,cv=kfold,scoring=scoring)\n",
    "    results.append(cv_results)\n",
    "    names.append(name)\n",
    "    msg=\"%s:%f (%f)\" % (name,cv_results.mean(),cv_results.std())\n",
    "    print msg"
   ]
  },
  {
   "cell_type": "code",
   "execution_count": 46,
   "metadata": {
    "collapsed": false
   },
   "outputs": [
    {
     "data": {
      "text/plain": [
       "[<matplotlib.text.Text at 0x9ff6c30>,\n",
       " <matplotlib.text.Text at 0x9fee250>,\n",
       " <matplotlib.text.Text at 0xa374930>,\n",
       " <matplotlib.text.Text at 0xa374cf0>,\n",
       " <matplotlib.text.Text at 0xa37e0d0>,\n",
       " <matplotlib.text.Text at 0xa37e490>]"
      ]
     },
     "execution_count": 46,
     "metadata": {},
     "output_type": "execute_result"
    },
    {
     "data": {
      "image/png": "[encoded data removed]",
      "text/plain": [
       "<matplotlib.figure.Figure at 0xa00b610>"
      ]
     },
     "metadata": {
      "image/png": {
       "height": 371,
       "width": 444
      }
     },
     "output_type": "display_data"
    }
   ],
   "source": [
    "fig,ax=plt.subplots(1,1,figsize=(5,4))\n",
    "\n",
    "ax.set_title('Algorithm Comparison')\n",
    "ax.boxplot(results)\n",
    "ax.set_xticklabels(names)"
   ]
  },
  {
   "cell_type": "markdown",
   "metadata": {},
   "source": [
    "Now we finished the model calculation without any parameters. The interesting point is so far we did nothing with the dataset, so now let's consider feature selection and feature scaling effects on our dataset. On average, after rescaling the dataset, the RMS score is lower than unscaled data"
   ]
  },
  {
   "cell_type": "markdown",
   "metadata": {},
   "source": [
    "### 2.1 Evaluate Algorithms: Standardization"
   ]
  },
  {
   "cell_type": "code",
   "execution_count": 47,
   "metadata": {
    "collapsed": true
   },
   "outputs": [],
   "source": [
    "# Standardize the dataset\n",
    "\n",
    "pipelines=[]\n",
    "pipelines.append(('ScaledLR',Pipeline([('Scaler',StandardScaler()),('LR',LinearRegression())])))\n",
    "pipelines.append(('ScaledLASSO',Pipeline([('Scaler',StandardScaler()),('LASSO',Lasso())])))\n",
    "pipelines.append(('ScaledEN',Pipeline([('Scaler',StandardScaler()),('EN',ElasticNet())])))\n",
    "pipelines.append(('ScaledKNN',Pipeline([('Scaler',StandardScaler()),('KNN',KNeighborsRegressor())])))\n",
    "pipelines.append(('ScaledCART',Pipeline([('Scaler',StandardScaler()),('CART',DecisionTreeRegressor())])))\n",
    "pipelines.append(('ScaledSVR',Pipeline([('Scaler',StandardScaler()),('SVR',SVR())])))"
   ]
  },
  {
   "cell_type": "code",
   "execution_count": 48,
   "metadata": {
    "collapsed": false
   },
   "outputs": [
    {
     "name": "stdout",
     "output_type": "stream",
     "text": [
      "ScaledLR:-0.426812 (0.267671)\n",
      "ScaledLASSO:-1.302421 (0.495503)\n",
      "ScaledEN:-0.816776 (0.330822)\n",
      "ScaledKNN:-0.434117 (0.186640)\n",
      "ScaledCART:-0.791651 (0.369199)\n",
      "ScaledSVR:-0.452031 (0.195514)\n"
     ]
    }
   ],
   "source": [
    "results=[]\n",
    "names=[]\n",
    "for name,model in pipelines:\n",
    "    kfold=KFold(n_splits=num_folds,random_state=seed)\n",
    "    cv_results=cross_val_score(model,X_train,Y_train,cv=kfold,scoring=scoring)\n",
    "    results.append(cv_results)\n",
    "    names.append(name)\n",
    "    msg=\"%s:%f (%f)\" % (name,cv_results.mean(),cv_results.std())\n",
    "    print msg"
   ]
  },
  {
   "cell_type": "code",
   "execution_count": 49,
   "metadata": {
    "collapsed": false
   },
   "outputs": [
    {
     "data": {
      "text/plain": [
       "[<matplotlib.text.Text at 0xa2f5650>,\n",
       " <matplotlib.text.Text at 0xa312970>,\n",
       " <matplotlib.text.Text at 0xa3bbef0>,\n",
       " <matplotlib.text.Text at 0xa3c62d0>,\n",
       " <matplotlib.text.Text at 0xa3c6690>,\n",
       " <matplotlib.text.Text at 0xa3c6a50>]"
      ]
     },
     "execution_count": 49,
     "metadata": {},
     "output_type": "execute_result"
    },
    {
     "data": {
      "image/png": "[encoded data removed]",
      "text/plain": [
       "<matplotlib.figure.Figure at 0xa106e90>"
      ]
     },
     "metadata": {
      "image/png": {
       "height": 425,
       "width": 444
      }
     },
     "output_type": "display_data"
    }
   ],
   "source": [
    "fig,ax=plt.subplots(1,1,figsize=(5,4))\n",
    "\n",
    "ax.set_title('Algorithm Comparison')\n",
    "ax.boxplot(results)\n",
    "ax.set_xticklabels(names,rotation=40)"
   ]
  },
  {
   "cell_type": "markdown",
   "metadata": {},
   "source": [
    "### 2.2 Evaluate Algorithms: Feature selection"
   ]
  },
  {
   "cell_type": "code",
   "execution_count": 50,
   "metadata": {
    "collapsed": true
   },
   "outputs": [],
   "source": [
    "## create feature union\n",
    "\n",
    "features=[]\n",
    "features.append(('pca',PCA(n_components=3)))\n",
    "features.append(('select_best',SelectKBest(k=6)))\n",
    "feature_union=FeatureUnion(features)"
   ]
  },
  {
   "cell_type": "code",
   "execution_count": 51,
   "metadata": {
    "collapsed": true
   },
   "outputs": [],
   "source": [
    "# Feature selection the dataset\n",
    "\n",
    "pipelines=[]\n",
    "pipelines.append(('SelectLR',Pipeline([('feature_union',feature_union),('LR',LinearRegression())])))\n",
    "pipelines.append(('SelectLASSO',Pipeline([('feature_union',feature_union),('LASSO',Lasso())])))\n",
    "pipelines.append(('SelectEN',Pipeline([('feature_union',feature_union),('EN',ElasticNet())])))\n",
    "pipelines.append(('SelectKNN',Pipeline([('feature_union',feature_union),('KNN',KNeighborsRegressor())])))\n",
    "pipelines.append(('SelectCART',Pipeline([('feature_union',feature_union),('CART',DecisionTreeRegressor())])))\n",
    "pipelines.append(('SelectSVR',Pipeline([('feature_union',feature_union),('SVR',SVR())])))"
   ]
  },
  {
   "cell_type": "code",
   "execution_count": 52,
   "metadata": {
    "collapsed": false
   },
   "outputs": [
    {
     "name": "stdout",
     "output_type": "stream",
     "text": [
      "SelectLR:-0.565622 (0.296389)\n",
      "SelectLASSO:-0.701710 (0.335138)\n",
      "SelectEN:-0.702924 (0.334439)\n",
      "SelectKNN:-1.255355 (0.405127)\n",
      "SelectCART:-0.920901 (0.478762)\n",
      "SelectSVR:-1.309854 (0.465115)\n"
     ]
    }
   ],
   "source": [
    "results=[]\n",
    "names=[]\n",
    "for name,model in pipelines:\n",
    "    kfold=KFold(n_splits=num_folds,random_state=seed)\n",
    "    cv_results=cross_val_score(model,X_train,Y_train,cv=kfold,scoring=scoring)\n",
    "    results.append(cv_results)\n",
    "    names.append(name)\n",
    "    msg=\"%s:%f (%f)\" % (name,cv_results.mean(),cv_results.std())\n",
    "    print msg"
   ]
  },
  {
   "cell_type": "markdown",
   "metadata": {},
   "source": [
    "**Conclusion:**\n",
    "\n",
    "as we can see from the previous result, the scaled KNN and the scaled LinearRegression have the lowest RMS score. So let's tune the parameter of these two models"
   ]
  },
  {
   "cell_type": "markdown",
   "metadata": {},
   "source": [
    "model 1. Scaled KNN"
   ]
  },
  {
   "cell_type": "code",
   "execution_count": 53,
   "metadata": {
    "collapsed": true
   },
   "outputs": [],
   "source": [
    "scaler=StandardScaler().fit(X_train)\n",
    "rescaledX=scaler.transform(X_train)\n",
    "k_values=np.array([1,3,5,7,9,11,13,15,17,19,21])\n",
    "param_grid=dict(n_neighbors=k_values)\n",
    "model=KNeighborsRegressor()\n",
    "kfold=KFold(n_splits=num_folds,random_state=seed)\n",
    "grid=GridSearchCV(estimator=model,param_grid=param_grid,scoring=scoring,cv=kfold)\n",
    "grid_result=grid.fit(rescaledX,Y_train)"
   ]
  },
  {
   "cell_type": "code",
   "execution_count": 54,
   "metadata": {
    "collapsed": false
   },
   "outputs": [
    {
     "name": "stdout",
     "output_type": "stream",
     "text": [
      "Best: -0.379454 using {'n_neighbors': 5}\n",
      "-0.855381 (0.243034) with: {'n_neighbors': 1}\n",
      "-0.474505 (0.199212) with: {'n_neighbors': 3}\n",
      "-0.379454 (0.134772) with: {'n_neighbors': 5}\n",
      "-0.425472 (0.157984) with: {'n_neighbors': 7}\n",
      "-0.427944 (0.162020) with: {'n_neighbors': 9}\n",
      "-0.429071 (0.206493) with: {'n_neighbors': 11}\n",
      "-0.450448 (0.205829) with: {'n_neighbors': 13}\n",
      "-0.461780 (0.184691) with: {'n_neighbors': 15}\n",
      "-0.495346 (0.197537) with: {'n_neighbors': 17}\n",
      "-0.509730 (0.203903) with: {'n_neighbors': 19}\n",
      "-0.523743 (0.214181) with: {'n_neighbors': 21}\n"
     ]
    }
   ],
   "source": [
    "print \"Best: %f using %s\" % (grid_result.best_score_,grid_result.best_params_)\n",
    "means=grid_result.cv_results_['mean_test_score']\n",
    "stds=grid_result.cv_results_['std_test_score']\n",
    "params=grid_result.cv_results_['params']\n",
    "\n",
    "for mean,stdev,param in zip(means,stds,params):\n",
    "    print \"%f (%f) with: %r\" % (mean,stdev,param)"
   ]
  },
  {
   "cell_type": "markdown",
   "metadata": {},
   "source": [
    "### 2.3 Make prediction for these two models\n",
    "Now since these two results are quite closed to each other. So let's make prediction for both of them"
   ]
  },
  {
   "cell_type": "code",
   "execution_count": 55,
   "metadata": {
    "collapsed": false
   },
   "outputs": [
    {
     "name": "stdout",
     "output_type": "stream",
     "text": [
      "0.310804617206\n"
     ]
    }
   ],
   "source": [
    "## Scaled KNN prediction\n",
    "\n",
    "scaler=StandardScaler().fit(X_train)\n",
    "rescaledX=scaler.transform(X_train)\n",
    "model=KNeighborsRegressor(n_neighbors=11)\n",
    "model.fit(rescaledX,Y_train)\n",
    "\n",
    "rescaledValidationX=scaler.transform(X_test)\n",
    "predictions=model.predict(rescaledValidationX)\n",
    "print mean_squared_error(Y_test,predictions)"
   ]
  },
  {
   "cell_type": "code",
   "execution_count": 56,
   "metadata": {
    "collapsed": false
   },
   "outputs": [
    {
     "name": "stdout",
     "output_type": "stream",
     "text": [
      "0.334335494394\n"
     ]
    }
   ],
   "source": [
    "## Scaled KNN prediction\n",
    "\n",
    "scaler=StandardScaler().fit(X_train)\n",
    "rescaledX=scaler.transform(X_train)\n",
    "model=LinearRegression()\n",
    "model.fit(rescaledX,Y_train)\n",
    "\n",
    "rescaledValidationX=scaler.transform(X_test)\n",
    "predictions=model.predict(rescaledValidationX)\n",
    "print mean_squared_error(Y_test,predictions)"
   ]
  },
  {
   "cell_type": "markdown",
   "metadata": {},
   "source": [
    "### 2.4 Ensemble methods\n",
    "\n",
    "Now let's do the same problem by using the ensemble algorithms"
   ]
  },
  {
   "cell_type": "code",
   "execution_count": 57,
   "metadata": {
    "collapsed": true
   },
   "outputs": [],
   "source": [
    "## build a models collection\n",
    "\n",
    "ensembles=[]\n",
    "ensembles.append(('RF',RandomForestRegressor()))\n",
    "ensembles.append(('GB',GradientBoostingRegressor()))\n",
    "ensembles.append(('ET',ExtraTreesRegressor()))\n",
    "ensembles.append(('AB',AdaBoostRegressor()))\n"
   ]
  },
  {
   "cell_type": "code",
   "execution_count": 58,
   "metadata": {
    "collapsed": false
   },
   "outputs": [
    {
     "name": "stdout",
     "output_type": "stream",
     "text": [
      "RF : -0.426812 (0.267671)\n",
      "GB : -0.426812 (0.267671)\n",
      "ET : -0.426812 (0.267671)\n",
      "AB : -0.426812 (0.267671)\n"
     ]
    }
   ],
   "source": [
    "result=[]\n",
    "names=[]\n",
    "\n",
    "for name,ensemble in ensembles:\n",
    "    kfold=KFold(n_splits=num_folds,random_state=seed)\n",
    "    cv_results=cross_val_score(model,X_train,Y_train,cv=kfold,scoring=scoring)\n",
    "    result.append(cv_results)\n",
    "    names.append(name)\n",
    "    msg='%s : %f (%f)' % (name,cv_results.mean(),cv_results.std())\n",
    "    print msg"
   ]
  },
  {
   "cell_type": "markdown",
   "metadata": {},
   "source": [
    "Now let's look at the scaled method"
   ]
  },
  {
   "cell_type": "code",
   "execution_count": 59,
   "metadata": {
    "collapsed": true
   },
   "outputs": [],
   "source": [
    "# Standardize the dataset\n",
    "\n",
    "pipelines=[]\n",
    "pipelines.append(('ScaledRF',Pipeline([('Scaler',StandardScaler()),('RF',RandomForestRegressor())])))\n",
    "pipelines.append(('ScaledGB',Pipeline([('Scaler',StandardScaler()),('GB',GradientBoostingRegressor())])))\n",
    "pipelines.append(('ScaledET',Pipeline([('Scaler',StandardScaler()),('ET',ExtraTreesRegressor())])))\n",
    "pipelines.append(('ScaledAB',Pipeline([('Scaler',StandardScaler()),('AB',AdaBoostRegressor())])))"
   ]
  },
  {
   "cell_type": "code",
   "execution_count": 60,
   "metadata": {
    "collapsed": false
   },
   "outputs": [
    {
     "name": "stdout",
     "output_type": "stream",
     "text": [
      "ScaledRF:-0.416113 (0.129261)\n",
      "ScaledGB:-0.373170 (0.128556)\n",
      "ScaledET:-0.366742 (0.166409)\n",
      "ScaledAB:-0.378640 (0.119887)\n"
     ]
    }
   ],
   "source": [
    "results=[]\n",
    "names=[]\n",
    "for name,model in pipelines:\n",
    "    kfold=KFold(n_splits=num_folds,random_state=seed)\n",
    "    cv_results=cross_val_score(model,X_train,Y_train,cv=kfold,scoring=scoring)\n",
    "    results.append(cv_results)\n",
    "    names.append(name)\n",
    "    msg=\"%s:%f (%f)\" % (name,cv_results.mean(),cv_results.std())\n",
    "    print msg"
   ]
  },
  {
   "cell_type": "markdown",
   "metadata": {},
   "source": [
    "Now let's tune the parameters of the model scaled GradientBoostingRegressor and ExtraTreesRegressor"
   ]
  },
  {
   "cell_type": "code",
   "execution_count": 61,
   "metadata": {
    "collapsed": true
   },
   "outputs": [],
   "source": [
    "## Gradient Boosting Regressor\n",
    "\n",
    "scaler=StandardScaler().fit(X_train)\n",
    "rescaledX=scaler.transform(X_train)\n",
    "learning_rates=[0.01,0.1,1.0]\n",
    "number_estimators=[50,100,150,200,250,300,350,400]\n",
    "param_grid=dict(learning_rate=learning_rates,n_estimators=number_estimators)\n",
    "model=GradientBoostingRegressor(random_state=seed)\n",
    "kfold=KFold(n_splits=num_folds,random_state=seed)\n",
    "grid=GridSearchCV(estimator=model,param_grid=param_grid,scoring=scoring,cv=kfold)\n",
    "grid_result=grid.fit(rescaledX,Y_train)"
   ]
  },
  {
   "cell_type": "code",
   "execution_count": 62,
   "metadata": {
    "collapsed": false
   },
   "outputs": [
    {
     "name": "stdout",
     "output_type": "stream",
     "text": [
      "Best: -0.367994 using {'n_estimators': 50, 'learning_rate': 0.1}\n",
      "-0.733742 (0.271408) with: {'n_estimators': 50, 'learning_rate': 0.01}\n",
      "-0.513638 (0.184728) with: {'n_estimators': 100, 'learning_rate': 0.01}\n",
      "-0.425906 (0.151393) with: {'n_estimators': 150, 'learning_rate': 0.01}\n",
      "-0.390937 (0.138243) with: {'n_estimators': 200, 'learning_rate': 0.01}\n",
      "-0.378574 (0.135442) with: {'n_estimators': 250, 'learning_rate': 0.01}\n",
      "-0.371521 (0.135893) with: {'n_estimators': 300, 'learning_rate': 0.01}\n",
      "-0.368755 (0.136631) with: {'n_estimators': 350, 'learning_rate': 0.01}\n",
      "-0.368640 (0.137732) with: {'n_estimators': 400, 'learning_rate': 0.01}\n",
      "-0.367994 (0.125642) with: {'n_estimators': 50, 'learning_rate': 0.1}\n",
      "-0.370944 (0.133785) with: {'n_estimators': 100, 'learning_rate': 0.1}\n",
      "-0.371819 (0.136186) with: {'n_estimators': 150, 'learning_rate': 0.1}\n",
      "-0.371518 (0.136274) with: {'n_estimators': 200, 'learning_rate': 0.1}\n",
      "-0.371807 (0.136203) with: {'n_estimators': 250, 'learning_rate': 0.1}\n",
      "-0.372107 (0.136348) with: {'n_estimators': 300, 'learning_rate': 0.1}\n",
      "-0.372225 (0.136387) with: {'n_estimators': 350, 'learning_rate': 0.1}\n",
      "-0.372233 (0.136367) with: {'n_estimators': 400, 'learning_rate': 0.1}\n",
      "-0.776684 (0.384176) with: {'n_estimators': 50, 'learning_rate': 1.0}\n",
      "-0.776684 (0.384176) with: {'n_estimators': 100, 'learning_rate': 1.0}\n",
      "-0.776684 (0.384176) with: {'n_estimators': 150, 'learning_rate': 1.0}\n",
      "-0.776684 (0.384176) with: {'n_estimators': 200, 'learning_rate': 1.0}\n",
      "-0.776684 (0.384176) with: {'n_estimators': 250, 'learning_rate': 1.0}\n",
      "-0.776684 (0.384176) with: {'n_estimators': 300, 'learning_rate': 1.0}\n",
      "-0.776684 (0.384176) with: {'n_estimators': 350, 'learning_rate': 1.0}\n",
      "-0.776684 (0.384176) with: {'n_estimators': 400, 'learning_rate': 1.0}\n"
     ]
    }
   ],
   "source": [
    "print \"Best: %f using %s\" % (grid_result.best_score_,grid_result.best_params_)\n",
    "means=grid_result.cv_results_['mean_test_score']\n",
    "stds=grid_result.cv_results_['std_test_score']\n",
    "params=grid_result.cv_results_['params']\n",
    "\n",
    "for mean,stdev,param in zip(means,stds,params):\n",
    "    print \"%f (%f) with: %r\" % (mean,stdev,param)"
   ]
  },
  {
   "cell_type": "code",
   "execution_count": 63,
   "metadata": {
    "collapsed": true
   },
   "outputs": [],
   "source": [
    "scaler=StandardScaler().fit(X_train)\n",
    "rescaledX=scaler.transform(X_train)\n",
    "max_depths=[1,5,10,15,20]\n",
    "param_grid=dict(max_depth=max_depths)\n",
    "model=ExtraTreesRegressor(random_state=seed)\n",
    "kfold=KFold(n_splits=num_folds,random_state=seed)\n",
    "grid=GridSearchCV(estimator=model,param_grid=param_grid,scoring=scoring,cv=kfold)\n",
    "grid_result=grid.fit(rescaledX,Y_train)"
   ]
  },
  {
   "cell_type": "code",
   "execution_count": 64,
   "metadata": {
    "collapsed": false
   },
   "outputs": [
    {
     "name": "stdout",
     "output_type": "stream",
     "text": [
      "Best: -0.358007 using {'max_depth': 5}\n",
      "-0.685811 (0.285889) with: {'max_depth': 1}\n",
      "-0.358007 (0.147123) with: {'max_depth': 5}\n",
      "-0.401025 (0.165861) with: {'max_depth': 10}\n",
      "-0.439564 (0.190974) with: {'max_depth': 15}\n",
      "-0.435958 (0.184175) with: {'max_depth': 20}\n"
     ]
    }
   ],
   "source": [
    "print \"Best: %f using %s\" % (grid_result.best_score_,grid_result.best_params_)\n",
    "means=grid_result.cv_results_['mean_test_score']\n",
    "stds=grid_result.cv_results_['std_test_score']\n",
    "params=grid_result.cv_results_['params']\n",
    "\n",
    "for mean,stdev,param in zip(means,stds,params):\n",
    "    print \"%f (%f) with: %r\" % (mean,stdev,param)"
   ]
  },
  {
   "cell_type": "code",
   "execution_count": 65,
   "metadata": {
    "collapsed": false
   },
   "outputs": [
    {
     "name": "stdout",
     "output_type": "stream",
     "text": [
      "0.322425442168\n"
     ]
    }
   ],
   "source": [
    "## Using Adaboostregressor for final prediction\n",
    "\n",
    "scaler=StandardScaler().fit(X_train)\n",
    "rescaledX=scaler.transform(X_train)\n",
    "model=ExtraTreesRegressor(max_depth=5,random_state=seed)\n",
    "model.fit(rescaledX,Y_train)\n",
    "\n",
    "rescaledValidationX=scaler.transform(X_test)\n",
    "predictions=model.predict(rescaledValidationX)\n",
    "print mean_squared_error(Y_test,predictions)"
   ]
  },
  {
   "cell_type": "code",
   "execution_count": null,
   "metadata": {
    "collapsed": true
   },
   "outputs": [],
   "source": []
  },
  {
   "cell_type": "code",
   "execution_count": null,
   "metadata": {
    "collapsed": true
   },
   "outputs": [],
   "source": []
  },
  {
   "cell_type": "code",
   "execution_count": null,
   "metadata": {
    "collapsed": true
   },
   "outputs": [],
   "source": []
  },
  {
   "cell_type": "code",
   "execution_count": null,
   "metadata": {
    "collapsed": true
   },
   "outputs": [],
   "source": []
  },
  {
   "cell_type": "code",
   "execution_count": null,
   "metadata": {
    "collapsed": true
   },
   "outputs": [],
   "source": []
  },
  {
   "cell_type": "code",
   "execution_count": null,
   "metadata": {
    "collapsed": true
   },
   "outputs": [],
   "source": []
  },
  {
   "cell_type": "code",
   "execution_count": null,
   "metadata": {
    "collapsed": true
   },
   "outputs": [],
   "source": []
  },
  {
   "cell_type": "code",
   "execution_count": null,
   "metadata": {
    "collapsed": true
   },
   "outputs": [],
   "source": []
  },
  {
   "cell_type": "code",
   "execution_count": null,
   "metadata": {
    "collapsed": true
   },
   "outputs": [],
   "source": []
  }
 ],
 "metadata": {
  "anaconda-cloud": {},
  "kernelspec": {
   "display_name": "Python [conda root]",
   "language": "python",
   "name": "conda-root-py"
  },
  "language_info": {
   "codemirror_mode": {
    "name": "ipython",
    "version": 2
   },
   "file_extension": ".py",
   "mimetype": "text/x-python",
   "name": "python",
   "nbconvert_exporter": "python",
   "pygments_lexer": "ipython2",
   "version": "2.7.12"
  }
 },
 "nbformat": 4,
 "nbformat_minor": 1
}
