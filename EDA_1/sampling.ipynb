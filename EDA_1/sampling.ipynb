{
 "cells": [
  {
   "cell_type": "markdown",
   "metadata": {},
   "source": [
    "Random Sampling\n",
    "=============\n",
    "\n",
    "Copyright 2016 Allen Downey\n",
    "\n",
    "License: [Creative Commons Attribution 4.0 International](http://creativecommons.org/licenses/by/4.0/)"
   ]
  },
  {
   "cell_type": "code",
   "execution_count": 1,
   "metadata": {
    "collapsed": false
   },
   "outputs": [],
   "source": [
    "from __future__ import print_function, division\n",
    "\n",
    "import numpy\n",
    "import scipy.stats\n",
    "\n",
    "import matplotlib.pyplot as pyplot\n",
    "\n",
    "from ipywidgets import interact, interactive, fixed\n",
    "import ipywidgets as widgets\n",
    "\n",
    "# seed the random number generator so we all get the same results\n",
    "numpy.random.seed(18)\n",
    "\n",
    "# some nicer colors from http://colorbrewer2.org/\n",
    "COLOR1 = '#7fc97f'\n",
    "COLOR2 = '#beaed4'\n",
    "COLOR3 = '#fdc086'\n",
    "COLOR4 = '#ffff99'\n",
    "COLOR5 = '#386cb0'\n",
    "\n",
    "%matplotlib inline"
   ]
  },
  {
   "cell_type": "markdown",
   "metadata": {},
   "source": [
    "Part One\n",
    "========\n",
    "\n",
    "Suppose we want to estimate the average weight of men and women in the U.S.\n",
    "\n",
    "And we want to quantify the uncertainty of the estimate.\n",
    "\n",
    "One approach is to simulate many experiments and see how much the results vary from one experiment to the next.\n",
    "\n",
    "I'll start with the unrealistic assumption that we know the actual distribution of weights in the population.  Then I'll show how to solve the problem without that assumption.\n",
    "\n",
    "Based on data from the [BRFSS](http://www.cdc.gov/brfss/), I found that the distribution of weight in kg for women in the U.S. is well modeled by a lognormal distribution with the following parameters:"
   ]
  },
  {
   "cell_type": "code",
   "execution_count": 2,
   "metadata": {
    "collapsed": false
   },
   "outputs": [
    {
     "data": {
      "text/plain": [
       "(72.697645732966876, 16.944043048498038)"
      ]
     },
     "execution_count": 2,
     "metadata": {},
     "output_type": "execute_result"
    }
   ],
   "source": [
    "weight = scipy.stats.lognorm(0.23, 0, 70.8)\n",
    "weight.mean(), weight.std()"
   ]
  },
  {
   "cell_type": "markdown",
   "metadata": {},
   "source": [
    "Here's what that distribution looks like:"
   ]
  },
  {
   "cell_type": "code",
   "execution_count": 3,
   "metadata": {
    "collapsed": false
   },
   "outputs": [
    {
     "data": {
      "image/png": "[encoded data removed]",
      "text/plain": [
       "<matplotlib.figure.Figure at 0x8757770>"
      ]
     },
     "metadata": {},
     "output_type": "display_data"
    }
   ],
   "source": [
    "xs = numpy.linspace(20, 160, 100)\n",
    "ys = weight.pdf(xs)\n",
    "pyplot.plot(xs, ys, linewidth=4, color=COLOR1)\n",
    "pyplot.xlabel('weight (kg)')\n",
    "pyplot.ylabel('PDF')\n",
    "None"
   ]
  },
  {
   "cell_type": "markdown",
   "metadata": {},
   "source": [
    "`make_sample` draws a random sample from this distribution.  The result is a NumPy array."
   ]
  },
  {
   "cell_type": "code",
   "execution_count": 4,
   "metadata": {
    "collapsed": false
   },
   "outputs": [],
   "source": [
    "def make_sample(n=100):\n",
    "    sample = weight.rvs(n)\n",
    "    return sample"
   ]
  },
  {
   "cell_type": "markdown",
   "metadata": {},
   "source": [
    "Here's an example with `n=100`.  The mean and std of the sample are close to the mean and std of the population, but not exact."
   ]
  },
  {
   "cell_type": "code",
   "execution_count": 5,
   "metadata": {
    "collapsed": false
   },
   "outputs": [
    {
     "data": {
      "text/plain": [
       "(76.308293640077437, 19.995558735561865)"
      ]
     },
     "execution_count": 5,
     "metadata": {},
     "output_type": "execute_result"
    }
   ],
   "source": [
    "sample = make_sample(n=100)\n",
    "sample.mean(), sample.std()"
   ]
  },
  {
   "cell_type": "markdown",
   "metadata": {},
   "source": [
    "We want to estimate the average weight in the population, so the \"sample statistic\" we'll use is the mean:"
   ]
  },
  {
   "cell_type": "code",
   "execution_count": 24,
   "metadata": {
    "collapsed": false
   },
   "outputs": [],
   "source": [
    "def sample_stat(sample):\n",
    "    return sample.mean()"
   ]
  },
  {
   "cell_type": "markdown",
   "metadata": {},
   "source": [
    "One iteration of \"the experiment\" is to collect a sample of 100 women and compute their average weight.\n",
    "\n",
    "We can simulate running this experiment many times, and collect a list of sample statistics.  The result is a NumPy array."
   ]
  },
  {
   "cell_type": "code",
   "execution_count": 7,
   "metadata": {
    "collapsed": false
   },
   "outputs": [],
   "source": [
    "def compute_sample_statistics(n=100, iters=1000):\n",
    "    stats = [sample_stat(make_sample(n)) for i in range(iters)]\n",
    "    return numpy.array(stats)"
   ]
  },
  {
   "cell_type": "markdown",
   "metadata": {},
   "source": [
    "The next line runs the simulation 1000 times and puts the results in\n",
    "`sample_means`:"
   ]
  },
  {
   "cell_type": "code",
   "execution_count": 25,
   "metadata": {
    "collapsed": false
   },
   "outputs": [
    {
     "name": "stdout",
     "output_type": "stream",
     "text": [
      "[ 76.03587534  72.46018108  71.29165329  72.97221092  70.21688609\n",
      "  71.22647001  74.36658795  72.25063519  71.7330475   70.90851783\n",
      "  71.76469665  73.43547708  72.23533237  72.54540839  75.50376396\n",
      "  76.58714271  71.35870936  71.82373288  71.51432229  71.48903288\n",
      "  73.4860953   72.97332737  71.28205143  75.61701659  73.94784021\n",
      "  74.37704578  72.11620826  73.63032034  75.01707316  72.72184107\n",
      "  71.19954049  71.29142815  74.92420159  71.47824161  72.68984572\n",
      "  72.18296126  73.71520922  72.78119434  73.8202581   71.37843569\n",
      "  75.04408862  72.45126065  71.31308652  72.25970862  72.34666604\n",
      "  71.99996486  71.76161036  71.81400204  71.34962372  74.2973744\n",
      "  73.23030812  69.79500973  70.62274345  70.8594415   70.79586925\n",
      "  70.56106629  73.42237872  70.54319916  73.91708521  71.22322325\n",
      "  75.72021634  75.55914969  71.60868108  70.1747206   72.11188527\n",
      "  75.4603313   71.10041787  71.03082048  74.68482751  74.16919476\n",
      "  72.19406257  73.52156574  72.29948913  75.56419168  70.26003926\n",
      "  73.27656211  75.29167909  75.30810753  72.88920417  73.79536078\n",
      "  70.5737493   72.41596306  74.20341651  69.06446369  72.13124965\n",
      "  74.83962897  71.78530999  73.09856776  74.19208626  70.05925646\n",
      "  73.90230928  72.52550294  71.73777436  74.28965619  74.38061849\n",
      "  72.48412812  72.443143    73.15207287  75.21231165  72.35354573\n",
      "  72.76361146  69.60372772  75.24844923  73.55047174  73.45800412\n",
      "  72.57595093  73.5959776   72.84899979  74.64569517  72.49121504\n",
      "  73.05502919  72.49711939  70.94516903  73.76425927  70.44416109\n",
      "  74.81784927  70.33745776  69.22463371  72.38718448  74.21298391\n",
      "  73.62199852  69.77211928  73.15065857  72.79633874  75.31469185\n",
      "  71.29058987  71.99715774  72.59205512  71.30249407  71.58726137\n",
      "  73.10969474  73.15887001  73.32075561  72.4443891   70.00683334\n",
      "  71.75579168  70.89888042  75.47313259  73.62359683  72.01782337\n",
      "  72.19892298  74.19303308  72.96267078  76.95308978  75.10834805\n",
      "  72.97988052  70.56239855  73.24857105  74.68064162  73.18088986\n",
      "  74.30151386  73.29140977  74.70785864  74.46103667  72.72028045\n",
      "  71.98954295  73.14382986  73.00617015  70.05828095  70.86597612\n",
      "  72.62408565  72.01079464  71.57829831  70.69719353  74.16272845\n",
      "  76.19880972  75.50912974  70.00258966  74.1618113   72.89567898\n",
      "  74.864994    73.98453605  71.43422033  71.47790014  73.53161928\n",
      "  75.70783178  69.40334953  75.61568574  72.09478058  72.56964018\n",
      "  71.87702746  73.93574998  73.22763398  74.69023926  73.15980597\n",
      "  73.97523461  75.15425757  73.59206746  72.29732324  73.75485331\n",
      "  71.84098523  72.34548433  71.49924951  71.56415041  71.33051046\n",
      "  71.92624064  72.216007    71.45436557  71.36249424  71.31264014\n",
      "  75.96364453  74.51747828  72.4649354   72.25872037  73.07727747\n",
      "  73.47162704  72.42197206  72.86172862  73.1905638   72.63913226\n",
      "  72.81645875  71.75599381  72.57760508  74.45295306  72.30760309\n",
      "  74.03800301  71.6932533   73.78196145  72.48250372  75.29066891\n",
      "  69.93472966  71.89223768  70.25349401  74.06025685  72.05871838\n",
      "  68.93796224  71.65211726  73.68514554  71.53254869  73.30737271\n",
      "  74.14221188  73.36476634  73.36601159  75.81802682  73.71293274\n",
      "  71.27713745  71.15596367  72.15927539  72.12992307  74.26323502\n",
      "  74.59502047  68.43266685  72.50086948  71.56610544  71.5278309\n",
      "  73.21779392  73.34877643  71.77569674  74.09817541  75.0384059\n",
      "  73.70047368  70.05682172  72.1039694   73.52076943  74.23928346\n",
      "  73.51784853  72.787831    71.87992103  71.09666803  72.81741422\n",
      "  71.75903589  73.5343945   68.49485467  71.98923416  74.92462083\n",
      "  72.91426017  71.19879303  70.95031016  71.29873848  70.66747824\n",
      "  72.55505304  70.46617191  76.00022385  71.01702731  72.21096159\n",
      "  72.8972279   71.67205866  74.56621017  71.78394083  73.33672023\n",
      "  69.19242264  70.19681945  70.93163018  75.67265053  74.54781602\n",
      "  72.47504841  72.94424558  75.73138223  72.54050783  70.77628213\n",
      "  70.61838166  75.92812233  72.87026392  72.03198521  70.95135948\n",
      "  70.7413985   72.50544746  73.85583721  70.21415433  74.01936798\n",
      "  74.73370598  72.2118413   72.51313711  74.14533342  70.2724973\n",
      "  71.13028009  72.18514923  74.00064387  69.51334577  73.07652828\n",
      "  71.48495057  70.82823594  74.22406709  72.48595564  70.89600263\n",
      "  70.48264938  71.903698    72.63215459  74.48003701  74.86520185\n",
      "  73.96505528  69.27954539  73.62589574  73.1616297   73.89260105\n",
      "  70.7048816   75.73380661  73.73878647  73.70990434  73.30553101\n",
      "  72.77489676  72.57621482  73.48045481  73.40101819  73.08101821\n",
      "  74.63375958  71.27152168  75.29909602  72.76268282  73.44697423\n",
      "  72.86490905  74.2907015   71.64769295  72.34126982  73.47898229\n",
      "  74.24999856  70.64843104  74.1241866   70.99761017  73.51952398\n",
      "  74.67207878  73.83898778  71.72925184  70.04172025  69.89712374\n",
      "  73.95893928  73.35516122  72.55981409  71.13000777  72.18950389\n",
      "  73.27258643  71.63660671  73.96177169  74.27379798  73.07833435\n",
      "  75.82090982  74.64414225  70.52363178  75.15546535  75.46723374\n",
      "  69.65014616  70.60597098  74.16159679  72.03571208  70.4551595\n",
      "  73.14195641  72.42378534  73.28719953  74.10044294  73.36344605\n",
      "  74.04055242  71.01727045  74.2926133   72.94519665  71.68295244\n",
      "  72.26658512  70.22546028  72.67800599  72.04953984  73.21915749\n",
      "  72.33311779  69.42560724  74.42008993  72.42381391  71.73382129\n",
      "  72.69146272  70.70938256  72.04250424  69.92919259  75.35028815\n",
      "  70.90534713  71.61753942  73.12632457  74.73426231  72.16886578\n",
      "  75.90567388  72.5144175   73.30900308  71.79053144  74.08332972\n",
      "  72.83369247  71.0731029   74.87942472  73.00610393  73.79049434\n",
      "  72.39491674  71.74595113  74.28659638  74.44713735  74.10815267\n",
      "  71.97413331  72.9974275   71.31490646  74.44114163  73.0346744\n",
      "  74.35937441  74.96184054  71.56118766  72.99796531  70.96773307\n",
      "  71.93332451  73.2369285   75.52202434  71.85811121  72.46648051\n",
      "  71.17213968  69.99980931  74.05020423  73.68786002  72.14223193\n",
      "  75.19038836  68.65977816  73.88705388  71.8423552   71.05847515\n",
      "  71.27369415  72.35638114  75.27570803  72.8889479   72.34776834\n",
      "  72.85275251  73.48501913  72.2812273   73.07637964  74.38030668\n",
      "  72.07444347  71.8585873   72.3723456   70.54173686  71.05221013\n",
      "  74.30287068  71.63511477  73.49367248  71.52790463  74.278895\n",
      "  74.03885794  73.2482243   70.9200102   71.9549054   71.3360465\n",
      "  73.45713125  72.98231355  73.61419177  75.17091043  75.11929875\n",
      "  74.19555366  72.12662302  73.22881195  72.53740088  71.70126225\n",
      "  75.46598994  72.36486324  71.25937834  71.32975592  74.72170617\n",
      "  72.71412016  69.62451177  72.10255176  72.70600824  71.7848779\n",
      "  70.16607993  71.60437855  69.32748458  70.09036223  73.79134549\n",
      "  70.63815056  71.24019237  72.57730842  72.94883642  73.92348241\n",
      "  71.19760549  70.80040442  72.30066828  71.26837242  70.99706131\n",
      "  73.76073313  73.82903023  72.45071644  73.014201    73.91973511\n",
      "  70.08919462  71.5375713   74.14033763  71.17700002  72.00774121\n",
      "  73.48100274  72.70340018  76.84936987  72.74753752  72.69125331\n",
      "  72.80182137  76.04451648  71.5896516   72.1914738   72.24432467\n",
      "  72.28186466  73.59397028  71.78888692  73.89273239  73.9130206\n",
      "  73.76229496  74.63318965  69.59956407  74.80917089  73.76309862\n",
      "  73.91637265  74.31741281  72.19968981  72.9678488   74.45015819\n",
      "  69.68078515  71.05178993  72.16858547  73.51396411  71.48876087\n",
      "  77.00965604  70.30454462  74.30509038  74.03197452  69.43336523\n",
      "  71.90155726  72.86200267  71.4132314   73.18958538  75.53438664\n",
      "  71.69432471  74.91302438  71.56543485  72.69764476  72.96930194\n",
      "  72.65092956  72.98188235  71.46252541  73.25341275  69.51182615\n",
      "  70.2483418   71.81834932  70.96864308  70.83666759  72.38186091\n",
      "  71.87820633  69.81560645  72.96284555  74.20124163  75.35191413\n",
      "  72.81374571  72.846664    73.23590306  73.33712377  71.70304647\n",
      "  73.03167023  70.19266149  73.36728936  71.26979872  74.34549164\n",
      "  72.53839095  72.36687283  70.32468622  73.40172256  70.89079074\n",
      "  71.44703997  71.15814203  72.93908004  72.66493474  70.70796506\n",
      "  72.48173857  72.12245764  70.11738724  73.35111798  74.59666868\n",
      "  74.32880295  74.4035744   71.94032476  76.336977    70.77427839\n",
      "  75.1020029   72.29710001  72.69512719  71.26884673  72.12346045\n",
      "  72.34238549  74.41909053  70.20145534  72.76977292  72.74853638\n",
      "  71.49345929  75.19752967  71.59374015  72.75068541  74.25049986\n",
      "  74.19275823  72.13458274  72.88683618  70.66054186  73.31798675\n",
      "  72.54454989  74.42527869  70.19493167  73.32662562  76.07556104\n",
      "  72.69325605  74.08923602  70.18519911  75.84678876  73.17123886\n",
      "  71.56049301  71.60385077  71.92724855  75.40378474  72.97547775\n",
      "  73.95952563  72.8949998   75.0030546   70.94220406  71.66376602\n",
      "  74.07823888  75.29230323  76.28915784  71.18215597  71.11160367\n",
      "  70.59141152  74.60996156  73.32710477  72.09216276  75.48808901\n",
      "  72.24244513  72.72743723  72.69180556  71.45021511  72.56514194\n",
      "  71.56924958  74.50539074  71.17872634  73.29747901  68.78190136\n",
      "  76.33698419  70.98033222  74.56361942  74.44831154  72.64319799\n",
      "  72.78178886  73.6329854   71.296096    74.29028615  69.4540587\n",
      "  71.55140014  72.05515353  75.16319782  71.77659174  71.9772906\n",
      "  73.0365178   74.28398992  74.34289839  75.45834935  72.87052063\n",
      "  73.0360514   69.47541557  68.83280983  71.70236625  72.20429801\n",
      "  70.52275878  73.08069096  74.54884895  75.43623743  73.40804239\n",
      "  72.57192555  71.06450954  73.1261322   76.80474575  73.93226227\n",
      "  74.9251377   73.49019908  71.24895936  74.97855424  73.96276381\n",
      "  72.88113084  72.66032732  70.38886446  70.38324011  72.46731462\n",
      "  72.46056248  71.93596345  71.01238101  72.48661494  72.43924109\n",
      "  75.58168662  72.04263573  73.07973191  69.94267292  72.36886825\n",
      "  75.44153891  71.60628759  73.38114035  71.33084689  75.06131917\n",
      "  72.45477401  73.13193799  69.53699338  73.96319371  73.47823045\n",
      "  72.30182098  73.00955609  74.57241073  75.87508229  77.56265437\n",
      "  75.40810033  72.30053421  72.25982248  73.18374467  71.46164059\n",
      "  69.87767494  73.40460874  71.39222257  71.10427652  73.48718515\n",
      "  71.40661378  71.39289805  71.93269923  68.94060074  74.73726981\n",
      "  73.87632888  70.10598451  73.31446724  71.97636309  73.19862407\n",
      "  72.80523205  70.28332654  71.79635188  70.86935816  73.26277092\n",
      "  73.89933641  73.05746571  70.88822914  72.77061365  74.87945153\n",
      "  74.43933704  74.1829627   76.97871324  70.30911402  73.06878677\n",
      "  75.43876286  75.31315283  73.86597701  72.48230278  71.54753102\n",
      "  74.12799677  73.85719555  70.11966354  71.8834219   71.1383347\n",
      "  72.14038188  71.01140743  74.49704646  73.12612175  72.85666335\n",
      "  71.33056517  73.58326269  70.00192389  74.32103453  74.56126725\n",
      "  72.46744421  73.82381281  72.79926545  73.07574017  73.89309396\n",
      "  69.94150267  70.81091148  71.7428651   72.99993469  74.14550483\n",
      "  70.1356092   70.07121474  72.10911035  71.60326064  72.45619379\n",
      "  70.6430834   71.89965095  72.58807     70.01387904  72.54069421\n",
      "  73.24579096  75.34657293  76.95617482  69.43181118  69.18846671\n",
      "  71.59892692  71.01187196  73.62876766  71.88725994  73.31190146\n",
      "  73.78263883  76.07859413  72.30216847  72.45671727  71.47000452\n",
      "  72.30167772  73.36931492  73.25139169  72.11151277  75.32754459\n",
      "  70.9960342   71.50174814  73.90953041  72.24491583  71.88345529\n",
      "  71.64809031  72.23781314  72.24449654  69.01519833  72.74451745\n",
      "  72.93115976  72.86244926  71.85723688  71.26177835  74.83667607\n",
      "  71.52481034  72.15461745  72.7958751   70.36014898  72.25770572\n",
      "  69.6483041   71.70014006  69.91431902  73.07958663  72.65208142\n",
      "  74.37323323  72.19941566  74.18864014  72.47850782  76.83790035\n",
      "  73.84746787  70.05336339  70.32372845  73.69890766  72.20596513\n",
      "  72.60161825  71.29571447  73.88932464  73.45450155  72.54372035\n",
      "  73.2862707   74.50624292  71.86719488  73.06079735  73.29405997\n",
      "  74.5964514   68.36351837  72.5337753   72.35592178  72.10849749\n",
      "  73.55787333  73.07645013  69.65963904  71.13305948  70.71064662\n",
      "  73.26589507  72.75690869  72.7874289   70.16864808  74.14391985\n",
      "  71.68077582  75.01865804  74.06133367  71.18241434  69.77016315\n",
      "  76.1617164   73.76781645  73.85677284  70.60318922  72.2331175\n",
      "  75.08857662  72.54509202  69.88423963  71.59958065  72.32158653\n",
      "  74.3269918   70.83565832  73.91078842  72.74003184  72.85971645\n",
      "  70.59506131  71.758521    71.09748494  71.21918423  71.94288234\n",
      "  72.04482952  73.73403765  75.04592319  70.91931048  72.03463315\n",
      "  72.2143514   72.59985569  72.1691223   71.49837035  76.90589427\n",
      "  74.8059072   74.817074    72.76807257  71.2941426   71.83950957\n",
      "  71.91906315  71.97082249  72.95351373  72.96499438  72.46296036\n",
      "  74.72571133  73.10266839  70.85783607  71.75000534  72.73111672\n",
      "  77.91578181  73.52965697  70.89147796  69.05244258  74.27791492\n",
      "  70.38764706  72.96500087  75.57339438  70.42657402  70.88181905\n",
      "  73.8575092   69.71569383  71.10960895  72.91565596  72.23496051\n",
      "  71.44063253  71.26483715  73.34734661  76.86239974  72.44857106\n",
      "  70.29154631  70.79256804  73.37261493  72.26058519  71.72291714\n",
      "  74.61000172  72.50063062  73.66961643  73.27799231  73.33081538\n",
      "  75.09942125  75.263189    73.20630277  71.52447701  71.72474009\n",
      "  73.08491678  72.49237085  70.5261688   71.54181216  74.30221034\n",
      "  72.09780419  75.39157546  73.87444201  71.58393055  70.91301535\n",
      "  70.2964314   71.13039438  72.28132396  72.89338056  72.71869575\n",
      "  72.13829624  72.52776385  70.30579351  73.89344893  70.06277845\n",
      "  74.16134953  72.77183026  72.11372862  71.29714412  72.39428258]\n"
     ]
    }
   ],
   "source": [
    "sample_means = compute_sample_statistics(n=100, iters=1000)\n",
    "print (sample_means)"
   ]
  },
  {
   "cell_type": "markdown",
   "metadata": {},
   "source": [
    "Let's look at the distribution of the sample means.  This distribution shows how much the results vary from one experiment to the next.\n",
    "\n",
    "Remember that this distribution is not the same as the distribution of weight in the population.  This is the distribution of results across repeated imaginary experiments."
   ]
  },
  {
   "cell_type": "code",
   "execution_count": 26,
   "metadata": {
    "collapsed": false
   },
   "outputs": [
    {
     "data": {
      "image/png": "[encoded data removed]",
      "text/plain": [
       "<matplotlib.figure.Figure at 0xa65be30>"
      ]
     },
     "metadata": {},
     "output_type": "display_data"
    }
   ],
   "source": [
    "pyplot.hist(sample_means, color=COLOR5)\n",
    "pyplot.xlabel('sample mean (n=100)')\n",
    "pyplot.ylabel('count')\n",
    "None"
   ]
  },
  {
   "cell_type": "markdown",
   "metadata": {},
   "source": [
    "The mean of the sample means is close to the actual population mean, which is nice, but not actually the important part."
   ]
  },
  {
   "cell_type": "code",
   "execution_count": 10,
   "metadata": {
    "collapsed": false
   },
   "outputs": [
    {
     "data": {
      "text/plain": [
       "72.652052080657413"
      ]
     },
     "execution_count": 10,
     "metadata": {},
     "output_type": "execute_result"
    }
   ],
   "source": [
    "sample_means.mean()"
   ]
  },
  {
   "cell_type": "markdown",
   "metadata": {},
   "source": [
    "The standard deviation of the sample means quantifies the variability from one experiment to the next, and reflects the precision of the estimate.\n",
    "\n",
    "This quantity is called the \"standard error\"."
   ]
  },
  {
   "cell_type": "code",
   "execution_count": 11,
   "metadata": {
    "collapsed": false
   },
   "outputs": [
    {
     "data": {
      "text/plain": [
       "1.6355262477017491"
      ]
     },
     "execution_count": 11,
     "metadata": {},
     "output_type": "execute_result"
    }
   ],
   "source": [
    "std_err = sample_means.std()\n",
    "std_err"
   ]
  },
  {
   "cell_type": "markdown",
   "metadata": {},
   "source": [
    "We can also use the distribution of sample means to compute a \"90% confidence interval\", which contains 90% of the experimental results:"
   ]
  },
  {
   "cell_type": "code",
   "execution_count": 12,
   "metadata": {
    "collapsed": false
   },
   "outputs": [
    {
     "data": {
      "text/plain": [
       "array([ 69.92149384,  75.40866638])"
      ]
     },
     "execution_count": 12,
     "metadata": {},
     "output_type": "execute_result"
    }
   ],
   "source": [
    "conf_int = numpy.percentile(sample_means, [5, 95])\n",
    "conf_int"
   ]
  },
  {
   "cell_type": "markdown",
   "metadata": {},
   "source": [
    "The following function takes an array of sample statistics and prints the SE and CI:"
   ]
  },
  {
   "cell_type": "code",
   "execution_count": 13,
   "metadata": {
    "collapsed": false
   },
   "outputs": [],
   "source": [
    "def summarize_sampling_distribution(sample_stats):\n",
    "    print('SE', sample_stats.std())\n",
    "    print('90% CI', numpy.percentile(sample_stats, [5, 95]))"
   ]
  },
  {
   "cell_type": "markdown",
   "metadata": {},
   "source": [
    "And here's what that looks like:"
   ]
  },
  {
   "cell_type": "code",
   "execution_count": 14,
   "metadata": {
    "collapsed": false
   },
   "outputs": [
    {
     "name": "stdout",
     "output_type": "stream",
     "text": [
      "SE 1.6355262477\n",
      "90% CI [ 69.92149384  75.40866638]\n"
     ]
    }
   ],
   "source": [
    "summarize_sampling_distribution(sample_means)"
   ]
  },
  {
   "cell_type": "markdown",
   "metadata": {},
   "source": [
    "Now we'd like to see what happens as we vary the sample size, `n`.  The following function takes `n`, runs 1000 simulated experiments, and summarizes the results."
   ]
  },
  {
   "cell_type": "code",
   "execution_count": 15,
   "metadata": {
    "collapsed": false
   },
   "outputs": [],
   "source": [
    "def plot_sample_stats(n, xlim=None):\n",
    "    sample_stats = compute_sample_statistics(n, iters=1000)\n",
    "    summarize_sampling_distribution(sample_stats)\n",
    "    pyplot.hist(sample_stats, color=COLOR2)\n",
    "    pyplot.xlabel('sample statistic')\n",
    "    pyplot.xlim(xlim)"
   ]
  },
  {
   "cell_type": "markdown",
   "metadata": {},
   "source": [
    "Here's a test run with `n=100`:"
   ]
  },
  {
   "cell_type": "code",
   "execution_count": 16,
   "metadata": {
    "collapsed": false
   },
   "outputs": [
    {
     "name": "stdout",
     "output_type": "stream",
     "text": [
      "SE 1.71202891175\n",
      "90% CI [ 69.96057332  75.58582662]\n"
     ]
    },
    {
     "data": {
      "image/png": "[encoded data removed]",
      "text/plain": [
       "<matplotlib.figure.Figure at 0x8935c30>"
      ]
     },
     "metadata": {},
     "output_type": "display_data"
    }
   ],
   "source": [
    "plot_sample_stats(100)"
   ]
  },
  {
   "cell_type": "markdown",
   "metadata": {},
   "source": [
    "Now we can use `interact` to run `plot_sample_stats` with different values of `n`.  Note: `xlim` sets the limits of the x-axis so the figure doesn't get rescaled as we vary `n`."
   ]
  },
  {
   "cell_type": "code",
   "execution_count": 17,
   "metadata": {
    "collapsed": false
   },
   "outputs": [
    {
     "name": "stdout",
     "output_type": "stream",
     "text": [
      "SE 0.532897741602\n",
      "90% CI [ 71.83232887  73.54373425]\n"
     ]
    },
    {
     "data": {
      "image/png": "[encoded data removed]",
      "text/plain": [
       "<matplotlib.figure.Figure at 0xa4cf310>"
      ]
     },
     "metadata": {},
     "output_type": "display_data"
    }
   ],
   "source": [
    "def sample_stat(sample):\n",
    "    return sample.mean()\n",
    "\n",
    "slider = widgets.IntSlider(min=10, max=1000, value=100)\n",
    "interact(plot_sample_stats, n=slider, xlim=fixed([55, 95]))\n",
    "None"
   ]
  },
  {
   "cell_type": "markdown",
   "metadata": {},
   "source": [
    "### Other sample statistics\n",
    "\n",
    "This framework works with any other quantity we want to estimate.  By changing `sample_stat`, you can compute the SE and CI for any sample statistic.\n",
    "\n",
    "**Exercise 1**: Fill in `sample_stat` below with any of these statistics:\n",
    "\n",
    "* Standard deviation of the sample.\n",
    "* Coefficient of variation, which is the sample standard deviation divided by the sample standard mean.\n",
    "* Min or Max\n",
    "* Median (which is the 50th percentile)\n",
    "* 10th or 90th percentile.\n",
    "* Interquartile range (IQR), which is the difference between the 75th and 25th percentiles.\n",
    "\n",
    "NumPy array methods you might find useful include `std`, `min`, `max`, and `percentile`.\n",
    "Depending on the results, you might want to adjust `xlim`."
   ]
  },
  {
   "cell_type": "code",
   "execution_count": 30,
   "metadata": {
    "collapsed": false
   },
   "outputs": [
    {
     "name": "stdout",
     "output_type": "stream",
     "text": [
      "SE 1.44152299663\n",
      "90% CI [ 14.55673889  19.22668957]\n"
     ]
    },
    {
     "data": {
      "image/png": "[encoded data removed]",
      "text/plain": [
       "<matplotlib.figure.Figure at 0xa4bf9d0>"
      ]
     },
     "metadata": {},
     "output_type": "display_data"
    }
   ],
   "source": [
    "def sample_stat(sample):\n",
    "    # TODO: replace the following line with another sample statistic\n",
    "    return sample.std()\n",
    "\n",
    "slider = widgets.IntSlider(min=10, max=100, value=100)\n",
    "interact(plot_sample_stats, n=slider, xlim=fixed([0, 20]))\n",
    "None"
   ]
  },
  {
   "cell_type": "markdown",
   "metadata": {},
   "source": [
    "STOP HERE\n",
    "---------\n",
    "\n",
    "We will regroup and discuss before going on."
   ]
  },
  {
   "cell_type": "markdown",
   "metadata": {},
   "source": [
    "Part Two\n",
    "========\n",
    "\n",
    "So far we have shown that if we know the actual distribution of the population, we can compute the sampling distribution for any sample statistic, and from that we can compute SE and CI.\n",
    "\n",
    "But in real life we don't know the actual distribution of the population.  If we did, we wouldn't need to estimate it!\n",
    "\n",
    "In real life, we use the sample to build a model of the population distribution, then use the model to generate the sampling distribution.  A simple and popular way to do that is \"resampling,\" which means we use the sample itself as a model of the population distribution and draw samples from it.\n",
    "\n",
    "Before we go on, I want to collect some of the code from Part One and organize it as a class.  This class represents a framework for computing sampling distributions."
   ]
  },
  {
   "cell_type": "code",
   "execution_count": 31,
   "metadata": {
    "collapsed": false
   },
   "outputs": [],
   "source": [
    "class Resampler(object):\n",
    "    \"\"\"Represents a framework for computing sampling distributions.\"\"\"\n",
    "    \n",
    "    def __init__(self, sample, xlim=None):\n",
    "        \"\"\"Stores the actual sample.\"\"\"\n",
    "        self.sample = sample\n",
    "        self.n = len(sample)\n",
    "        self.xlim = xlim\n",
    "        \n",
    "    def resample(self):\n",
    "        \"\"\"Generates a new sample by choosing from the original\n",
    "        sample with replacement.\n",
    "        \"\"\"\n",
    "        new_sample = numpy.random.choice(self.sample, self.n, replace=True)\n",
    "        return new_sample\n",
    "    \n",
    "    def sample_stat(self, sample):\n",
    "        \"\"\"Computes a sample statistic using the original sample or a\n",
    "        simulated sample.\n",
    "        \"\"\"\n",
    "        return sample.mean()\n",
    "    \n",
    "    def compute_sample_statistics(self, iters=1000):\n",
    "        \"\"\"Simulates many experiments and collects the resulting sample\n",
    "        statistics.\n",
    "        \"\"\"\n",
    "        stats = [self.sample_stat(self.resample()) for i in range(iters)]\n",
    "        return numpy.array(stats)\n",
    "    \n",
    "    def plot_sample_stats(self):\n",
    "        \"\"\"Runs simulated experiments and summarizes the results.\n",
    "        \"\"\"\n",
    "        sample_stats = self.compute_sample_statistics()\n",
    "        summarize_sampling_distribution(sample_stats)\n",
    "        pyplot.hist(sample_stats, color=COLOR2)\n",
    "        pyplot.xlabel('sample statistic')\n",
    "        pyplot.xlim(self.xlim)"
   ]
  },
  {
   "cell_type": "markdown",
   "metadata": {},
   "source": [
    "The following function instantiates a `Resampler` and runs it."
   ]
  },
  {
   "cell_type": "code",
   "execution_count": 32,
   "metadata": {
    "collapsed": false
   },
   "outputs": [],
   "source": [
    "def plot_resampled_stats(n=100):\n",
    "    sample = weight.rvs(n)\n",
    "    resampler = Resampler(sample, xlim=[55, 95])\n",
    "    resampler.plot_sample_stats()"
   ]
  },
  {
   "cell_type": "markdown",
   "metadata": {},
   "source": [
    "Here's a test run with `n=100`"
   ]
  },
  {
   "cell_type": "code",
   "execution_count": 38,
   "metadata": {
    "collapsed": false
   },
   "outputs": [
    {
     "name": "stdout",
     "output_type": "stream",
     "text": [
      "SE 1.62546791182\n",
      "90% CI [ 72.57963967  77.99631251]\n"
     ]
    },
    {
     "data": {
      "image/png": "[encoded data removed]",
      "text/plain": [
       "<matplotlib.figure.Figure at 0xa6d7530>"
      ]
     },
     "metadata": {},
     "output_type": "display_data"
    }
   ],
   "source": [
    "plot_resampled_stats(100)"
   ]
  },
  {
   "cell_type": "markdown",
   "metadata": {},
   "source": [
    "Now we can use `plot_resampled_stats` in an interaction:"
   ]
  },
  {
   "cell_type": "code",
   "execution_count": 34,
   "metadata": {
    "collapsed": false
   },
   "outputs": [
    {
     "name": "stdout",
     "output_type": "stream",
     "text": [
      "SE 1.88707135271\n",
      "90% CI [ 73.05181147  79.12901432]\n"
     ]
    },
    {
     "data": {
      "image/png": "[encoded data removed]",
      "text/plain": [
       "<matplotlib.figure.Figure at 0xaf6ca30>"
      ]
     },
     "metadata": {},
     "output_type": "display_data"
    }
   ],
   "source": [
    "slider = widgets.IntSlider(min=10, max=1000, value=100)\n",
    "interact(plot_resampled_stats, n=slider, xlim=fixed([1, 15]))\n",
    "None"
   ]
  },
  {
   "cell_type": "markdown",
   "metadata": {},
   "source": [
    "**Exercise 2**: write a new class called `StdResampler` that inherits from `Resampler` and overrides `sample_stat` so it computes the standard deviation of the resampled data."
   ]
  },
  {
   "cell_type": "code",
   "execution_count": 41,
   "metadata": {
    "collapsed": false
   },
   "outputs": [],
   "source": [
    "# Solution goes here\n",
    "class StdResampler(Resampler):\n",
    "    \n",
    "    def sample_state(self,sample):\n",
    "        return sample.std()"
   ]
  },
  {
   "cell_type": "markdown",
   "metadata": {},
   "source": [
    "Test your code using the cell below:"
   ]
  },
  {
   "cell_type": "code",
   "execution_count": 44,
   "metadata": {
    "collapsed": false
   },
   "outputs": [
    {
     "name": "stdout",
     "output_type": "stream",
     "text": [
      "SE 1.56327201272\n",
      "90% CI [ 70.43320348  75.57724458]\n"
     ]
    },
    {
     "data": {
      "image/png": "[encoded data removed]",
      "text/plain": [
       "<matplotlib.figure.Figure at 0xac43470>"
      ]
     },
     "metadata": {},
     "output_type": "display_data"
    }
   ],
   "source": [
    "def plot_resampled_stats(n=100):\n",
    "    sample = weight.rvs(n)\n",
    "    resampler = StdResampler(sample, xlim=[0, 100])\n",
    "    resampler.plot_sample_stats()\n",
    "    \n",
    "plot_resampled_stats()"
   ]
  },
  {
   "cell_type": "markdown",
   "metadata": {},
   "source": [
    "When your `StdResampler` is working, you should be able to interact with it:"
   ]
  },
  {
   "cell_type": "code",
   "execution_count": 45,
   "metadata": {
    "collapsed": false
   },
   "outputs": [
    {
     "name": "stdout",
     "output_type": "stream",
     "text": [
      "SE 0.518328720871\n",
      "90% CI [ 71.54379049  73.21834752]\n"
     ]
    },
    {
     "data": {
      "image/png": "[encoded data removed]",
      "text/plain": [
       "<matplotlib.figure.Figure at 0xaedc0b0>"
      ]
     },
     "metadata": {},
     "output_type": "display_data"
    }
   ],
   "source": [
    "slider = widgets.IntSlider(min=10, max=1000, value=100)\n",
    "interact(plot_resampled_stats, n=slider)\n",
    "None"
   ]
  },
  {
   "cell_type": "markdown",
   "metadata": {},
   "source": [
    "STOP HERE\n",
    "---------\n",
    "\n",
    "We will regroup and discuss before going on."
   ]
  },
  {
   "cell_type": "markdown",
   "metadata": {},
   "source": [
    "Part Three\n",
    "==========\n",
    "\n",
    "We can extend this framework to compute SE and CI for a difference in means.\n",
    "\n",
    "For example, men are heavier than women on average.  Here's the women's distribution again (from BRFSS data):"
   ]
  },
  {
   "cell_type": "code",
   "execution_count": 46,
   "metadata": {
    "collapsed": false
   },
   "outputs": [
    {
     "data": {
      "text/plain": [
       "(72.697645732966876, 16.944043048498038)"
      ]
     },
     "execution_count": 46,
     "metadata": {},
     "output_type": "execute_result"
    }
   ],
   "source": [
    "female_weight = scipy.stats.lognorm(0.23, 0, 70.8)\n",
    "female_weight.mean(), female_weight.std()"
   ]
  },
  {
   "cell_type": "markdown",
   "metadata": {},
   "source": [
    "And here's the men's distribution:"
   ]
  },
  {
   "cell_type": "code",
   "execution_count": 47,
   "metadata": {
    "collapsed": false
   },
   "outputs": [
    {
     "data": {
      "text/plain": [
       "(89.063576984335782, 17.992335889366288)"
      ]
     },
     "execution_count": 47,
     "metadata": {},
     "output_type": "execute_result"
    }
   ],
   "source": [
    "male_weight = scipy.stats.lognorm(0.20, 0, 87.3)\n",
    "male_weight.mean(), male_weight.std()"
   ]
  },
  {
   "cell_type": "markdown",
   "metadata": {},
   "source": [
    "I'll simulate a sample of 100 men and 100 women:"
   ]
  },
  {
   "cell_type": "code",
   "execution_count": 48,
   "metadata": {
    "collapsed": false
   },
   "outputs": [],
   "source": [
    "female_sample = female_weight.rvs(100)\n",
    "male_sample = male_weight.rvs(100)"
   ]
  },
  {
   "cell_type": "markdown",
   "metadata": {},
   "source": [
    "The difference in means should be about 17 kg, but will vary from one random sample to the next:"
   ]
  },
  {
   "cell_type": "code",
   "execution_count": 51,
   "metadata": {
    "collapsed": false
   },
   "outputs": [
    {
     "data": {
      "text/plain": [
       "16.966980668942384"
      ]
     },
     "execution_count": 51,
     "metadata": {},
     "output_type": "execute_result"
    }
   ],
   "source": [
    "male_sample.mean() - female_sample.mean()"
   ]
  },
  {
   "cell_type": "markdown",
   "metadata": {},
   "source": [
    "Here's the function that computes Cohen's $d$ again:"
   ]
  },
  {
   "cell_type": "code",
   "execution_count": 52,
   "metadata": {
    "collapsed": false
   },
   "outputs": [],
   "source": [
    "def CohenEffectSize(group1, group2):\n",
    "    \"\"\"Compute Cohen's d.\n",
    "\n",
    "    group1: Series or NumPy array\n",
    "    group2: Series or NumPy array\n",
    "\n",
    "    returns: float\n",
    "    \"\"\"\n",
    "    diff = group1.mean() - group2.mean()\n",
    "\n",
    "    n1, n2 = len(group1), len(group2)\n",
    "    var1 = group1.var()\n",
    "    var2 = group2.var()\n",
    "\n",
    "    pooled_var = (n1 * var1 + n2 * var2) / (n1 + n2)\n",
    "    d = diff / numpy.sqrt(pooled_var)\n",
    "    return d"
   ]
  },
  {
   "cell_type": "markdown",
   "metadata": {},
   "source": [
    "The difference in weight between men and women is about 1 standard deviation:"
   ]
  },
  {
   "cell_type": "code",
   "execution_count": 53,
   "metadata": {
    "collapsed": false
   },
   "outputs": [
    {
     "data": {
      "text/plain": [
       "1.062322715865563"
      ]
     },
     "execution_count": 53,
     "metadata": {},
     "output_type": "execute_result"
    }
   ],
   "source": [
    "CohenEffectSize(male_sample, female_sample)"
   ]
  },
  {
   "cell_type": "markdown",
   "metadata": {},
   "source": [
    "Now we can write a version of the `Resampler` that computes the sampling distribution of $d$."
   ]
  },
  {
   "cell_type": "code",
   "execution_count": 54,
   "metadata": {
    "collapsed": false
   },
   "outputs": [],
   "source": [
    "class CohenResampler(Resampler):\n",
    "    def __init__(self, group1, group2, xlim=None):\n",
    "        self.group1 = group1\n",
    "        self.group2 = group2\n",
    "        self.xlim = xlim\n",
    "        \n",
    "    def resample(self):\n",
    "        group1 = numpy.random.choice(self.group1, len(self.group1), replace=True)\n",
    "        group2 = numpy.random.choice(self.group2, len(self.group2), replace=True)\n",
    "        return group1, group2\n",
    "    \n",
    "    def sample_stat(self, groups):\n",
    "        group1, group2 = groups\n",
    "        return CohenEffectSize(group1, group2)\n",
    "    \n",
    "    # NOTE: The following functions are the same as the ones in Resampler,\n",
    "    # so I could just inherit them, but I'm including them for readability\n",
    "    def compute_sample_statistics(self, iters=1000):\n",
    "        stats = [self.sample_stat(self.resample()) for i in range(iters)]\n",
    "        return numpy.array(stats)\n",
    "    \n",
    "    def plot_sample_stats(self):\n",
    "        sample_stats = self.compute_sample_statistics()\n",
    "        summarize_sampling_distribution(sample_stats)\n",
    "        pyplot.hist(sample_stats, color=COLOR2)\n",
    "        pyplot.xlabel('sample statistic')\n",
    "        pyplot.xlim(self.xlim)"
   ]
  },
  {
   "cell_type": "markdown",
   "metadata": {},
   "source": [
    "Now we can instantiate a `CohenResampler` and plot the sampling distribution."
   ]
  },
  {
   "cell_type": "code",
   "execution_count": 55,
   "metadata": {
    "collapsed": false
   },
   "outputs": [
    {
     "name": "stdout",
     "output_type": "stream",
     "text": [
      "SE 0.15355212749\n",
      "90% CI [ 0.83243111  1.33259036]\n"
     ]
    },
    {
     "data": {
      "image/png": "[encoded data removed]",
      "text/plain": [
       "<matplotlib.figure.Figure at 0xa6f6290>"
      ]
     },
     "metadata": {},
     "output_type": "display_data"
    }
   ],
   "source": [
    "resampler = CohenResampler(male_sample, female_sample)\n",
    "resampler.plot_sample_stats()"
   ]
  },
  {
   "cell_type": "markdown",
   "metadata": {},
   "source": [
    "This example demonstrates an advantage of the computational framework over mathematical analysis.  Statistics like Cohen's $d$, which is the ratio of other statistics, are relatively difficult to analyze.  But with a computational approach, all sample statistics are equally \"easy\".\n",
    "\n",
    "One note on vocabulary: what I am calling \"resampling\" here is a specific kind of resampling called \"bootstrapping\".  Other techniques that are also considering resampling include permutation tests, which we'll see in the next section, and \"jackknife\" resampling.  You can read more at <http://en.wikipedia.org/wiki/Resampling_(statistics)>."
   ]
  },
  {
   "cell_type": "code",
   "execution_count": null,
   "metadata": {
    "collapsed": false
   },
   "outputs": [],
   "source": []
  }
 ],
 "metadata": {
  "kernelspec": {
   "display_name": "Python [conda root]",
   "language": "python",
   "name": "conda-root-py"
  },
  "language_info": {
   "codemirror_mode": {
    "name": "ipython",
    "version": 2
   },
   "file_extension": ".py",
   "mimetype": "text/x-python",
   "name": "python",
   "nbconvert_exporter": "python",
   "pygments_lexer": "ipython2",
   "version": "2.7.12"
  },
  "widgets": {
   "state": {
    "3b3052e853914169b49f48d016cb9a24": {
     "views": [
      {
       "cell_index": 44
      }
     ]
    },
    "58488ce7ea1e42f58b4d245321e4f1b1": {
     "views": [
      {
       "cell_index": 35
      }
     ]
    },
    "5fcbf8636d474612b4ffbe32a35ace3f": {
     "views": [
      {
       "cell_index": 50
      }
     ]
    },
    "670fbe85b1ee42f99c1225a8eaed8481": {
     "views": [
      {
       "cell_index": 33
      }
     ]
    }
   },
   "version": "1.2.0"
  }
 },
 "nbformat": 4,
 "nbformat_minor": 0
}
